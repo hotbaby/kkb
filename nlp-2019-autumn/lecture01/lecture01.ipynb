{
 "cells": [
  {
   "cell_type": "markdown",
   "metadata": {},
   "source": [
    "# NLP Lecture 1"
   ]
  },
  {
   "cell_type": "markdown",
   "metadata": {},
   "source": [
    "## 1. Rule Based AI Paradigm"
   ]
  },
  {
   "cell_type": "code",
   "execution_count": 1,
   "metadata": {},
   "outputs": [],
   "source": [
    "hello_rules = \"\"\"\n",
    "say_hello = names hello tail \n",
    "names = name names | name\n",
    "name = Jhon | Mike | 老梁 | 老刘 \n",
    "hello = 你好 | 您来啦 | 快请进\n",
    "tail = 呀 | ！\n",
    "\"\"\""
   ]
  },
  {
   "cell_type": "markdown",
   "metadata": {},
   "source": [
    "[Python Grammar specification](https://docs.python.org/3/reference/grammar.html)"
   ]
  },
  {
   "cell_type": "code",
   "execution_count": 2,
   "metadata": {},
   "outputs": [],
   "source": [
    "import random\n",
    "\n",
    "def get_generation_by_gram(grammar_str, target, stmt_split='=', or_split='|'):\n",
    "    def generate(grammar_rule, target):\n",
    "        if target in grammar_rule:\n",
    "            candidate = random.choice(grammar_rule[target])\n",
    "            return ''.join([generate(grammar_rule, c) for c in candidate.split()])\n",
    "        else:\n",
    "            return target\n",
    "\n",
    "    # parse grammar rule\n",
    "    rules = {}\n",
    "    for line in grammar_str.split('\\n'):\n",
    "        line = line.strip()\n",
    "\n",
    "        if not line: continue\n",
    "\n",
    "        stmt, expr = line.split(stmt_split)\n",
    "        rules[stmt.strip()] = expr.split('|')\n",
    "\n",
    "    return generate(rules, target)\n",
    "    "
   ]
  },
  {
   "cell_type": "code",
   "execution_count": 3,
   "metadata": {},
   "outputs": [
    {
     "data": {
      "text/plain": [
       "'MikeMike你好呀'"
      ]
     },
     "execution_count": 3,
     "metadata": {},
     "output_type": "execute_result"
    }
   ],
   "source": [
    "get_generation_by_gram(hello_rules, 'say_hello')"
   ]
  },
  {
   "cell_type": "code",
   "execution_count": 4,
   "metadata": {},
   "outputs": [],
   "source": [
    "simple_programming = \"\"\"\n",
    "if_stmt => if ( cond ) { stmt }\n",
    "cond => var op var\n",
    "op => | == | < | >= | <= \n",
    "stmt => assign | if_stmt\n",
    "assign => var = var\n",
    "var => char var | char\n",
    "char => a | b |  c | d | 0 | 1 | 2 | 3\n",
    "\"\"\""
   ]
  },
  {
   "cell_type": "code",
   "execution_count": 5,
   "metadata": {},
   "outputs": [
    {
     "name": "stdout",
     "output_type": "stream",
     "text": [
      "if(acd){if(3d<1){bdbcb=c}}\n",
      "if(c<=a){c=2c}\n",
      "if(1<=a){c=2}\n",
      "if(20cd<=d){if(02b1){c=aaca}}\n",
      "if(b<=1){if(32a<c3){b30ab3ad=3aba}}\n"
     ]
    }
   ],
   "source": [
    "for i in range(3):\n",
    "    print(get_generation_by_gram(simple_programming, 'if_stmt', '=>'))"
   ]
  },
  {
   "cell_type": "markdown",
   "metadata": {},
   "source": [
    "## 2. Probability Based AI Paradigm"
   ]
  },
  {
   "cell_type": "markdown",
   "metadata": {},
   "source": [
    "### 全概率公式和贝叶斯准则"
   ]
  },
  {
   "cell_type": "markdown",
   "metadata": {},
   "source": [
    "**全概率公式**\n",
    "\n",
    "设A1, A2, ..., An是一组互不相容的事件，形成样本空间的一个分割（每个实验结果必定使得其中一个事件发生）。又假设对于每一个i, P(Ai) > 0，则对于任何事件B，下列公式成立"
   ]
  },
  {
   "cell_type": "markdown",
   "metadata": {},
   "source": [
    "$$P(B) = P(A_1)P(B|A_1) + ... + P(A_n)P(B|A_n)$$"
   ]
  },
  {
   "cell_type": "markdown",
   "metadata": {},
   "source": [
    "**贝叶斯准则**\n",
    "\n",
    "设A1, A2, ... , An是一组互不相容的事件，形成样本空间的一个分割（每一个实验结果必定使得其中一个事件发生）。又假定对于每一个i,P(Ai) > 0. 则对于任何事件B，只要它满足P(B) > 0，下列公式成立"
   ]
  },
  {
   "cell_type": "markdown",
   "metadata": {},
   "source": [
    "$$P(A_i|B) = \\frac {P(A_i)P(B|A_i)}{P(A_1)P(B|A_1) + ... + P(A_n)P(B|A_n)}$$"
   ]
  },
  {
   "cell_type": "markdown",
   "metadata": {},
   "source": [
    "### Language Model\n",
    "\n",
    "The probability of sentence."
   ]
  },
  {
   "cell_type": "markdown",
   "metadata": {},
   "source": [
    "$$P(sentence) = P(w_1, w_2, ... , w_n)$$"
   ]
  }
 ],
 "metadata": {
  "kernelspec": {
   "display_name": "Python 3",
   "language": "python",
   "name": "python3"
  },
  "language_info": {
   "codemirror_mode": {
    "name": "ipython",
    "version": 3
   },
   "file_extension": ".py",
   "mimetype": "text/x-python",
   "name": "python",
   "nbconvert_exporter": "python",
   "pygments_lexer": "ipython3",
   "version": "3.7.2"
  }
 },
 "nbformat": 4,
 "nbformat_minor": 2
}
