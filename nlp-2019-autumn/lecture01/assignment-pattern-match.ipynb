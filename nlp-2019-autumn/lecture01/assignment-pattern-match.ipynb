{
 "cells": [
  {
   "cell_type": "markdown",
   "metadata": {},
   "source": [
    "# 基于模式匹配的对话机器人实现\n"
   ]
  },
  {
   "cell_type": "markdown",
   "metadata": {},
   "source": [
    "### Pattern Match\n",
    "\n",
    "机器能否实现对话，这个长久以来是衡量机器人是否具有智能的一个重要标志。 Alan Turing早在其文中就提出过一个测试机器智能程度的方法，该方法主要是考察人类是否能够通过对话内容区分对方是机器人还是真正的人类，如果人类无法区分，我们就称之为具有”智能“。而这个测试，后来被大家叫做”图灵测试“，之后也被翻拍成了一步著名电影，叫做《模拟游戏》。 \n",
    "\n",
    "\n",
    "\n",
    "既然图灵当年以此作为机器是否具备智能的标志，这项任务肯定是复杂的。自从 1960s 开始，诸多科学家就希望从各个方面来解决这个问题，直到如今，都只能解决一部分问题。 目前对话机器人的建立方法有很多，今天的作业中，我们为大家提供一共快速的基于模板的对话机器人配置方式。"
   ]
  },
  {
   "cell_type": "code",
   "execution_count": 99,
   "metadata": {},
   "outputs": [],
   "source": [
    "def is_varaible(pattern):\n",
    "    return pattern.startswith('?') and all(s.isalpha() for s in pattern[1:])"
   ]
  },
  {
   "cell_type": "code",
   "execution_count": 100,
   "metadata": {},
   "outputs": [],
   "source": [
    "def pattern_match(pattern, saying):\n",
    "    if not pattern or not saying: return []\n",
    "\n",
    "    if is_varaible(pattern[0]):\n",
    "        return [(pattern[0], saying[0])] + pattern_match(pattern[1:], saying[1:])\n",
    "    else:\n",
    "        if pattern[0] != saying[0]:\n",
    "            return []\n",
    "        else:\n",
    "            return pattern_match(pattern[1:], saying[1:])"
   ]
  },
  {
   "cell_type": "code",
   "execution_count": 101,
   "metadata": {},
   "outputs": [
    {
     "data": {
      "text/plain": [
       "[('?A', '3'), ('?B', '2'), ('?C', '5')]"
      ]
     },
     "execution_count": 101,
     "metadata": {},
     "output_type": "execute_result"
    }
   ],
   "source": [
    "pattern_match('?A + ?B = ?C'.split(), '3 + 2 = 5'.split())"
   ]
  },
  {
   "cell_type": "code",
   "execution_count": 102,
   "metadata": {},
   "outputs": [],
   "source": [
    "def substitute(rule, parsed_rules):\n",
    "    if not rule:\n",
    "        return []\n",
    "\n",
    "    return [parsed_rules.get(rule[0], rule[0])] + substitute(rule[1:], parsed_rules)"
   ]
  },
  {
   "cell_type": "code",
   "execution_count": 103,
   "metadata": {},
   "outputs": [
    {
     "data": {
      "text/plain": [
       "'What if you mean if you got Iphone'"
      ]
     },
     "execution_count": 103,
     "metadata": {},
     "output_type": "execute_result"
    }
   ],
   "source": [
    "got_patterns = pattern_match('I want ?X'.split(), 'I want Iphone'.split())\n",
    "\n",
    "' '.join(substitute('What if you mean if you got ?X'.split(), dict(got_patterns)))"
   ]
  },
  {
   "cell_type": "code",
   "execution_count": 104,
   "metadata": {},
   "outputs": [],
   "source": [
    "defined_patterns = {\n",
    "    \"I need ?X\": [\"Image you will get ?X soon\", \"Why do you need ?X ?\"], \n",
    "    \"My ?X told me something\": [\"Talk about more about your ?X\", \"How do you think about your ?X ?\"]\n",
    "}"
   ]
  },
  {
   "cell_type": "code",
   "execution_count": 105,
   "metadata": {},
   "outputs": [],
   "source": [
    "import random\n",
    "\n",
    "\n",
    "def get_response(saying, rules=defined_patterns):\n",
    "    for pattern in rules:\n",
    "        got_patterns = pattern_match(pattern.split(), saying.split())\n",
    "        if got_patterns:\n",
    "            return ' '.join(substitute(random.choice(rules[pattern]).split(), dict(got_patterns)))\n",
    "    else:\n",
    "        return \"I don't konwn how to response you.\""
   ]
  },
  {
   "cell_type": "code",
   "execution_count": 106,
   "metadata": {},
   "outputs": [
    {
     "name": "stdout",
     "output_type": "stream",
     "text": [
      "Image you will get Iphone soon\n",
      "How do you think about your Mother ?\n",
      "I don't konwn how to response you.\n"
     ]
    }
   ],
   "source": [
    "print(get_response('I need Iphone'))\n",
    "print(get_response('My Mother told me something'))\n",
    "print(get_response(\"It's fine day\"))"
   ]
  },
  {
   "cell_type": "markdown",
   "metadata": {},
   "source": [
    "## Segment Match"
   ]
  },
  {
   "cell_type": "markdown",
   "metadata": {},
   "source": [
    "我们上边的这种形式，能够进行一些初级的对话了，但是我们的模式逐字逐句匹配的， \"I need iPhone\" 和 \"I need ?X\" 可以匹配，但是\"I need an iPhone\" 和 \"I need ?X\" 就不匹配了，那怎么办？ \n",
    "\n",
    "为了解决这个问题，我们可以新建一个变量类型 \"?\\*X\", 这种类型多了一个星号(\\*),表示匹配多个"
   ]
  },
  {
   "cell_type": "code",
   "execution_count": 107,
   "metadata": {},
   "outputs": [],
   "source": [
    "def is_pattern_segment(pattern):\n",
    "    return pattern.startswith('?*') and all(s.isalpha() for s in pattern[2:])"
   ]
  },
  {
   "cell_type": "code",
   "execution_count": 108,
   "metadata": {},
   "outputs": [
    {
     "data": {
      "text/plain": [
       "True"
      ]
     },
     "execution_count": 108,
     "metadata": {},
     "output_type": "execute_result"
    }
   ],
   "source": [
    "is_pattern_segment('?*Hello')"
   ]
  },
  {
   "cell_type": "code",
   "execution_count": 557,
   "metadata": {},
   "outputs": [],
   "source": [
    "fail = [True, None]\n",
    "\n",
    "def is_match(rest, saying):\n",
    "    if not rest or not saying:\n",
    "        return True\n",
    "\n",
    "    if not all(a.isalpha() for a in rest[0]):\n",
    "        return True\n",
    "\n",
    "    if rest[0] != saying[0]:\n",
    "        return False\n",
    "\n",
    "    return is_match(rest[1:], saying[1:])\n",
    "    \n",
    "\n",
    "def segment_match(pattern, saying):\n",
    "    seg_pattern, rest = pattern[0], pattern[1:]\n",
    "    seg_pattern = seg_pattern.replace('?*', '?')\n",
    "\n",
    "    if not rest: return (seg_pattern, saying), len(saying)\n",
    "\n",
    "    for i, token in enumerate(saying):\n",
    "        if rest[0] == token and is_match(rest[1:], saying[(i+1):]):\n",
    "            return (seg_pattern, saying[:i]), i\n",
    "\n",
    "    return (seg_pattern, saying), len(saying)\n",
    "\n",
    "\n",
    "def pattern_match_with_seg(pattern, saying):\n",
    "    if not pattern or not saying: return []\n",
    "\n",
    "    if is_varaible(pattern[0]):\n",
    "        return [(pattern[0], saying[0])] + pattern_match_with_seg(pattern[1:] ,saying[1:])\n",
    "    elif is_pattern_segment(pattern[0]):\n",
    "        match, index = segment_match(pattern, saying)\n",
    "        return  [match] + pattern_match_with_seg(pattern[1:], saying[index:])\n",
    "    elif pattern[0] == saying[0]:\n",
    "        return pattern_match_with_seg(pattern[1:], saying[1:])\n",
    "    else:\n",
    "        return [True, None]\n",
    "    "
   ]
  },
  {
   "cell_type": "code",
   "execution_count": 115,
   "metadata": {},
   "outputs": [
    {
     "data": {
      "text/plain": [
       "[('?P', ['My', 'dog'])]"
      ]
     },
     "execution_count": 115,
     "metadata": {},
     "output_type": "execute_result"
    }
   ],
   "source": [
    "pattern_match_with_seg('?*P is very good!'.split(), 'My dog is very good!'.split())"
   ]
  },
  {
   "cell_type": "code",
   "execution_count": 111,
   "metadata": {},
   "outputs": [],
   "source": [
    "response_pair = {\n",
    "    'I need ?X': [\n",
    "        \"Why do you neeed ?X\"\n",
    "    ],\n",
    "    \"I dont like my ?X\": [\"What bad things did ?X do for you?\"]\n",
    "}"
   ]
  },
  {
   "cell_type": "code",
   "execution_count": 141,
   "metadata": {},
   "outputs": [],
   "source": [
    "def pattern2dict(patterns):\n",
    "    return {k: ' '.join(v) if isinstance(v, list) else v for k, v in patterns}\n"
   ]
  },
  {
   "cell_type": "code",
   "execution_count": 145,
   "metadata": {},
   "outputs": [
    {
     "name": "stdout",
     "output_type": "stream",
     "text": [
      "Why do you neeed an ipad and an macbookpro\n",
      "What bad things did Boss for you?\n"
     ]
    }
   ],
   "source": [
    "got_patterns = pattern_match_with_seg('I need ?*X'.split(), 'I need an ipad and an macbookpro'.split())\n",
    "\n",
    "print(' '.join(substitute(\"Why do you neeed ?X\".split(), pattern2dict(got_patterns))))\n",
    "\n",
    "\n",
    "print(' '.join(substitute('What bad things did ?X for you?'.split(), pattern2dict(\n",
    "            pattern_match_with_seg('I dont like my ?X'.split(), 'I dont like my Boss'.split())))))"
   ]
  },
  {
   "cell_type": "code",
   "execution_count": 147,
   "metadata": {},
   "outputs": [
    {
     "data": {
      "text/plain": [
       "'Hi, how do you do'"
      ]
     },
     "execution_count": 147,
     "metadata": {},
     "output_type": "execute_result"
    }
   ],
   "source": [
    "# (\"?*X hello ?*Y\", \"Hi, how do you do\")\n",
    "\n",
    "' '.join(substitute('Hi, how do you do'.split(), \n",
    "                    pattern2dict(pattern_match_with_seg('?*X hello ?*Y'.split(), 'hello Mike'))))"
   ]
  },
  {
   "cell_type": "markdown",
   "metadata": {},
   "source": [
    "## Assignment"
   ]
  },
  {
   "cell_type": "markdown",
   "metadata": {},
   "source": [
    "### 问题1\n",
    "编写一个程序, get_response(saying, response_rules)输入是一个字符串 + 我们定义的 rules，例如上边我们所写的 pattern， 输出是一个回答。"
   ]
  },
  {
   "cell_type": "code",
   "execution_count": 258,
   "metadata": {},
   "outputs": [],
   "source": [
    "import random\n",
    "\n",
    "defined_patterns = {\n",
    "    \"I need ?*x\": [\"Image you will get ?x soon\", \"Why do you need ?x ?\"], \n",
    "    \"My ?*X told me something\": [\"Talk about more about your ?X\", \"How do you think about your ?X ?\"],\n",
    "}\n",
    "\n",
    "\n",
    "def get_response(saying, rules=defined_patterns):\n",
    "    for pattern in rules:\n",
    "        got_patterns = pattern_match_with_seg(pattern.split(), saying.split())\n",
    "        print(got_patterns)\n",
    "        if got_patterns:\n",
    "            return ' '.join(substitute(random.choice(rules[pattern]).split(), pattern2dict(got_patterns)))\n",
    "    else:\n",
    "        return \"I don't konwn how to response you.\""
   ]
  },
  {
   "cell_type": "code",
   "execution_count": 259,
   "metadata": {},
   "outputs": [
    {
     "name": "stdout",
     "output_type": "stream",
     "text": [
      "[('?x', ['an', 'Ipad'])]\n"
     ]
    },
    {
     "data": {
      "text/plain": [
       "'Why do you need an Ipad ?'"
      ]
     },
     "execution_count": 259,
     "metadata": {},
     "output_type": "execute_result"
    }
   ],
   "source": [
    "get_response('I need an Ipad')"
   ]
  },
  {
   "cell_type": "markdown",
   "metadata": {},
   "source": [
    "### 问题2\n",
    "改写以上程序，将程序变成能够支持中文输入的模式。\n",
    "*提示*: 你可以需用用到 jieba 分词"
   ]
  },
  {
   "cell_type": "code",
   "execution_count": 620,
   "metadata": {},
   "outputs": [],
   "source": [
    "rule_responses = {\n",
    "    '?*x hello ?*y': ['How do you do'],\n",
    "    '?*x I want ?*y': ['what would it mean if you got ?y', 'Why do you want ?y', 'Suppose you got ?y soon'],\n",
    "    '?*x if ?*y': ['Do you really think its likely that ?y', 'Do you wish that ?y', 'What do you think about ?y', 'Really-- if ?y'],\n",
    "    '?*x no ?*y': ['why not?', 'You are being a negative', 'Are you saying \\'No\\' just to be negative?'],\n",
    "    '?*x I was ?*y': ['Were you really', 'Perhaps I already knew you were ?y', 'Why do you tell me you were ?y now?'],\n",
    "    '?*x I feel ?*y': ['Do you often feel ?y ?', 'What other feelings do you have?'],\n",
    "    '?*x你好?*y': ['你好呀', '请告诉我你的问题'],\n",
    "    '?*x我想?*y': ['你觉得?y有什么意义呢？', '为什么你想?y', '你可以想想你很快就可以?y了'],\n",
    "    '?*x我想要?*y': ['?x想问你，你觉得?y有什么意义呢?', '为什么你想?y', '?x觉得... 你可以想想你很快就可以有?y了', '你看?x像?y不', '我看你就像?y'],\n",
    "    '?*x喜欢?*y': ['喜欢?y的哪里？', '?y有什么好的呢？', '你想要?y吗？'],\n",
    "    '?*x讨厌?*y': ['?y怎么会那么讨厌呢?', '讨厌?y的哪里？', '?y有什么不好呢？', '你不想要?y吗？'],\n",
    "    '?*xAI?*y': ['你为什么要提AI的事情？', '你为什么觉得AI要解决你的问题？'],\n",
    "    '?*x机器人?*y': ['你为什么要提机器人的事情？', '你为什么觉得机器人要解决你的问题？'],\n",
    "    '?*x对不起?*y': ['不用道歉', '你为什么觉得你需要道歉呢?'],\n",
    "    '?*x我记得?*y': ['你经常会想起这个吗？', '除了?y你还会想起什么吗？', '你为什么和我提起?y'],\n",
    "    '?*x如果?*y': ['你真的觉得?y会发生吗？', '你希望?y吗?', '真的吗？如果?y的话', '关于?y你怎么想？'],\n",
    "    '?*x我?*z梦见?*y':['真的吗? --- ?y', '你在醒着的时候，以前想象过?y吗？', '你以前梦见过?y吗'],\n",
    "    '?*x妈妈?*y': ['你家里除了?y还有谁?', '嗯嗯，多说一点和你家里有关系的', '她对你影响很大吗？'],\n",
    "    '?*x爸爸?*y': ['你家里除了?y还有谁?', '嗯嗯，多说一点和你家里有关系的', '他对你影响很大吗？', '每当你想起你爸爸的时候， 你还会想起其他的吗?'],\n",
    "    '?*x我愿意?*y': ['我可以帮你?y吗？', '你可以解释一下，为什么想?y'],\n",
    "    '?*x我很难过，因为?*y': ['我听到你这么说， 也很难过', '?y不应该让你这么难过的'],\n",
    "    '?*x难过?*y': ['我听到你这么说， 也很难过',\n",
    "                 '不应该让你这么难过的，你觉得你拥有什么，就会不难过?',\n",
    "                 '你觉得事情变成什么样，你就不难过了?'],\n",
    "    '?*x就像?*y': ['你觉得?x和?y有什么相似性？', '?x和?y真的有关系吗？', '怎么说？'],\n",
    "    '?*x和?*y都?*z': ['你觉得?z有什么问题吗?', '?z会对你有什么影响呢?'],\n",
    "    '?*x和?*y一样?*z': ['你觉得?z有什么问题吗?', '?z会对你有什么影响呢?'],\n",
    "    '?*x我是?*y': ['真的吗？', '?x想告诉你，或许我早就知道你是?y', '你为什么现在才告诉我你是?y'],\n",
    "    '?*x我是?*y吗': ['如果你是?y会怎么样呢？', '你觉得你是?y吗', '如果你是?y，那一位着什么?'],\n",
    "    '?*x你是?*y吗':  ['你为什么会对我是不是?y感兴趣?', '那你希望我是?y吗', '你要是喜欢， 我就会是?y'],\n",
    "    '?*x你是?*y' : ['为什么你觉得我是?y'],\n",
    "    '?*x因为?*y' : ['?y是真正的原因吗？', '你觉得会有其他原因吗?'],\n",
    "    '?*x我不能?*y': ['你或许现在就能?*y', '如果你能?*y,会怎样呢？'],\n",
    "    '?*x我觉得?*y': ['你经常这样感觉吗？', '除了到这个，你还有什么其他的感觉吗？'],\n",
    "    '?*x我?*y你?*z': ['其实很有可能我们互相?y'],\n",
    "    '?*x你为什么不?*y': ['你自己为什么不?y', '你觉得我不会?y', '等我心情好了，我就?y'],\n",
    "    '?*x好的?*y': ['好的', '你是一个很正能量的人'],\n",
    "    '?*x嗯嗯?*y': ['好的', '你是一个很正能量的人'],\n",
    "    '?*x不嘛?*y': ['为什么不？', '你有一点负能量', '你说 不，是想表达不想的意思吗？'],\n",
    "    '?*x不要?*y': ['为什么不？', '你有一点负能量', '你说 不，是想表达不想的意思吗？'],\n",
    "    '?*x有些人?*y': ['具体是哪些人呢?'],\n",
    "    '?*x有的人?*y': ['具体是哪些人呢?'],\n",
    "    '?*x某些人?*y': ['具体是哪些人呢?'],\n",
    "    '?*x每个人?*y': ['我确定不是人人都是', '你能想到一点特殊情况吗？', '例如谁？', '你看到的其实只是一小部分人'],\n",
    "    '?*x所有人?*y': ['我确定不是人人都是', '你能想到一点特殊情况吗？', '例如谁？', '你看到的其实只是一小部分人'],\n",
    "    '?*x总是?*y': ['你能想到一些其他情况吗?', '例如什么时候?', '你具体是说哪一次？', '真的---总是吗？'],\n",
    "    '?*x一直?*y': ['你能想到一些其他情况吗?', '例如什么时候?', '你具体是说哪一次？', '真的---总是吗？'],\n",
    "    '?*x或许?*y': ['你看起来不太确定'],\n",
    "    '?*x可能?*y': ['你看起来不太确定'],\n",
    "    '?*x电视很不错': ['嗯嗯，?x是狠不错', '?x我也很喜欢'],\n",
    "    '?*x他们是?*y吗？': ['你觉得他们可能不是?y？'],\n",
    "    '?*x': ['很有趣', '请继续', '我不太确定我很理解你说的, 能稍微详细解释一下吗?']\n",
    "}"
   ]
  },
  {
   "cell_type": "code",
   "execution_count": 621,
   "metadata": {},
   "outputs": [],
   "source": [
    "import os\n",
    "import jieba\n",
    "import random\n"
   ]
  },
  {
   "cell_type": "code",
   "execution_count": 640,
   "metadata": {},
   "outputs": [],
   "source": [
    "fail = (True, None)\n",
    "\n",
    "\n",
    "def is_match(rest, saying):\n",
    "    if not rest or not saying:\n",
    "        return True\n",
    "\n",
    "    # 分割下一个pattern, ?\n",
    "    if not all(a.isalpha() for a in rest[0]):\n",
    "        return True\n",
    "\n",
    "    if rest[0] != saying[0]:\n",
    "        return False\n",
    "\n",
    "    return is_match(rest[1:], saying[1:])\n",
    "    \n",
    "\n",
    "def segment_match(pattern, saying):\n",
    "    seg_pattern, rest = pattern[0], pattern[1:]\n",
    "    seg_pattern = seg_pattern.replace('?*', '?')\n",
    "\n",
    "    if not rest: return (seg_pattern, saying), len(saying)\n",
    "\n",
    "    for i, token in enumerate(saying):\n",
    "        if rest[0] == token and is_match(rest[1:], saying[(i+1):]):\n",
    "            return (seg_pattern, saying[:i]), i\n",
    "\n",
    "    return (seg_pattern, saying), len(saying)\n",
    "\n",
    "\n",
    "def pattern_match_with_seg(pattern, saying):\n",
    "    if all([not pattern, not saying]): return []\n",
    "    if any([not pattern, not saying]): return [fail]\n",
    "\n",
    "    if is_varaible(pattern[0]):\n",
    "        return [(pattern[0], saying[0])] + pattern_match_with_seg(pattern[1:] ,saying[1:])\n",
    "    elif is_pattern_segment(pattern[0]):\n",
    "        match, index = segment_match(pattern, saying)\n",
    "        return  [match] + pattern_match_with_seg(pattern[1:], saying[index:])\n",
    "    elif pattern[0] == saying[0]:\n",
    "        return pattern_match_with_seg(pattern[1:], saying[1:])\n",
    "    else:\n",
    "        return [fail]\n",
    "\n",
    "\n",
    "def is_pattern_match(got_patterns):\n",
    "    if not got_patterns:\n",
    "        return False\n",
    "\n",
    "    for k, v in got_patterns:\n",
    "        if k is True and v is None:\n",
    "            return False\n",
    "\n",
    "    return True\n",
    "\n",
    "\n",
    "def merge_token(tokens):\n",
    "    if len(tokens) < 2:\n",
    "        return tokens\n",
    "\n",
    "    if tokens[0] == '?' and tokens[1].isalpha():\n",
    "        return [''.join(tokens[:2])] + merge_token(tokens[2:])\n",
    "\n",
    "    if len(tokens) > 2 and  tokens[0] == '?' and tokens[1] == '*' and tokens[2].isalpha():\n",
    "        return [''.join(tokens[:3])] + merge_token(tokens[3:])\n",
    "\n",
    "    return [tokens[0]] + merge_token(tokens[1:])\n",
    "\n",
    "\n",
    "def is_chinese(string):\n",
    "    for ch in string:\n",
    "        if ch > '\\u4e00' and ch < '\\u9fff':\n",
    "            return True\n",
    "    else:\n",
    "        return False\n",
    "\n",
    "\n",
    "def cut_chinese(string):\n",
    "    tokens = list(jieba.cut(string))\n",
    "    return merge_token(tokens)\n",
    "\n",
    "\n",
    "def cut(string):\n",
    "    if is_chinese(string):\n",
    "        return cut_chinese(string)\n",
    "    else:\n",
    "        return string.split()\n",
    "    \n",
    "\n",
    "\n",
    "def get_response(saying, rules=rule_responses):\n",
    "    for pattern in rules:\n",
    "        got_patterns = pattern_match_with_seg(cut(pattern), cut(saying))\n",
    "\n",
    "#         print(pattern, got_patterns)\n",
    "        if is_pattern_match(got_patterns):\n",
    "            tokens = substitute(cut(random.choice(rules[pattern])), pattern2dict(got_patterns))\n",
    "            if is_chinese(saying):\n",
    "                return ''.join(tokens)\n",
    "            else:\n",
    "                return ' '.join(tokens)\n",
    "            \n",
    "    else:\n",
    "        return \"I don't konwn how to response you.\""
   ]
  },
  {
   "cell_type": "code",
   "execution_count": 632,
   "metadata": {},
   "outputs": [
    {
     "name": "stdout",
     "output_type": "stream",
     "text": [
      "How do you do\n",
      "Why do you want an Ipad\n",
      "嗯嗯，亮剑是狠不错\n",
      "我不太确定我很理解你说的, 能稍微详细解释一下吗?\n"
     ]
    }
   ],
   "source": [
    "print(get_response('Mike hello John'))\n",
    "print(get_response('Mike John I want an Ipad'))\n",
    "print(get_response('亮剑电视很不错'))\n",
    "print(get_response('你好'))"
   ]
  },
  {
   "cell_type": "code",
   "execution_count": 636,
   "metadata": {},
   "outputs": [],
   "source": [
    "import jieba\n",
    "\n",
    "\n",
    "def is_chinese(string):\n",
    "    for ch in string:\n",
    "        if ch > '\\u4e00' and ch < '\\u9fff':\n",
    "            return True\n",
    "    else:\n",
    "        return False\n",
    "\n",
    "\n",
    "def merge_token(tokens):\n",
    "    if len(tokens) < 2:\n",
    "        return tokens\n",
    "\n",
    "    if tokens[0] == '?' and tokens[1].isalpha():\n",
    "        return [''.join(tokens[:2])] + merge_token(tokens[2:])\n",
    "\n",
    "    if len(tokens) > 2 and  tokens[0] == '?' and tokens[1] == '*' and tokens[2].isalpha():\n",
    "        return [''.join(tokens[:3])] + merge_token(tokens[3:])\n",
    "\n",
    "    return [tokens[0]] + merge_token(tokens[1:])\n",
    "\n",
    "    \n",
    "def cut_chinese(string):\n",
    "    tokens = list(jieba.cut(string))\n",
    "    return merge_token(tokens)\n",
    "\n",
    "\n",
    "def cut(string):\n",
    "    if is_chinese(string):\n",
    "        return cut_chinese(string)\n",
    "    else:\n",
    "        return string.split()"
   ]
  },
  {
   "cell_type": "code",
   "execution_count": 635,
   "metadata": {},
   "outputs": [
    {
     "data": {
      "text/plain": [
       "['?*x', '所有人', '?y']"
      ]
     },
     "execution_count": 635,
     "metadata": {},
     "output_type": "execute_result"
    }
   ],
   "source": [
    "cut('?*x所有人?y')"
   ]
  },
  {
   "cell_type": "markdown",
   "metadata": {},
   "source": [
    "###  问题3"
   ]
  },
  {
   "cell_type": "markdown",
   "metadata": {},
   "source": [
    "多设计一些模式，让这个程序变得更好玩，多和大家交流，看看大家有什么好玩的模式"
   ]
  },
  {
   "cell_type": "markdown",
   "metadata": {},
   "source": [
    "TODO"
   ]
  },
  {
   "cell_type": "markdown",
   "metadata": {},
   "source": [
    "### 问题4"
   ]
  },
  {
   "cell_type": "markdown",
   "metadata": {},
   "source": [
    "1. 程序的优点，缺点以及改进的地方?"
   ]
  },
  {
   "cell_type": "markdown",
   "metadata": {},
   "source": [
    "优点：程序实现基本的人机对话功能，能够根据配置的模板，回复包含上下文的对话。\n",
    "\n",
    "缺点：只能匹配到模板中的话术，同一个意图，不同的话术，需要配置多个不同的模板，维护成本高。\n",
    "\n",
    "改进：文本相似度替模板匹配。"
   ]
  },
  {
   "cell_type": "markdown",
   "metadata": {},
   "source": [
    "2. 什么是数据驱动？数据驱动如何在这个程序里体现？"
   ]
  },
  {
   "cell_type": "markdown",
   "metadata": {},
   "source": [
    "数据驱动：程序根据输入的数据的特征，匹配相关的内容，生成对应的结果。\n",
    "数据驱动在对话中的体现：对话程序通过匹配输入话术，匹配到对应的模板，生成对应响应。"
   ]
  },
  {
   "cell_type": "markdown",
   "metadata": {},
   "source": [
    "3. 数据驱动与AI的关系"
   ]
  },
  {
   "cell_type": "markdown",
   "metadata": {},
   "source": [
    "AI程序提现了数据驱动的思想。如果AI看做一个函数$y=f(x)$，拟合不同的数据特征，能够根据不同的输入数据$x$，输出响应相匹配的输出$y$。"
   ]
  }
 ],
 "metadata": {
  "kernelspec": {
   "display_name": "Python 3",
   "language": "python",
   "name": "python3"
  },
  "language_info": {
   "codemirror_mode": {
    "name": "ipython",
    "version": 3
   },
   "file_extension": ".py",
   "mimetype": "text/x-python",
   "name": "python",
   "nbconvert_exporter": "python",
   "pygments_lexer": "ipython3",
   "version": "3.7.2"
  }
 },
 "nbformat": 4,
 "nbformat_minor": 2
}
