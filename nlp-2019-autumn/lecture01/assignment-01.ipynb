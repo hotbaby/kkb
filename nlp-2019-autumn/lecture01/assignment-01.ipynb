{
 "cells": [
  {
   "cell_type": "markdown",
   "metadata": {},
   "source": [
    "# Lecture 01 Assignment"
   ]
  },
  {
   "cell_type": "markdown",
   "metadata": {},
   "source": [
    "## 基础理论部分"
   ]
  },
  {
   "cell_type": "markdown",
   "metadata": {},
   "source": [
    "#### 0. Can you come up out 3 sceneraies which use AI methods? \n",
    "\n"
   ]
  },
  {
   "cell_type": "markdown",
   "metadata": {},
   "source": [
    "AI应用场景：\n",
    "\n",
    "* Siri、DuerOS等语音助手，使用了语音识别、语义理解、搜索、语音合成等AI技术\n",
    "* 自动驾驶，使用了机器视觉、动态规划等AI技术\n",
    "* 波士顿机器人，使用了机器视觉等AI技术"
   ]
  },
  {
   "cell_type": "markdown",
   "metadata": {},
   "source": [
    "#### 1. How do we use Github; Why do we use Jupyter and Pycharm"
   ]
  },
  {
   "cell_type": "markdown",
   "metadata": {},
   "source": [
    "Github一个code托管、协作和分享平台。创建repo; git clone repo; git add . ; git commit -m 'update'; git push origin master等\n",
    "\n",
    "Jupyter notebook 支持Python等语言编程，支持Latex、Markdown语法，可以通过集成matplotlib做可视化分析，很方便用来学习、演示和分享。\n",
    "\n",
    "Pycharm是PythonIDE，支持语法检查、Debug，能连接数据库，支持Markdown等，功能强大，可以大大提高编程效率。 "
   ]
  },
  {
   "cell_type": "markdown",
   "metadata": {},
   "source": [
    "#### 2. What's the Probability Model?"
   ]
  },
  {
   "cell_type": "markdown",
   "metadata": {},
   "source": [
    "描述多个随机变量的关系。"
   ]
  },
  {
   "cell_type": "markdown",
   "metadata": {},
   "source": [
    "#### 3. Can you came up with some sceneraies at which we could use Probability Model?"
   ]
  },
  {
   "cell_type": "markdown",
   "metadata": {},
   "source": [
    "概率模型应用场景\n",
    "\n",
    "* 垃圾邮件分类\n",
    "* 疾病诊断\n",
    "* 语音识别\n",
    "* 股票预测"
   ]
  },
  {
   "cell_type": "markdown",
   "metadata": {},
   "source": [
    "#### 4. Why do we use probability and what's the difficult points for programming based on parsing and pattern match?"
   ]
  },
  {
   "cell_type": "markdown",
   "metadata": {},
   "source": [
    "基于解析和模式匹配编程，工作量，而且如果有的规则没有覆盖到就歇菜了。基于概率模型的只需要判断概率大小即可。"
   ]
  },
  {
   "cell_type": "markdown",
   "metadata": {},
   "source": [
    "#### 5. What's the Language Model"
   ]
  },
  {
   "cell_type": "markdown",
   "metadata": {},
   "source": [
    "判断一句话的概率的大小。"
   ]
  },
  {
   "cell_type": "markdown",
   "metadata": {},
   "source": [
    "#### 6. Can you came up with some sceneraies at which we could use Language Model?"
   ]
  },
  {
   "cell_type": "markdown",
   "metadata": {},
   "source": [
    "* 搜索引擎输入建议\n",
    "* 输入法建议\n",
    "* 输入词语纠错"
   ]
  },
  {
   "cell_type": "markdown",
   "metadata": {},
   "source": [
    "#### 7. What's the 1-gram language model;"
   ]
  },
  {
   "cell_type": "markdown",
   "metadata": {},
   "source": [
    "$$P(sentence) = P(w_1, w_2, ..., w_n)=P(w_1)P(w_2)...P(w_n)$$"
   ]
  },
  {
   "cell_type": "markdown",
   "metadata": {},
   "source": [
    "#### 8. What's the disadvantages and advantages of 1-gram language model;"
   ]
  },
  {
   "cell_type": "markdown",
   "metadata": {},
   "source": [
    "缺点：没有考虑gram之间的关系\n",
    "\n",
    "优点：计算简单"
   ]
  },
  {
   "cell_type": "markdown",
   "metadata": {},
   "source": [
    "#### 9. What't the 2-gram models;"
   ]
  },
  {
   "cell_type": "markdown",
   "metadata": {},
   "source": [
    "$$P(sentence) = P(w_1, w_2, ... , w_n) = P(w_1|w_2)P(w_2|w_3) ... P(w_{n-1}|w_n)$$"
   ]
  },
  {
   "cell_type": "markdown",
   "metadata": {},
   "source": [
    "## 编程实践部分"
   ]
  },
  {
   "cell_type": "markdown",
   "metadata": {},
   "source": [
    "### 1. 句子生成器"
   ]
  },
  {
   "cell_type": "code",
   "execution_count": 51,
   "metadata": {},
   "outputs": [],
   "source": [
    "import random\n",
    "\n",
    "def get_generation_by_gram(grammar_str, target, stmt_split='=', or_split='|'):\n",
    "    def generate(grammar_rule, target):\n",
    "        if target in grammar_rule:\n",
    "            candidate = random.choice(grammar_rule[target])\n",
    "            return ''.join([generate(grammar_rule, c) for c in candidate.split()])\n",
    "        else:\n",
    "            return target\n",
    "\n",
    "    # parse grammar rule\n",
    "    rules = {}\n",
    "    for line in grammar_str.split('\\n'):\n",
    "        line = line.strip()\n",
    "\n",
    "        if not line: continue\n",
    "\n",
    "        stmt, expr = line.split(stmt_split)\n",
    "        rules[stmt.strip()] = expr.split('|')\n",
    "\n",
    "    return generate(rules, target)"
   ]
  },
  {
   "cell_type": "code",
   "execution_count": 64,
   "metadata": {},
   "outputs": [
    {
     "name": "stdout",
     "output_type": "stream",
     "text": [
      "你好,有什么能帮到你呢\n"
     ]
    }
   ],
   "source": [
    "custom_service = \"\"\"\n",
    "custom_service = 问候 , 咨询 语气\n",
    "问候 = 你好 | 亲 | 在的\n",
    "咨询 = 有什么能帮到你\n",
    "语气 = 呢 | 嘛\n",
    "\"\"\"\n",
    "\n",
    "print(get_generation_by_gram(custom_service, 'custom_service'))"
   ]
  },
  {
   "cell_type": "code",
   "execution_count": 66,
   "metadata": {},
   "outputs": [],
   "source": [
    "def generate_n(grammar_str, target, n):\n",
    "    sentences = []\n",
    "    for _ in range(n):\n",
    "        sentences.append(get_generation_by_gram(grammar_str, target))\n",
    "\n",
    "    return sentences"
   ]
  },
  {
   "cell_type": "code",
   "execution_count": 68,
   "metadata": {},
   "outputs": [
    {
     "data": {
      "text/plain": [
       "['你好,有什么能帮到你呢', '亲,有什么能帮到你嘛', '亲,有什么能帮到你呢']"
      ]
     },
     "execution_count": 68,
     "metadata": {},
     "output_type": "execute_result"
    }
   ],
   "source": [
    "generate_n(custom_service, 'custom_service', 3)"
   ]
  },
  {
   "cell_type": "code",
   "execution_count": 47,
   "metadata": {},
   "outputs": [
    {
     "name": "stdout",
     "output_type": "stream",
     "text": [
      "我们看看玩的\n"
     ]
    }
   ],
   "source": [
    "human = \"\"\"\n",
    "human = 自己 寻找 活动\n",
    "自己 = 我 | 俺 | 我们 \n",
    "寻找 = 看看 | 找找 | 想找点\n",
    "活动 = 乐子 | 玩的\n",
    "\"\"\"\n",
    "\n",
    "print(get_generation_by_gram(human, 'human'))"
   ]
  },
  {
   "cell_type": "code",
   "execution_count": 70,
   "metadata": {},
   "outputs": [
    {
     "name": "stdout",
     "output_type": "stream",
     "text": [
      "你好我是5号,请问你要耍一耍赌博吗？\n"
     ]
    }
   ],
   "source": [
    "host = \"\"\"\n",
    "host = 寒暄 报数 询问 业务相关 结尾 \n",
    "报数 = 我是 数字 号 ,\n",
    "数字 = 单个数字 | 数字 单个数字 \n",
    "单个数字 = 1 | 2 | 3 | 4 | 5 | 6 | 7 | 8 | 9 \n",
    "寒暄 = 称谓 打招呼 | 打招呼\n",
    "称谓 = 人称 ,\n",
    "人称 = 先生 | 女士 | 小朋友\n",
    "打招呼 = 你好 | 您好 \n",
    "询问 = 请问你要 | 您需要\n",
    "业务相关 = 玩玩 具体业务\n",
    "玩玩 = 耍一耍 | 玩一玩\n",
    "具体业务 = 喝酒 | 打牌 | 打猎 | 赌博\n",
    "结尾 = 吗？\"\"\"\n",
    "\n",
    "print(get_generation_by_gram(host, 'host'))"
   ]
  },
  {
   "cell_type": "markdown",
   "metadata": {},
   "source": [
    "### 2.使用新数据完成语言模型的训练"
   ]
  },
  {
   "cell_type": "markdown",
   "metadata": {},
   "source": [
    "**数据集**\n",
    "\n",
    "豆瓣评论数据集：https://github.com/Computing-Intelligence/datasource/raw/master/movie_comments.csv"
   ]
  },
  {
   "cell_type": "code",
   "execution_count": 79,
   "metadata": {},
   "outputs": [],
   "source": [
    "import pandas as pd\n",
    "\n",
    "\n",
    "douban_corpus_path = ''\n",
    "\n",
    "corpus = 'corpus.txt'\n",
    "\n",
    "def clean_data():\n",
    "    \"\"\"\n",
    "    清洗数据，获取所有文本数据\n",
    "    \"\"\"\n",
    "    # TODO\n",
    "    df = pd.read_csv(douban_corpus)\n",
    "\n",
    "    \n",
    "    with open(corpus, 'w+') as f:\n",
    "        f.write()"
   ]
  },
  {
   "cell_type": "code",
   "execution_count": 74,
   "metadata": {},
   "outputs": [],
   "source": [
    "def cut():\n",
    "    \"\"\"\n",
    "    文本切词\n",
    "    \"\"\"\n",
    "    # TODO"
   ]
  },
  {
   "cell_type": "code",
   "execution_count": 76,
   "metadata": {},
   "outputs": [],
   "source": [
    "def two_gram_model():\n",
    "    \"\"\"\n",
    "    2-gram language model\n",
    "    \"\"\"\n",
    "    # TODO"
   ]
  },
  {
   "cell_type": "code",
   "execution_count": 78,
   "metadata": {},
   "outputs": [],
   "source": [
    "# 判断文本合理程度\n",
    "\n",
    "# TODO"
   ]
  },
  {
   "cell_type": "markdown",
   "metadata": {},
   "source": [
    "### 3. 获得最优质的语言"
   ]
  }
 ],
 "metadata": {
  "kernelspec": {
   "display_name": "Python 3",
   "language": "python",
   "name": "python3"
  },
  "language_info": {
   "codemirror_mode": {
    "name": "ipython",
    "version": 3
   },
   "file_extension": ".py",
   "mimetype": "text/x-python",
   "name": "python",
   "nbconvert_exporter": "python",
   "pygments_lexer": "ipython3",
   "version": "3.7.2"
  }
 },
 "nbformat": 4,
 "nbformat_minor": 2
}
