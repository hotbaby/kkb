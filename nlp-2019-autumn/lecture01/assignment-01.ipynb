{
 "cells": [
  {
   "cell_type": "markdown",
   "metadata": {},
   "source": [
    "# Lecture 01 Assignment"
   ]
  },
  {
   "cell_type": "markdown",
   "metadata": {},
   "source": [
    "## 基础理论部分"
   ]
  },
  {
   "cell_type": "markdown",
   "metadata": {},
   "source": [
    "#### 0. Can you come up out 3 sceneraies which use AI methods? \n",
    "\n"
   ]
  },
  {
   "cell_type": "markdown",
   "metadata": {},
   "source": [
    "AI应用场景：\n",
    "\n",
    "* Siri、DuerOS等语音助手，使用了语音识别、语义理解、搜索、语音合成等AI技术\n",
    "* 自动驾驶，使用了机器视觉、动态规划等AI技术\n",
    "* 波士顿机器人，使用了机器视觉等AI技术"
   ]
  },
  {
   "cell_type": "markdown",
   "metadata": {},
   "source": [
    "#### 1. How do we use Github; Why do we use Jupyter and Pycharm"
   ]
  },
  {
   "cell_type": "markdown",
   "metadata": {},
   "source": [
    "Github一个code托管、协作和分享平台。创建repo; git clone repo; git add . ; git commit -m 'update'; git push origin master等\n",
    "\n",
    "Jupyter notebook 支持Python等语言编程，支持Latex、Markdown语法，可以通过集成matplotlib做可视化分析，很方便用来学习、演示和分享。\n",
    "\n",
    "Pycharm是PythonIDE，支持语法检查、Debug，能连接数据库，支持Markdown等，功能强大，可以大大提高编程效率。 "
   ]
  },
  {
   "cell_type": "markdown",
   "metadata": {},
   "source": [
    "#### 2. What's the Probability Model?"
   ]
  },
  {
   "cell_type": "markdown",
   "metadata": {},
   "source": [
    "描述多个随机变量的关系。"
   ]
  },
  {
   "cell_type": "markdown",
   "metadata": {},
   "source": [
    "#### 3. Can you came up with some sceneraies at which we could use Probability Model?"
   ]
  },
  {
   "cell_type": "markdown",
   "metadata": {},
   "source": [
    "概率模型应用场景\n",
    "\n",
    "* 垃圾邮件分类\n",
    "* 疾病诊断\n",
    "* 语音识别\n",
    "* 股票预测"
   ]
  },
  {
   "cell_type": "markdown",
   "metadata": {},
   "source": [
    "#### 4. Why do we use probability and what's the difficult points for programming based on parsing and pattern match?"
   ]
  },
  {
   "cell_type": "markdown",
   "metadata": {},
   "source": [
    "基于解析和模式匹配编程，工作量，而且如果有的规则没有覆盖到就歇菜了。基于概率模型的只需要判断概率大小即可。"
   ]
  },
  {
   "cell_type": "markdown",
   "metadata": {},
   "source": [
    "#### 5. What's the Language Model"
   ]
  },
  {
   "cell_type": "markdown",
   "metadata": {},
   "source": [
    "判断一句话的概率的大小。"
   ]
  },
  {
   "cell_type": "markdown",
   "metadata": {},
   "source": [
    "#### 6. Can you came up with some sceneraies at which we could use Language Model?"
   ]
  },
  {
   "cell_type": "markdown",
   "metadata": {},
   "source": [
    "* 搜索引擎输入建议\n",
    "* 输入法建议\n",
    "* 输入词语纠错"
   ]
  },
  {
   "cell_type": "markdown",
   "metadata": {},
   "source": [
    "#### 7. What's the 1-gram language model;"
   ]
  },
  {
   "cell_type": "markdown",
   "metadata": {},
   "source": [
    "$$P(sentence) = P(w_1, w_2, ..., w_n)=P(w_1)P(w_2)...P(w_n)$$"
   ]
  },
  {
   "cell_type": "markdown",
   "metadata": {},
   "source": [
    "#### 8. What's the disadvantages and advantages of 1-gram language model;"
   ]
  },
  {
   "cell_type": "markdown",
   "metadata": {},
   "source": [
    "缺点：没有考虑gram之间的关系\n",
    "\n",
    "优点：计算简单"
   ]
  },
  {
   "cell_type": "markdown",
   "metadata": {},
   "source": [
    "#### 9. What't the 2-gram models;"
   ]
  },
  {
   "cell_type": "markdown",
   "metadata": {},
   "source": [
    "$$P(sentence) = P(w_1, w_2, ... , w_n) = P(w_1|w_2)P(w_2|w_3) ... P(w_{n-1}|w_n)$$"
   ]
  },
  {
   "cell_type": "markdown",
   "metadata": {},
   "source": [
    "## 编程实践部分"
   ]
  },
  {
   "cell_type": "markdown",
   "metadata": {},
   "source": [
    "### 1. 句子生成器"
   ]
  },
  {
   "cell_type": "code",
   "execution_count": 51,
   "metadata": {},
   "outputs": [],
   "source": [
    "import random\n",
    "\n",
    "def get_generation_by_gram(grammar_str, target, stmt_split='=', or_split='|'):\n",
    "    def generate(grammar_rule, target):\n",
    "        if target in grammar_rule:\n",
    "            candidate = random.choice(grammar_rule[target])\n",
    "            return ''.join([generate(grammar_rule, c) for c in candidate.split()])\n",
    "        else:\n",
    "            return target\n",
    "\n",
    "    # parse grammar rule\n",
    "    rules = {}\n",
    "    for line in grammar_str.split('\\n'):\n",
    "        line = line.strip()\n",
    "\n",
    "        if not line: continue\n",
    "\n",
    "        stmt, expr = line.split(stmt_split)\n",
    "        rules[stmt.strip()] = expr.split('|')\n",
    "\n",
    "    return generate(rules, target)"
   ]
  },
  {
   "cell_type": "code",
   "execution_count": 64,
   "metadata": {},
   "outputs": [
    {
     "name": "stdout",
     "output_type": "stream",
     "text": [
      "你好,有什么能帮到你呢\n"
     ]
    }
   ],
   "source": [
    "custom_service = \"\"\"\n",
    "custom_service = 问候 , 咨询 语气\n",
    "问候 = 你好 | 亲 | 在的\n",
    "咨询 = 有什么能帮到你\n",
    "语气 = 呢 | 嘛\n",
    "\"\"\"\n",
    "\n",
    "print(get_generation_by_gram(custom_service, 'custom_service'))"
   ]
  },
  {
   "cell_type": "code",
   "execution_count": 169,
   "metadata": {},
   "outputs": [],
   "source": [
    "def generate_n(grammar_str, target, n=10):\n",
    "    sentences = []\n",
    "    for _ in range(n):\n",
    "        sentences.append(get_generation_by_gram(grammar_str, target))\n",
    "\n",
    "    return sentences"
   ]
  },
  {
   "cell_type": "code",
   "execution_count": 68,
   "metadata": {},
   "outputs": [
    {
     "data": {
      "text/plain": [
       "['你好,有什么能帮到你呢', '亲,有什么能帮到你嘛', '亲,有什么能帮到你呢']"
      ]
     },
     "execution_count": 68,
     "metadata": {},
     "output_type": "execute_result"
    }
   ],
   "source": [
    "generate_n(custom_service, 'custom_service', 3)"
   ]
  },
  {
   "cell_type": "code",
   "execution_count": 47,
   "metadata": {},
   "outputs": [
    {
     "name": "stdout",
     "output_type": "stream",
     "text": [
      "我们看看玩的\n"
     ]
    }
   ],
   "source": [
    "human = \"\"\"\n",
    "human = 自己 寻找 活动\n",
    "自己 = 我 | 俺 | 我们 \n",
    "寻找 = 看看 | 找找 | 想找点\n",
    "活动 = 乐子 | 玩的\n",
    "\"\"\"\n",
    "\n",
    "print(get_generation_by_gram(human, 'human'))"
   ]
  },
  {
   "cell_type": "code",
   "execution_count": 170,
   "metadata": {},
   "outputs": [
    {
     "name": "stdout",
     "output_type": "stream",
     "text": [
      "小朋友,你好我是5号,您需要玩一玩打猎吗？\n",
      "['您好我是4号,您需要耍一耍赌博吗？', '您好我是9号,请问你要玩一玩喝酒吗？', '你好我是7585号,请问你要玩一玩打牌吗？', '您好我是52号,您需要玩一玩打猎吗？', '你好我是16号,请问你要耍一耍赌博吗？', '你好我是64号,您需要耍一耍打牌吗？', '您好我是245号,请问你要耍一耍赌博吗？', '你好我是6721号,请问你要耍一耍打牌吗？', '您好我是448号,您需要耍一耍赌博吗？', '小朋友,你好我是51号,请问你要玩一玩打牌吗？']\n"
     ]
    }
   ],
   "source": [
    "host = \"\"\"\n",
    "host = 寒暄 报数 询问 业务相关 结尾 \n",
    "报数 = 我是 数字 号 ,\n",
    "数字 = 单个数字 | 数字 单个数字 \n",
    "单个数字 = 1 | 2 | 3 | 4 | 5 | 6 | 7 | 8 | 9 \n",
    "寒暄 = 称谓 打招呼 | 打招呼\n",
    "称谓 = 人称 ,\n",
    "人称 = 先生 | 女士 | 小朋友\n",
    "打招呼 = 你好 | 您好 \n",
    "询问 = 请问你要 | 您需要\n",
    "业务相关 = 玩玩 具体业务\n",
    "玩玩 = 耍一耍 | 玩一玩\n",
    "具体业务 = 喝酒 | 打牌 | 打猎 | 赌博\n",
    "结尾 = 吗？\"\"\"\n",
    "\n",
    "print(get_generation_by_gram(host, 'host'))\n",
    "print(generate_n(host, 'host'))"
   ]
  },
  {
   "cell_type": "markdown",
   "metadata": {},
   "source": [
    "### 2.使用新数据完成语言模型的训练"
   ]
  },
  {
   "cell_type": "markdown",
   "metadata": {},
   "source": [
    "**数据集**\n",
    "\n",
    "豆瓣评论数据集：https://github.com/Computing-Intelligence/datasource/raw/master/movie_comments.csv"
   ]
  },
  {
   "cell_type": "code",
   "execution_count": 136,
   "metadata": {},
   "outputs": [
    {
     "name": "stderr",
     "output_type": "stream",
     "text": [
      "/usr/local/lib/python3.7/site-packages/IPython/core/interactiveshell.py:3058: DtypeWarning: Columns (0,4) have mixed types. Specify dtype option on import or set low_memory=False.\n",
      "  interactivity=interactivity, compiler=compiler, result=result)\n"
     ]
    },
    {
     "data": {
      "text/html": [
       "<div>\n",
       "<style scoped>\n",
       "    .dataframe tbody tr th:only-of-type {\n",
       "        vertical-align: middle;\n",
       "    }\n",
       "\n",
       "    .dataframe tbody tr th {\n",
       "        vertical-align: top;\n",
       "    }\n",
       "\n",
       "    .dataframe thead th {\n",
       "        text-align: right;\n",
       "    }\n",
       "</style>\n",
       "<table border=\"1\" class=\"dataframe\">\n",
       "  <thead>\n",
       "    <tr style=\"text-align: right;\">\n",
       "      <th></th>\n",
       "      <th>id</th>\n",
       "      <th>link</th>\n",
       "      <th>name</th>\n",
       "      <th>comment</th>\n",
       "      <th>star</th>\n",
       "    </tr>\n",
       "  </thead>\n",
       "  <tbody>\n",
       "    <tr>\n",
       "      <th>0</th>\n",
       "      <td>1</td>\n",
       "      <td>https://movie.douban.com/subject/26363254/</td>\n",
       "      <td>战狼2</td>\n",
       "      <td>吴京意淫到了脑残的地步，看了恶心想吐</td>\n",
       "      <td>1</td>\n",
       "    </tr>\n",
       "    <tr>\n",
       "      <th>1</th>\n",
       "      <td>2</td>\n",
       "      <td>https://movie.douban.com/subject/26363254/</td>\n",
       "      <td>战狼2</td>\n",
       "      <td>首映礼看的。太恐怖了这个电影，不讲道理的，完全就是吴京在实现他这个小粉红的英雄梦。各种装备轮...</td>\n",
       "      <td>2</td>\n",
       "    </tr>\n",
       "    <tr>\n",
       "      <th>2</th>\n",
       "      <td>3</td>\n",
       "      <td>https://movie.douban.com/subject/26363254/</td>\n",
       "      <td>战狼2</td>\n",
       "      <td>吴京的炒作水平不输冯小刚，但小刚至少不会用主旋律来炒作…吴京让人看了不舒服，为了主旋律而主旋...</td>\n",
       "      <td>2</td>\n",
       "    </tr>\n",
       "    <tr>\n",
       "      <th>3</th>\n",
       "      <td>4</td>\n",
       "      <td>https://movie.douban.com/subject/26363254/</td>\n",
       "      <td>战狼2</td>\n",
       "      <td>凭良心说，好看到不像《战狼1》的续集，完虐《湄公河行动》。</td>\n",
       "      <td>4</td>\n",
       "    </tr>\n",
       "    <tr>\n",
       "      <th>4</th>\n",
       "      <td>5</td>\n",
       "      <td>https://movie.douban.com/subject/26363254/</td>\n",
       "      <td>战狼2</td>\n",
       "      <td>中二得很</td>\n",
       "      <td>1</td>\n",
       "    </tr>\n",
       "    <tr>\n",
       "      <th>5</th>\n",
       "      <td>6</td>\n",
       "      <td>https://movie.douban.com/subject/26363254/</td>\n",
       "      <td>战狼2</td>\n",
       "      <td>“犯我中华者，虽远必诛”，吴京比这句话还要意淫一百倍。</td>\n",
       "      <td>1</td>\n",
       "    </tr>\n",
       "    <tr>\n",
       "      <th>6</th>\n",
       "      <td>7</td>\n",
       "      <td>https://movie.douban.com/subject/26363254/</td>\n",
       "      <td>战狼2</td>\n",
       "      <td>脑子是个好东西，希望编剧们都能有。</td>\n",
       "      <td>2</td>\n",
       "    </tr>\n",
       "    <tr>\n",
       "      <th>7</th>\n",
       "      <td>8</td>\n",
       "      <td>https://movie.douban.com/subject/26363254/</td>\n",
       "      <td>战狼2</td>\n",
       "      <td>三星半，实打实的7分。第一集在爱国主旋律内部做着各种置换与较劲，但第二集才真正显露吴京的野心...</td>\n",
       "      <td>4</td>\n",
       "    </tr>\n",
       "    <tr>\n",
       "      <th>8</th>\n",
       "      <td>9</td>\n",
       "      <td>https://movie.douban.com/subject/26363254/</td>\n",
       "      <td>战狼2</td>\n",
       "      <td>开篇长镜头惊险大气引人入胜 结合了水平不俗的快剪下实打实的真刀真枪 让人不禁热血沸腾 特别弹...</td>\n",
       "      <td>4</td>\n",
       "    </tr>\n",
       "    <tr>\n",
       "      <th>9</th>\n",
       "      <td>10</td>\n",
       "      <td>https://movie.douban.com/subject/26363254/</td>\n",
       "      <td>战狼2</td>\n",
       "      <td>15/100吴京的冷峰在这部里即像成龙，又像杰森斯坦森，但体制外的同类型电影，主角总是代表个...</td>\n",
       "      <td>1</td>\n",
       "    </tr>\n",
       "  </tbody>\n",
       "</table>\n",
       "</div>"
      ],
      "text/plain": [
       "   id                                        link name  \\\n",
       "0   1  https://movie.douban.com/subject/26363254/  战狼2   \n",
       "1   2  https://movie.douban.com/subject/26363254/  战狼2   \n",
       "2   3  https://movie.douban.com/subject/26363254/  战狼2   \n",
       "3   4  https://movie.douban.com/subject/26363254/  战狼2   \n",
       "4   5  https://movie.douban.com/subject/26363254/  战狼2   \n",
       "5   6  https://movie.douban.com/subject/26363254/  战狼2   \n",
       "6   7  https://movie.douban.com/subject/26363254/  战狼2   \n",
       "7   8  https://movie.douban.com/subject/26363254/  战狼2   \n",
       "8   9  https://movie.douban.com/subject/26363254/  战狼2   \n",
       "9  10  https://movie.douban.com/subject/26363254/  战狼2   \n",
       "\n",
       "                                             comment star  \n",
       "0                                 吴京意淫到了脑残的地步，看了恶心想吐    1  \n",
       "1  首映礼看的。太恐怖了这个电影，不讲道理的，完全就是吴京在实现他这个小粉红的英雄梦。各种装备轮...    2  \n",
       "2  吴京的炒作水平不输冯小刚，但小刚至少不会用主旋律来炒作…吴京让人看了不舒服，为了主旋律而主旋...    2  \n",
       "3                      凭良心说，好看到不像《战狼1》的续集，完虐《湄公河行动》。    4  \n",
       "4                                               中二得很    1  \n",
       "5                        “犯我中华者，虽远必诛”，吴京比这句话还要意淫一百倍。    1  \n",
       "6                                  脑子是个好东西，希望编剧们都能有。    2  \n",
       "7  三星半，实打实的7分。第一集在爱国主旋律内部做着各种置换与较劲，但第二集才真正显露吴京的野心...    4  \n",
       "8  开篇长镜头惊险大气引人入胜 结合了水平不俗的快剪下实打实的真刀真枪 让人不禁热血沸腾 特别弹...    4  \n",
       "9  15/100吴京的冷峰在这部里即像成龙，又像杰森斯坦森，但体制外的同类型电影，主角总是代表个...    1  "
      ]
     },
     "execution_count": 136,
     "metadata": {},
     "output_type": "execute_result"
    }
   ],
   "source": [
    "import pandas as pd\n",
    "\n",
    "douban_corpus_path = '/Users/hotbaby/code/github/datasource/movie_comments.csv'\n",
    "\n",
    "df = pd.read_csv(douban_corpus_path)\n",
    "\n",
    "# 查看数据集\n",
    "df[:10]"
   ]
  },
  {
   "cell_type": "code",
   "execution_count": 155,
   "metadata": {},
   "outputs": [
    {
     "name": "stdout",
     "output_type": "stream",
     "text": [
      "first n words: 吴京意淫到了脑残的地步看了恶心想吐首映礼看的太恐怖了这个电影不讲道理的完全就是吴京在实现他这个小粉红的英雄梦各种装备轮番上场视物理逻辑于不顾不得不说有钱真好随意胡闹吴京的炒作水平不输冯小刚但小刚至少不会用主旋律来炒作…吴京让人看了不舒服为了主旋律而主旋律为了煽情而煽情让人觉得他是个大做作、大谎言家（729更新）片子整体不如湄公河行动1整体不够流畅编剧有毒台词尴尬2刻意做作的主旋律煽情显得如此不合时\n",
      "data_length: 8252927\n"
     ]
    }
   ],
   "source": [
    "# 清洗文本数据\n",
    "\n",
    "comment_list = []\n",
    "\n",
    "def strip_str(string):\n",
    "    strip_symbols = ['，', '。', '《', '》', ' ', '!', '！' '、', '.', '；', '~']\n",
    "    for symbol in strip_symbols:\n",
    "        string = string.replace(symbol, '')\n",
    "\n",
    "    return string\n",
    "\n",
    "for comment in df['comment']:\n",
    "    if isinstance(comment, str):\n",
    "        comment_list.append(strip_str(comment))\n",
    "\n",
    "DATA = ''.join(comment_list)\n",
    "\n",
    "print('first n words: %s' % DATA[:200])\n",
    "\n",
    "print('data_length: %s' % len(DATA))"
   ]
  },
  {
   "cell_type": "code",
   "execution_count": 156,
   "metadata": {},
   "outputs": [],
   "source": [
    "# 切词\n",
    "\n",
    "import jieba\n",
    "import collections\n",
    "\n",
    "def cut(string):\n",
    "    \"\"\"\n",
    "    文本切词\n",
    "    \"\"\"\n",
    "    return list(jieba.cut(string))\n",
    "\n",
    "TOKENS = cut(DATA)\n"
   ]
  },
  {
   "cell_type": "code",
   "execution_count": 157,
   "metadata": {},
   "outputs": [
    {
     "data": {
      "text/plain": [
       "['吴京', '意淫', '到', '了', '脑残', '的', '地步', '看', '了', '恶心']"
      ]
     },
     "execution_count": 157,
     "metadata": {},
     "output_type": "execute_result"
    }
   ],
   "source": [
    "TOKENS[:10]"
   ]
  },
  {
   "cell_type": "code",
   "execution_count": 158,
   "metadata": {},
   "outputs": [],
   "source": [
    "_1_gram_words = TOKENS\n",
    "_1_gram_word_count = collections.Counter(TOKENS)\n",
    "\n",
    "_2_gram_words = [TOKENS[i] + TOKENS[i+1] for i in range(len(TOKENS)-1)]\n",
    "_2_gram_word_count = collections.Counter(_2_gram_words)"
   ]
  },
  {
   "cell_type": "code",
   "execution_count": 159,
   "metadata": {},
   "outputs": [
    {
     "name": "stdout",
     "output_type": "stream",
     "text": [
      "[('的', 328274), ('了', 102410), ('是', 73271), ('！', 55075), ('我', 50380), ('都', 36256), ('很', 34725), ('看', 33912), ('电影', 33662), ('也', 32063)]\n",
      "[('！！', 15678), ('……', 12042), ('的电影', 8611), ('看的', 7083), ('都是', 6332), ('让人', 5279), ('的故事', 4696), ('看了', 4551), ('也是', 4407), ('的时候', 4397)]\n"
     ]
    }
   ],
   "source": [
    "print(_1_gram_word_count.most_common()[:10])\n",
    "print(_2_gram_word_count.most_common()[:10])"
   ]
  },
  {
   "cell_type": "markdown",
   "metadata": {},
   "source": [
    "**2-gram language model**\n",
    "\n",
    "$$P(sentence) = P(w_1, w_2, ... , w_n) = P(w_1|w_2)P(w_2|w_3)...P(w_n)$$"
   ]
  },
  {
   "cell_type": "markdown",
   "metadata": {},
   "source": [
    "$$P(w_i|w_{i+1}) = \\frac {Count(w_i, w_{i+1})}{Count(w_i)}$$"
   ]
  },
  {
   "cell_type": "code",
   "execution_count": 160,
   "metadata": {},
   "outputs": [],
   "source": [
    "def _get_gram_count(token, words_count):\n",
    "    \"\"\"\n",
    "    get gram count\n",
    "    \"\"\"\n",
    "    if token in words_count:\n",
    "        return words_count[token]\n",
    "    else:\n",
    "        return words_count.most_common()[-1][-1]    # out of vocabulary\n",
    "\n",
    "\n",
    "def two_gram_model(sentence):\n",
    "    \"\"\"\n",
    "    2-gram language model\n",
    "    \"\"\"\n",
    "    tokens = cut(sentence)\n",
    "\n",
    "    prob = 1.0\n",
    "\n",
    "    for i in range(len(tokens) - 1):\n",
    "        token = tokens[i]\n",
    "        next_token = tokens[i+1]\n",
    "\n",
    "        two_gram_count = _get_gram_count(token+next_token, _2_gram_word_count)\n",
    "        one_gram_count = _get_gram_count(token, _1_gram_word_count)\n",
    "\n",
    "        prob *= two_gram_count / one_gram_count\n",
    "\n",
    "    return prob\n"
   ]
  },
  {
   "cell_type": "code",
   "execution_count": 176,
   "metadata": {},
   "outputs": [
    {
     "name": "stdout",
     "output_type": "stream",
     "text": [
      "6.203130658602865e-06\n",
      "2.0816259539707222e-05\n",
      "1.3957043981856445e-05\n",
      "5.8190817374381905e-06\n",
      "1.570796879017383e-06\n"
     ]
    }
   ],
   "source": [
    "# 判断文本合理程度\n",
    "\n",
    "print(two_gram_model('这个电影很赞'))\n",
    "print(two_gram_model('这个电影很不错'))\n",
    "print(two_gram_model('这个电影不怎么样'))\n",
    "print(two_gram_model('电影很垃圾'))\n",
    "print(two_gram_model('不知道怎么说好'))"
   ]
  },
  {
   "cell_type": "markdown",
   "metadata": {},
   "source": [
    "### 3. 获得最优质的语言"
   ]
  },
  {
   "cell_type": "code",
   "execution_count": 181,
   "metadata": {},
   "outputs": [],
   "source": [
    "def generate_best(grammar, target, language_model=two_gram_model, n=10):\n",
    "    \"\"\"\n",
    "    生成最合理句子\n",
    "    \"\"\"\n",
    "    sentences = generate_n(grammar, target, n)\n",
    "    print(sentences)\n",
    "    sentence_prob = []\n",
    "\n",
    "    for sentence in sentences:\n",
    "        prob = language_model(sentence)\n",
    "        print('sentence: %s prob:%s' % (sentence, prob))\n",
    "        sentence_prob.append((sentence, prob))\n",
    "\n",
    "    sorted_sentence_prod = sorted(sentence_prob, key=lambda x: x[1])\n",
    "\n",
    "    return sorted_sentence_prod[-1][0]"
   ]
  },
  {
   "cell_type": "code",
   "execution_count": 185,
   "metadata": {},
   "outputs": [
    {
     "name": "stdout",
     "output_type": "stream",
     "text": [
      "['女士,您好我是7号,您需要耍一耍赌博吗？', '你好我是8号,请问你要玩一玩打牌吗？', '女士,您好我是5145号,您需要玩一玩喝酒吗？', '您好我是3475号,您需要玩一玩喝酒吗？', '你好我是226号,您需要玩一玩喝酒吗？', '你好我是63号,请问你要耍一耍喝酒吗？', '你好我是332719号,您需要耍一耍打猎吗？', '你好我是4号,请问你要耍一耍打牌吗？', '先生,您好我是1号,请问你要耍一耍喝酒吗？', '你好我是8号,请问你要玩一玩喝酒吗？']\n",
      "sentence: 女士,您好我是7号,您需要耍一耍赌博吗？ prob:1.6073916424455027e-30\n",
      "sentence: 你好我是8号,请问你要玩一玩打牌吗？ prob:3.064068584046719e-26\n",
      "sentence: 女士,您好我是5145号,您需要玩一玩喝酒吗？ prob:1.2639863953556506e-27\n",
      "sentence: 您好我是3475号,您需要玩一玩喝酒吗？ prob:5.08021412021343e-22\n",
      "sentence: 你好我是226号,您需要玩一玩喝酒吗？ prob:8.87804409357687e-23\n",
      "sentence: 你好我是63号,请问你要耍一耍喝酒吗？ prob:1.941536156585872e-28\n",
      "sentence: 你好我是332719号,您需要耍一耍打猎吗？ prob:7.778857681991162e-23\n",
      "sentence: 你好我是4号,请问你要耍一耍打牌吗？ prob:1.941293616154069e-27\n",
      "sentence: 先生,您好我是1号,请问你要耍一耍喝酒吗？ prob:3.596052654251494e-33\n",
      "sentence: 你好我是8号,请问你要玩一玩喝酒吗？ prob:2.997458397437008e-27\n"
     ]
    },
    {
     "data": {
      "text/plain": [
       "'您好我是3475号,您需要玩一玩喝酒吗？'"
      ]
     },
     "execution_count": 185,
     "metadata": {},
     "output_type": "execute_result"
    }
   ],
   "source": [
    "generate_best(host, 'host')"
   ]
  },
  {
   "cell_type": "code",
   "execution_count": 186,
   "metadata": {},
   "outputs": [
    {
     "data": {
      "text/plain": [
       "['您好', '我', '是', '88', '号', ',', '您', '需要', '玩一玩', '喝酒', '吗']"
      ]
     },
     "execution_count": 186,
     "metadata": {},
     "output_type": "execute_result"
    }
   ],
   "source": [
    "cut('您好我是88号,您需要玩一玩喝酒吗')"
   ]
  },
  {
   "cell_type": "markdown",
   "metadata": {},
   "source": [
    "Q: 这个模型有什么问题？ 你准备如何提升？"
   ]
  },
  {
   "cell_type": "markdown",
   "metadata": {},
   "source": [
    "TODO"
   ]
  }
 ],
 "metadata": {
  "kernelspec": {
   "display_name": "Python 3",
   "language": "python",
   "name": "python3"
  },
  "language_info": {
   "codemirror_mode": {
    "name": "ipython",
    "version": 3
   },
   "file_extension": ".py",
   "mimetype": "text/x-python",
   "name": "python",
   "nbconvert_exporter": "python",
   "pygments_lexer": "ipython3",
   "version": "3.7.2"
  }
 },
 "nbformat": 4,
 "nbformat_minor": 2
}
