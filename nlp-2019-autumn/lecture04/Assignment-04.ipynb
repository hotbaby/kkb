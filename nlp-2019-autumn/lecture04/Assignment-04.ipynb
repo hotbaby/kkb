{
 "cells": [
  {
   "cell_type": "markdown",
   "metadata": {},
   "source": [
    "# Assignment 04 Deep learning and backpropagation"
   ]
  },
  {
   "cell_type": "markdown",
   "metadata": {},
   "source": [
    "## 复习上课内容以及复现课程代码"
   ]
  },
  {
   "cell_type": "markdown",
   "metadata": {},
   "source": [
    "参考`Lecture-04.ipynb`"
   ]
  },
  {
   "cell_type": "markdown",
   "metadata": {},
   "source": [
    "## 理论题目"
   ]
  },
  {
   "cell_type": "markdown",
   "metadata": {},
   "source": [
    "### What does a nueron compute?"
   ]
  },
  {
   "cell_type": "markdown",
   "metadata": {},
   "source": [
    "神经元的计算包括线性变换和非线性变化两部分。"
   ]
  },
  {
   "cell_type": "markdown",
   "metadata": {},
   "source": [
    "线性变换：$z = wx + b$\n",
    "\n",
    "非线性变换： $a = \\sigma (z)$"
   ]
  },
  {
   "cell_type": "markdown",
   "metadata": {},
   "source": [
    "### Why we use non-linear activation functions in neural networks?"
   ]
  },
  {
   "cell_type": "markdown",
   "metadata": {},
   "source": [
    "如果没有非线性变换，深层的神经网络的效果以单层的神经网络的效果一样。"
   ]
  },
  {
   "cell_type": "markdown",
   "metadata": {},
   "source": [
    "$$\\hat{y} = W^{[1]}*W^{[2]} ... W^{[n]}*X + b = W*X + b$$"
   ]
  },
  {
   "cell_type": "markdown",
   "metadata": {},
   "source": [
    "### What's is the Logistic Loss?"
   ]
  },
  {
   "cell_type": "markdown",
   "metadata": {},
   "source": [
    "逻辑回归通过`sigmoid`的函数把$(-\\infty, +\\infty)$的数映射到$(0, 1)$区间上。逻辑回归常用二分类问题。"
   ]
  },
  {
   "cell_type": "markdown",
   "metadata": {},
   "source": [
    "$$\\sigma(z) = \\frac{1}{1+e^{-z}}$$"
   ]
  },
  {
   "cell_type": "markdown",
   "metadata": {},
   "source": [
    "### Assume that you are building a binary classifier for dectecting if an image containing cats, which activation function would you recommend using for the output layer?"
   ]
  },
  {
   "cell_type": "markdown",
   "metadata": {},
   "source": [
    "A. ReLU    \n",
    "B. Leaky ReLU    \n",
    "C. sigmoid    \n",
    "D. tanh  "
   ]
  },
  {
   "cell_type": "markdown",
   "metadata": {},
   "source": [
    "C"
   ]
  },
  {
   "cell_type": "markdown",
   "metadata": {},
   "source": [
    "### Why we don't use zero initialization for all parameters?"
   ]
  },
  {
   "cell_type": "markdown",
   "metadata": {},
   "source": [
    "一层多个神经元的效果与一个神经元的效果是一样的。"
   ]
  },
  {
   "cell_type": "markdown",
   "metadata": {},
   "source": [
    "### Can you implemented the softmax function using Python?"
   ]
  },
  {
   "cell_type": "code",
   "execution_count": 1,
   "metadata": {},
   "outputs": [],
   "source": [
    "import numpy as np"
   ]
  },
  {
   "cell_type": "code",
   "execution_count": 2,
   "metadata": {},
   "outputs": [],
   "source": [
    "def softmax(X):\n",
    "    X = X - np.max(X)\n",
    "    return np.exp(X) / np.sum(np.exp(X))"
   ]
  },
  {
   "cell_type": "code",
   "execution_count": 3,
   "metadata": {},
   "outputs": [],
   "source": [
    "# softmax([1, 3, 4])"
   ]
  },
  {
   "cell_type": "markdown",
   "metadata": {},
   "source": [
    "## 实践题"
   ]
  },
  {
   "cell_type": "markdown",
   "metadata": {},
   "source": [
    "### Build a simple digits recognizer to check if the digit in the image is lager than 5?"
   ]
  },
  {
   "cell_type": "markdown",
   "metadata": {},
   "source": [
    "#### **Package Dependencies**"
   ]
  },
  {
   "cell_type": "code",
   "execution_count": 4,
   "metadata": {},
   "outputs": [],
   "source": [
    "%matplotlib inline"
   ]
  },
  {
   "cell_type": "code",
   "execution_count": 5,
   "metadata": {},
   "outputs": [],
   "source": [
    "from sklearn import datasets\n",
    "import matplotlib.pyplot as plt\n",
    "from sklearn.model_selection import train_test_split"
   ]
  },
  {
   "cell_type": "markdown",
   "metadata": {},
   "source": [
    "#### Overview the datasets"
   ]
  },
  {
   "cell_type": "code",
   "execution_count": 6,
   "metadata": {},
   "outputs": [],
   "source": [
    "digist_dataset = datasets.load_digits()"
   ]
  },
  {
   "cell_type": "code",
   "execution_count": 7,
   "metadata": {},
   "outputs": [
    {
     "data": {
      "text/plain": [
       "((1797, 64), (1797,))"
      ]
     },
     "execution_count": 7,
     "metadata": {},
     "output_type": "execute_result"
    }
   ],
   "source": [
    "digist_dataset.data.shape, digist_dataset.target.shape"
   ]
  },
  {
   "cell_type": "code",
   "execution_count": 8,
   "metadata": {},
   "outputs": [
    {
     "data": {
      "image/png": "[encoded data removed]",
      "text/plain": [
       "<Figure size 432x288 with 10 Axes>"
      ]
     },
     "metadata": {},
     "output_type": "display_data"
    }
   ],
   "source": [
    "for i in range(1,11):\n",
    "    plt.subplot(2,5,i)\n",
    "    plt.imshow(digist_dataset.data[i-1].reshape([8,8]),cmap=plt.cm.gray_r)\n",
    "    plt.text(3,10,str(digist_dataset.target[i-1]))\n",
    "    plt.xticks([])\n",
    "    plt.yticks([])"
   ]
  },
  {
   "cell_type": "code",
   "execution_count": 9,
   "metadata": {},
   "outputs": [],
   "source": [
    "# split the dataset into training and test set\n",
    "\n",
    "X_train, X_test, y_train, y_test = train_test_split(digist_dataset.data, digist_dataset.target, test_size=0.25)"
   ]
  },
  {
   "cell_type": "code",
   "execution_count": 10,
   "metadata": {},
   "outputs": [
    {
     "data": {
      "text/plain": [
       "((1347, 64), (450, 64), (1347,), (450,))"
      ]
     },
     "execution_count": 10,
     "metadata": {},
     "output_type": "execute_result"
    }
   ],
   "source": [
    "X_train.shape, X_test.shape, y_train.shape, y_test.shape"
   ]
  },
  {
   "cell_type": "code",
   "execution_count": 11,
   "metadata": {},
   "outputs": [],
   "source": [
    "# reform the label.\n",
    "# If the digit is smaller than 5, the label is 0.\n",
    "# If the digit is larger than 5, the label is 1.\n",
    "\n",
    "y_train[y_train < 5] = 0\n",
    "y_train[y_train >= 5] = 1\n",
    "y_test[y_test < 5] = 0\n",
    "y_test[y_test >= 5] = 1"
   ]
  },
  {
   "cell_type": "markdown",
   "metadata": {},
   "source": [
    "#### Architecture of Neural Network"
   ]
  },
  {
   "cell_type": "markdown",
   "metadata": {},
   "source": [
    "**Mathematical expression of the algorithm**"
   ]
  },
  {
   "cell_type": "markdown",
   "metadata": {},
   "source": [
    "$$z^{(i)} = W^T  * x^{(i)} + b$$"
   ]
  },
  {
   "cell_type": "markdown",
   "metadata": {},
   "source": [
    "$$ \\hat y^{(i)}=a^{(i)} = \\sigma (z^{(i)})$$"
   ]
  },
  {
   "cell_type": "markdown",
   "metadata": {},
   "source": [
    "$$L(y_i, \\hat{y_i}) = -y_i*\\log{\\hat y_i} - (1-y_i)\\log(1-\\hat{y_i})$$"
   ]
  },
  {
   "cell_type": "markdown",
   "metadata": {},
   "source": [
    "**The total cost over all training examples**"
   ]
  },
  {
   "cell_type": "markdown",
   "metadata": {},
   "source": [
    "$$J = \\frac{1}{m} \\sum{L(y_i, \\hat{y_i})}$$"
   ]
  },
  {
   "cell_type": "markdown",
   "metadata": {},
   "source": [
    "#### Building the alogrithm"
   ]
  },
  {
   "cell_type": "markdown",
   "metadata": {},
   "source": [
    "**1. Activation function**"
   ]
  },
  {
   "cell_type": "markdown",
   "metadata": {},
   "source": [
    "$$\\sigma(x) = \\frac{1}{1+e^{-x}}$$"
   ]
  },
  {
   "cell_type": "code",
   "execution_count": 12,
   "metadata": {},
   "outputs": [],
   "source": [
    "def sigmoid(x:list):\n",
    "    _sigmoid = lambda x: 1 / (1 + np.exp(-x))\n",
    "    return list(map(_sigmoid, x))"
   ]
  },
  {
   "cell_type": "code",
   "execution_count": 13,
   "metadata": {},
   "outputs": [],
   "source": [
    "# sigmoid(np.array([-1, 0, 1, 2]))"
   ]
  },
  {
   "cell_type": "markdown",
   "metadata": {},
   "source": [
    "**2. Initialize Parameters**"
   ]
  },
  {
   "cell_type": "code",
   "execution_count": 14,
   "metadata": {},
   "outputs": [],
   "source": [
    "# Random innitialize the parameters\n",
    "\n",
    "def initialize_parameters(dim):\n",
    "    '''\n",
    "    Argument: dim -- size of the w vector\n",
    "    \n",
    "    Returns:\n",
    "    w -- initialized vector of shape (dim,1)\n",
    "    b -- initializaed scalar\n",
    "    '''\n",
    "    \n",
    "    w = np.random.randn(dim, 1)\n",
    "    b = np.random.random()\n",
    "    \n",
    "    assert(w.shape == (dim,1))\n",
    "    assert(isinstance(b, float) or isinstance(b, int))\n",
    "    \n",
    "    return w,b"
   ]
  },
  {
   "cell_type": "code",
   "execution_count": 15,
   "metadata": {},
   "outputs": [],
   "source": [
    "# initialize_parameters(10)"
   ]
  },
  {
   "cell_type": "markdown",
   "metadata": {},
   "source": [
    "**3. Forward and Backward Propagation**"
   ]
  },
  {
   "cell_type": "markdown",
   "metadata": {},
   "source": [
    "Forward Propagation:   \n",
    ". X    \n",
    ". A = $\\sigma(w^T*X+b) = (a^{(1)},a^{(2)},...,a^{(m)})$   \n",
    ". J = $-\\frac{1}{m} \\sum_{i=1}^{m}y^{(i)}log(a^{(i)}+(1-y^{(i)})log(1-a^{(i)})$       "
   ]
  },
  {
   "cell_type": "markdown",
   "metadata": {},
   "source": [
    "Some derivative: \n",
    "$$\\frac{\\partial{J}}{\\partial{w}} = \\frac{1}{m}X*(A-Y)^T$$   \n",
    "$$\\frac{\\partial{J}}{\\partial{b}} = \\frac{1}{m}\\sum_{i=1}^m(a^{(i)}-y^{(i)}) $$"
   ]
  },
  {
   "cell_type": "markdown",
   "metadata": {},
   "source": [
    "$$J(y_i, \\hat{y_i}) = -\\frac{1}{m}\\sum[y_i*\\log{\\hat y_i} + (1-y_i)\\log(1-\\hat{y_i})]$$"
   ]
  },
  {
   "cell_type": "markdown",
   "metadata": {},
   "source": [
    "分析数据形状: $N$表示输入数据的维度，$M$表示样本的个数\n",
    "\n",
    "* $X$ shape $(M, N)$\n",
    "* $W$ shape $(N, 1)$\n",
    "* $A = W.T * X$ shape $(M, 1)$\n",
    "* $Y$ shape $(M, 1)$"
   ]
  },
  {
   "cell_type": "code",
   "execution_count": 16,
   "metadata": {},
   "outputs": [],
   "source": [
    "from sklearn.metrics import log_loss"
   ]
  },
  {
   "cell_type": "code",
   "execution_count": 17,
   "metadata": {},
   "outputs": [],
   "source": [
    "def propagate(w, b, X, Y):\n",
    "    '''\n",
    "    Forward and backward propagation.\n",
    "    \n",
    "    Arguments:\n",
    "    w - weights\n",
    "    b - bias\n",
    "    X - data\n",
    "    Y - ground truth\n",
    "    '''\n",
    "    def forward_propagation(W, b, X):\n",
    "        \"\"\"\n",
    "        Forward Propagaion.\n",
    "        \"\"\"\n",
    "        return sigmoid(np.dot(W.T, X) + b)\n",
    "\n",
    "    def backward_propagation(A, Y, m):\n",
    "        \"\"\"\n",
    "        Backward Propagation.\n",
    "        \"\"\"\n",
    "        partial_w = np.dot(X, (A - Y).T) / m\n",
    "        partial_b = np.sum([A - Y]) / m\n",
    "\n",
    "        return partial_w, partial_b\n",
    "\n",
    "\n",
    "    m = X.shape[1]\n",
    "\n",
    "    # forward propagation.\n",
    "    A = forward_propagation(w, b, X)\n",
    "    cost = log_loss(Y[0], A[0])\n",
    "\n",
    "    # backward propagation.\n",
    "    dw, db = backward_propagation(A, Y, m)\n",
    "    \n",
    "    assert(dw.shape == w.shape)\n",
    "    assert(db.dtype == float)\n",
    "    cost = np.squeeze(cost)\n",
    "    assert(cost.shape == ())\n",
    "\n",
    "    grads = {'dw':dw,\n",
    "             'db':db}\n",
    "\n",
    "    return grads, cost"
   ]
  },
  {
   "cell_type": "markdown",
   "metadata": {},
   "source": [
    "**4. Optimization**"
   ]
  },
  {
   "cell_type": "markdown",
   "metadata": {},
   "source": [
    "Minimizing the cost function using gradient descent.\n",
    "$$ \\theta = \\theta - \\alpha * d\\theta$$\n",
    "where the $\\alpha$ is the learning rate."
   ]
  },
  {
   "cell_type": "code",
   "execution_count": 18,
   "metadata": {},
   "outputs": [],
   "source": [
    "def optimize(w, b, X, Y, num_iterations, learning_rate, print_cost=False):\n",
    "    '''\n",
    "    This function optimize w and b by running a gradient descen algorithm\n",
    "    \n",
    "    Arguments:\n",
    "    w - weights\n",
    "    b - bias\n",
    "    X - data\n",
    "    Y - ground truth\n",
    "    num_iterations -- number of iterations of the optimization loop\n",
    "    learning_rate -- learning rate of the gradient descent update rule\n",
    "    print_cost -- True to print the loss every 100 steps\n",
    "    \n",
    "    Returns:\n",
    "    params - dictionary containing the weights w and bias b\n",
    "    grads -- dictionary containing the gradients of the weights and bias with respect to the cost function\n",
    "    costs -- list of all the costs computed during the optimization, this will be used to plot the learning curve.\n",
    "    \n",
    "    '''\n",
    "    \n",
    "    costs = []\n",
    "\n",
    "    for i in range(num_iterations):\n",
    "        grads, cost = propagate(w, b, X, Y)\n",
    "\n",
    "        dw = grads['dw']\n",
    "        db = grads['db']\n",
    "\n",
    "        w -= learning_rate * dw\n",
    "        b -= learning_rate * db\n",
    "        \n",
    "        if i % 100 == 0:\n",
    "            costs.append(cost)\n",
    "\n",
    "        if print_cost and i % 100 == 0:\n",
    "            print (\"Cost after iteration %i: %f\" %(i, cost))\n",
    "    \n",
    "    params = {\"w\":w,\n",
    "              \"b\":b}\n",
    "    \n",
    "    grads = {\"dw\":dw,\n",
    "             \"db\":db}\n",
    "    \n",
    "    return params, grads, costs"
   ]
  },
  {
   "cell_type": "markdown",
   "metadata": {},
   "source": [
    "**Training**"
   ]
  },
  {
   "cell_type": "code",
   "execution_count": 19,
   "metadata": {},
   "outputs": [
    {
     "data": {
      "text/plain": [
       "((1347, 64), (450, 64), (1347,), (450,))"
      ]
     },
     "execution_count": 19,
     "metadata": {},
     "output_type": "execute_result"
    }
   ],
   "source": [
    "X_train.shape, X_test.shape, y_train.shape, y_test.shape"
   ]
  },
  {
   "cell_type": "code",
   "execution_count": 20,
   "metadata": {},
   "outputs": [],
   "source": [
    "def clean_data():\n",
    "    X_train, X_test, y_train, y_test = train_test_split(digist_dataset.data,\n",
    "                                                        digist_dataset.target, test_size=0.25)\n",
    "    y_train[y_train < 5] = 0\n",
    "    y_train[y_train >= 5] = 1\n",
    "    y_test[y_test < 5] = 0\n",
    "    y_test[y_test >= 5] = 1\n",
    "\n",
    "    return X_train, X_test, y_train, y_test"
   ]
  },
  {
   "cell_type": "code",
   "execution_count": 21,
   "metadata": {},
   "outputs": [],
   "source": [
    "# X_train, X_test, Y_train, Y_test = clean_data()\n",
    "\n",
    "# print(X_train.shape, X_test.shape, Y_train.shape, Y_test.shape)\n",
    "# print(Y_train[Y_train == 0].shape, Y_train[Y_train == 1].shape)\n",
    "# print(Y_test[Y_test == 0].shape, Y_test[Y_test == 1].shape)"
   ]
  },
  {
   "cell_type": "code",
   "execution_count": 22,
   "metadata": {},
   "outputs": [],
   "source": [
    "def train(num_iterations=10000, learning_rate=1e-3):\n",
    "    # dataset\n",
    "    X_train, X_test, Y_train, Y_test = clean_data()\n",
    "\n",
    "    # initialize parameters.\n",
    "    X = X_train.T\n",
    "    Y = Y_train.reshape(1, -1)\n",
    "    N = X.shape[0]\n",
    "    w, b = initialize_parameters(N)\n",
    "\n",
    "    params, grads, costs = optimize(w, b, X, Y, num_iterations=num_iterations,\n",
    "                                    learning_rate=learning_rate, print_cost=False)\n",
    "\n",
    "    return params, grads, costs"
   ]
  },
  {
   "cell_type": "code",
   "execution_count": 23,
   "metadata": {},
   "outputs": [],
   "source": [
    "params, grads, costs = train()"
   ]
  },
  {
   "cell_type": "code",
   "execution_count": 24,
   "metadata": {},
   "outputs": [],
   "source": [
    "# params['w'].shape, params['b']"
   ]
  },
  {
   "cell_type": "code",
   "execution_count": 25,
   "metadata": {},
   "outputs": [
    {
     "data": {
      "text/plain": [
       "[<matplotlib.lines.Line2D at 0x11acd5f10>]"
      ]
     },
     "execution_count": 25,
     "metadata": {},
     "output_type": "execute_result"
    },
    {
     "data": {
      "image/png": "[encoded data removed]",
      "text/plain": [
       "<Figure size 432x288 with 1 Axes>"
      ]
     },
     "metadata": {
      "needs_background": "light"
     },
     "output_type": "display_data"
    }
   ],
   "source": [
    "plt.plot(np.arange(len(costs)), costs)"
   ]
  },
  {
   "cell_type": "markdown",
   "metadata": {},
   "source": [
    "**5. Predict**"
   ]
  },
  {
   "cell_type": "markdown",
   "metadata": {},
   "source": [
    "Two steps to finish this task:   \n",
    "1. Calculate $\\hat{Y} = A = \\sigma(w^T*X+b)$   \n",
    "2. Convert the entries of a into 0 (if activation <= 0.5) or 1 (if activation > 0.5), stores the predictions in a vector Y_prediction. If you wish, you can use an if/else statement in a for loop (though there is also a way to vectorize this)."
   ]
  },
  {
   "cell_type": "code",
   "execution_count": 26,
   "metadata": {},
   "outputs": [],
   "source": [
    "def predict(w, b, X, threshold=.5):\n",
    "    '''\n",
    "    Predict whether the label is 0 or 1 using learned logistic regression parameters (w, b)\n",
    "    \n",
    "    Arguments:\n",
    "    w -- weights\n",
    "    b -- bias \n",
    "    X -- data \n",
    "    \n",
    "    Returns:\n",
    "    Y_prediction -- a numpy array (vector) containing all predictions (0/1) for the examples in X\n",
    "    '''\n",
    "    m = X.shape[1]\n",
    "    Y_prediction = np.zeros((1,m))\n",
    "    w = w.reshape(X.shape[0],1)\n",
    "\n",
    "    A = sigmoid(np.dot(w.T, X) + b)\n",
    "    A = A[0]\n",
    "    \n",
    "    A[A < threshold] = 0\n",
    "    A[A > threshold] = 1\n",
    "\n",
    "    Y_prediction = A.reshape(1, -1)\n",
    "\n",
    "    assert(Y_prediction.shape == (1,m))\n",
    "    \n",
    "    return Y_prediction"
   ]
  },
  {
   "cell_type": "code",
   "execution_count": 27,
   "metadata": {},
   "outputs": [],
   "source": [
    "X_train, X_test, Y_train, Y_test = clean_data()"
   ]
  },
  {
   "cell_type": "code",
   "execution_count": 28,
   "metadata": {},
   "outputs": [],
   "source": [
    "# X_train.shape, X_test.shape, Y_train.shape, Y_test.shape"
   ]
  },
  {
   "cell_type": "code",
   "execution_count": 29,
   "metadata": {},
   "outputs": [],
   "source": [
    "# w = params['w']\n",
    "# b = params['b']\n",
    "# X = X_test.T\n",
    "\n",
    "# Y_predict = predict(w, b, X)"
   ]
  },
  {
   "cell_type": "code",
   "execution_count": 30,
   "metadata": {},
   "outputs": [],
   "source": [
    "# Y_predict"
   ]
  },
  {
   "cell_type": "markdown",
   "metadata": {},
   "source": [
    "**5. Merge functions into a model**"
   ]
  },
  {
   "cell_type": "code",
   "execution_count": 31,
   "metadata": {},
   "outputs": [],
   "source": [
    "from sklearn.metrics import accuracy_score"
   ]
  },
  {
   "cell_type": "code",
   "execution_count": 32,
   "metadata": {},
   "outputs": [],
   "source": [
    "def model(X_train, Y_train, X_test, Y_test, num_iterations, learning_rate, print_cost=True):\n",
    "    \"\"\"\n",
    "    Build the logistic regression model by calling all the functions you have implemented.\n",
    "    Arguments:\n",
    "    X_train - training set\n",
    "    Y_train - training label\n",
    "    X_test - test set\n",
    "    Y_test - test label\n",
    "    num_iteration - hyperparameter representing the number of iterations to optimize the parameters\n",
    "    learning_rate -- hyperparameter representing the learning rate used in the update rule of optimize()\n",
    "    print_cost -- Set to true to print the cost every 100 iterations\n",
    "    \n",
    "    Returns:\n",
    "    d - dictionary should contain following information w,b,training_accuracy, test_accuracy,cost\n",
    "    eg: d = {\"w\":w,\n",
    "             \"b\":b,\n",
    "             \"training_accuracy\": traing_accuracy,\n",
    "             \"test_accuracy\":test_accuracy,\n",
    "             \"cost\":cost}\n",
    "    \"\"\"\n",
    "    # initialize parameters.\n",
    "    X = X_train.T\n",
    "    Y = Y_train.reshape(1, -1)\n",
    "\n",
    "    N = X.shape[0]\n",
    "    w, b = initialize_parameters(N)\n",
    "\n",
    "    # train\n",
    "    params, grads, costs = optimize(w, b, X, Y, num_iterations=num_iterations,\n",
    "                                    learning_rate=learning_rate, print_cost=print_cost)\n",
    "\n",
    "    # predict\n",
    "    best_w = params['w']\n",
    "    best_b = params['b']\n",
    "    Y_predict = predict(best_w, best_b, X_test.T)\n",
    "    test_accuracy = accuracy_score(Y_test, Y_predict[0])\n",
    "\n",
    "    ret = {\n",
    "        'w': best_w,\n",
    "        'b': best_b,\n",
    "        'test_accuracy': test_accuracy,\n",
    "        'costs': costs,\n",
    "    }\n",
    "\n",
    "    return ret"
   ]
  },
  {
   "cell_type": "code",
   "execution_count": 33,
   "metadata": {},
   "outputs": [],
   "source": [
    "X_train, X_test, Y_train, Y_test = clean_data()\n",
    "\n",
    "result = model(X_train, Y_train, X_test, Y_test, num_iterations=10000, learning_rate=1e-3, print_cost=False)"
   ]
  },
  {
   "cell_type": "code",
   "execution_count": 34,
   "metadata": {},
   "outputs": [
    {
     "data": {
      "text/plain": [
       "0.8444444444444444"
      ]
     },
     "execution_count": 34,
     "metadata": {},
     "output_type": "execute_result"
    }
   ],
   "source": [
    "result['test_accuracy']"
   ]
  },
  {
   "cell_type": "code",
   "execution_count": 35,
   "metadata": {},
   "outputs": [
    {
     "data": {
      "text/plain": [
       "[<matplotlib.lines.Line2D at 0x11abba910>]"
      ]
     },
     "execution_count": 35,
     "metadata": {},
     "output_type": "execute_result"
    },
    {
     "data": {
      "image/png": "[encoded data removed]",
      "text/plain": [
       "<Figure size 432x288 with 1 Axes>"
      ]
     },
     "metadata": {
      "needs_background": "light"
     },
     "output_type": "display_data"
    }
   ],
   "source": [
    "plt.plot(np.arange(len(result['costs'])), result['costs'])"
   ]
  },
  {
   "cell_type": "markdown",
   "metadata": {},
   "source": [
    "## 选做题"
   ]
  },
  {
   "cell_type": "markdown",
   "metadata": {},
   "source": [
    "### Observe the effect of learning rate on the learning process"
   ]
  },
  {
   "cell_type": "markdown",
   "metadata": {},
   "source": [
    "tips: plot the learning curve with different learning rate."
   ]
  },
  {
   "cell_type": "code",
   "execution_count": 38,
   "metadata": {},
   "outputs": [],
   "source": [
    "X_train, X_test, Y_train, Y_test = clean_data()\n",
    "\n",
    "results = []\n",
    "for learning_rate in  [1e-1, 1e-2, 1e-3]:\n",
    "    result = model(X_train, Y_train, X_test, Y_test, num_iterations=10000,\n",
    "                    learning_rate=learning_rate, print_cost=False)\n",
    "    results.append(result)"
   ]
  },
  {
   "cell_type": "code",
   "execution_count": 48,
   "metadata": {},
   "outputs": [
    {
     "data": {
      "image/png": "[encoded data removed]",
      "text/plain": [
       "<Figure size 432x288 with 1 Axes>"
      ]
     },
     "metadata": {
      "needs_background": "light"
     },
     "output_type": "display_data"
    }
   ],
   "source": [
    "for result in results:\n",
    "    plt.plot(np.arange(len(result['costs'])), result['costs'])"
   ]
  },
  {
   "cell_type": "markdown",
   "metadata": {},
   "source": [
    "### Observe the effect of iteration_num on the test accuracy."
   ]
  },
  {
   "cell_type": "code",
   "execution_count": 55,
   "metadata": {},
   "outputs": [],
   "source": [
    "X_train, X_test, Y_train, Y_test = clean_data()\n",
    "\n",
    "iter_num_results = []\n",
    "for iter_num in  np.arange(1000, 10000, 500):\n",
    "    result = model(X_train, Y_train, X_test, Y_test, num_iterations=iter_num,\n",
    "                    learning_rate=1e-2, print_cost=False)\n",
    "    iter_num_results.append((iter_num, result))"
   ]
  },
  {
   "cell_type": "code",
   "execution_count": 58,
   "metadata": {},
   "outputs": [
    {
     "data": {
      "text/plain": [
       "[<matplotlib.lines.Line2D at 0x11aebe590>]"
      ]
     },
     "execution_count": 58,
     "metadata": {},
     "output_type": "execute_result"
    },
    {
     "data": {
      "image/png": "[encoded data removed]",
      "text/plain": [
       "<Figure size 432x288 with 1 Axes>"
      ]
     },
     "metadata": {
      "needs_background": "light"
     },
     "output_type": "display_data"
    }
   ],
   "source": [
    "accuracy_iter_num = []\n",
    "\n",
    "for iter_num, result in iter_num_results:\n",
    "    accuracy_iter_num.append([iter_num, result['test_accuracy']])\n",
    "\n",
    "accuracy_iter_num = np.array(accuracy_iter_num)\n",
    "plt.plot(accuracy_iter_num[:, 0], accuracy_iter_num[:, 1])"
   ]
  },
  {
   "cell_type": "markdown",
   "metadata": {},
   "source": [
    "## Challenge"
   ]
  },
  {
   "cell_type": "markdown",
   "metadata": {},
   "source": [
    "Try use softmax function to build a model to recognize which digits is the image?"
   ]
  },
  {
   "cell_type": "markdown",
   "metadata": {},
   "source": [
    "###  Keras"
   ]
  },
  {
   "cell_type": "code",
   "execution_count": 199,
   "metadata": {},
   "outputs": [],
   "source": [
    "from keras.layers import Dense\n",
    "from keras.models import Sequential"
   ]
  },
  {
   "cell_type": "code",
   "execution_count": 221,
   "metadata": {},
   "outputs": [],
   "source": [
    "model = Sequential()\n",
    "# model.add(Dense(32, activation='sigmoid', input_dim=64))\n",
    "# model.add(Dense(10, activation='softmax', input_dim=32))\n",
    "\n",
    "model.add(Dense(10, activation='softmax', input_dim=64))"
   ]
  },
  {
   "cell_type": "code",
   "execution_count": 222,
   "metadata": {},
   "outputs": [],
   "source": [
    "model.compile(optimizer='sgd', loss='sparse_categorical_crossentropy', metrics=['accuracy'])"
   ]
  },
  {
   "cell_type": "code",
   "execution_count": 223,
   "metadata": {},
   "outputs": [],
   "source": [
    "X_train, X_test, Y_train, Y_test = train_test_split(digist_dataset.data,\n",
    "                                                    digist_dataset.target, test_size=0.25)"
   ]
  },
  {
   "cell_type": "code",
   "execution_count": 224,
   "metadata": {},
   "outputs": [
    {
     "name": "stdout",
     "output_type": "stream",
     "text": [
      "Epoch 1/100\n",
      "1347/1347 [==============================] - 0s 230us/step - loss: 4.5960 - acc: 0.4135\n",
      "Epoch 2/100\n",
      "1347/1347 [==============================] - 0s 56us/step - loss: 0.8983 - acc: 0.7751\n",
      "Epoch 3/100\n",
      "1347/1347 [==============================] - 0s 49us/step - loss: 0.4861 - acc: 0.8619\n",
      "Epoch 4/100\n",
      "1347/1347 [==============================] - 0s 52us/step - loss: 0.3283 - acc: 0.8864\n",
      "Epoch 5/100\n",
      "1347/1347 [==============================] - 0s 55us/step - loss: 0.4020 - acc: 0.8968\n",
      "Epoch 6/100\n",
      "1347/1347 [==============================] - 0s 51us/step - loss: 0.2080 - acc: 0.9369\n",
      "Epoch 7/100\n",
      "1347/1347 [==============================] - 0s 53us/step - loss: 0.1853 - acc: 0.9354\n",
      "Epoch 8/100\n",
      "1347/1347 [==============================] - 0s 55us/step - loss: 0.1493 - acc: 0.9458\n",
      "Epoch 9/100\n",
      "1347/1347 [==============================] - 0s 50us/step - loss: 0.1436 - acc: 0.9532\n",
      "Epoch 10/100\n",
      "1347/1347 [==============================] - 0s 65us/step - loss: 0.1344 - acc: 0.9525\n",
      "Epoch 11/100\n",
      "1347/1347 [==============================] - 0s 46us/step - loss: 0.1188 - acc: 0.9636\n",
      "Epoch 12/100\n",
      "1347/1347 [==============================] - 0s 57us/step - loss: 0.1189 - acc: 0.9629\n",
      "Epoch 13/100\n",
      "1347/1347 [==============================] - 0s 58us/step - loss: 0.1095 - acc: 0.9659\n",
      "Epoch 14/100\n",
      "1347/1347 [==============================] - 0s 49us/step - loss: 0.1066 - acc: 0.9636\n",
      "Epoch 15/100\n",
      "1347/1347 [==============================] - 0s 51us/step - loss: 0.0932 - acc: 0.9718\n",
      "Epoch 16/100\n",
      "1347/1347 [==============================] - 0s 55us/step - loss: 0.0882 - acc: 0.9755\n",
      "Epoch 17/100\n",
      "1347/1347 [==============================] - 0s 44us/step - loss: 0.0856 - acc: 0.9733\n",
      "Epoch 18/100\n",
      "1347/1347 [==============================] - 0s 55us/step - loss: 0.0845 - acc: 0.9777\n",
      "Epoch 19/100\n",
      "1347/1347 [==============================] - 0s 44us/step - loss: 0.0783 - acc: 0.9770\n",
      "Epoch 20/100\n",
      "1347/1347 [==============================] - 0s 53us/step - loss: 0.0734 - acc: 0.9785\n",
      "Epoch 21/100\n",
      "1347/1347 [==============================] - 0s 46us/step - loss: 0.0671 - acc: 0.9792\n",
      "Epoch 22/100\n",
      "1347/1347 [==============================] - 0s 62us/step - loss: 0.0705 - acc: 0.9792\n",
      "Epoch 23/100\n",
      "1347/1347 [==============================] - 0s 44us/step - loss: 0.0659 - acc: 0.9807\n",
      "Epoch 24/100\n",
      "1347/1347 [==============================] - 0s 51us/step - loss: 0.0593 - acc: 0.9807\n",
      "Epoch 25/100\n",
      "1347/1347 [==============================] - 0s 44us/step - loss: 0.0590 - acc: 0.9844\n",
      "Epoch 26/100\n",
      "1347/1347 [==============================] - 0s 52us/step - loss: 0.0568 - acc: 0.9837\n",
      "Epoch 27/100\n",
      "1347/1347 [==============================] - 0s 46us/step - loss: 0.0557 - acc: 0.9852\n",
      "Epoch 28/100\n",
      "1347/1347 [==============================] - 0s 55us/step - loss: 0.0515 - acc: 0.9852\n",
      "Epoch 29/100\n",
      "1347/1347 [==============================] - 0s 50us/step - loss: 0.0509 - acc: 0.9829\n",
      "Epoch 30/100\n",
      "1347/1347 [==============================] - 0s 51us/step - loss: 0.0463 - acc: 0.9903\n",
      "Epoch 31/100\n",
      "1347/1347 [==============================] - 0s 51us/step - loss: 0.0488 - acc: 0.9881\n",
      "Epoch 32/100\n",
      "1347/1347 [==============================] - 0s 46us/step - loss: 0.0495 - acc: 0.9889\n",
      "Epoch 33/100\n",
      "1347/1347 [==============================] - 0s 54us/step - loss: 0.0483 - acc: 0.9889\n",
      "Epoch 34/100\n",
      "1347/1347 [==============================] - 0s 45us/step - loss: 0.0534 - acc: 0.9874\n",
      "Epoch 35/100\n",
      "1347/1347 [==============================] - 0s 59us/step - loss: 0.0422 - acc: 0.9926\n",
      "Epoch 36/100\n",
      "1347/1347 [==============================] - 0s 55us/step - loss: 0.0438 - acc: 0.9911\n",
      "Epoch 37/100\n",
      "1347/1347 [==============================] - 0s 44us/step - loss: 0.0405 - acc: 0.9933\n",
      "Epoch 38/100\n",
      "1347/1347 [==============================] - 0s 50us/step - loss: 0.0434 - acc: 0.9889\n",
      "Epoch 39/100\n",
      "1347/1347 [==============================] - 0s 47us/step - loss: 0.0400 - acc: 0.9903\n",
      "Epoch 40/100\n",
      "1347/1347 [==============================] - 0s 55us/step - loss: 0.0374 - acc: 0.9918\n",
      "Epoch 41/100\n",
      "1347/1347 [==============================] - 0s 50us/step - loss: 0.0354 - acc: 0.9955\n",
      "Epoch 42/100\n",
      "1347/1347 [==============================] - 0s 50us/step - loss: 0.0386 - acc: 0.9933\n",
      "Epoch 43/100\n",
      "1347/1347 [==============================] - 0s 46us/step - loss: 0.0368 - acc: 0.9911\n",
      "Epoch 44/100\n",
      "1347/1347 [==============================] - 0s 52us/step - loss: 0.0351 - acc: 0.9926\n",
      "Epoch 45/100\n",
      "1347/1347 [==============================] - 0s 45us/step - loss: 0.0328 - acc: 0.9941\n",
      "Epoch 46/100\n",
      "1347/1347 [==============================] - 0s 52us/step - loss: 0.0410 - acc: 0.9896\n",
      "Epoch 47/100\n",
      "1347/1347 [==============================] - 0s 48us/step - loss: 0.0332 - acc: 0.9941\n",
      "Epoch 48/100\n",
      "1347/1347 [==============================] - 0s 57us/step - loss: 0.0304 - acc: 0.9963\n",
      "Epoch 49/100\n",
      "1347/1347 [==============================] - 0s 54us/step - loss: 0.0423 - acc: 0.9918\n",
      "Epoch 50/100\n",
      "1347/1347 [==============================] - 0s 50us/step - loss: 0.0303 - acc: 0.9941\n",
      "Epoch 51/100\n",
      "1347/1347 [==============================] - 0s 47us/step - loss: 0.0290 - acc: 0.9955\n",
      "Epoch 52/100\n",
      "1347/1347 [==============================] - 0s 55us/step - loss: 0.0288 - acc: 0.9955\n",
      "Epoch 53/100\n",
      "1347/1347 [==============================] - 0s 48us/step - loss: 0.0276 - acc: 0.9955\n",
      "Epoch 54/100\n",
      "1347/1347 [==============================] - 0s 52us/step - loss: 0.0260 - acc: 0.9970\n",
      "Epoch 55/100\n",
      "1347/1347 [==============================] - 0s 45us/step - loss: 0.0283 - acc: 0.9948\n",
      "Epoch 56/100\n",
      "1347/1347 [==============================] - 0s 48us/step - loss: 0.0296 - acc: 0.9948\n",
      "Epoch 57/100\n",
      "1347/1347 [==============================] - 0s 50us/step - loss: 0.0249 - acc: 0.9978\n",
      "Epoch 58/100\n",
      "1347/1347 [==============================] - 0s 45us/step - loss: 0.0252 - acc: 0.9970\n",
      "Epoch 59/100\n",
      "1347/1347 [==============================] - 0s 47us/step - loss: 0.0298 - acc: 0.9963\n",
      "Epoch 60/100\n",
      "1347/1347 [==============================] - 0s 46us/step - loss: 0.0230 - acc: 0.9978\n",
      "Epoch 61/100\n",
      "1347/1347 [==============================] - 0s 41us/step - loss: 0.0246 - acc: 0.9963\n",
      "Epoch 62/100\n",
      "1347/1347 [==============================] - 0s 46us/step - loss: 0.0237 - acc: 0.9970\n",
      "Epoch 63/100\n",
      "1347/1347 [==============================] - 0s 41us/step - loss: 0.0239 - acc: 0.9978\n",
      "Epoch 64/100\n",
      "1347/1347 [==============================] - 0s 46us/step - loss: 0.0226 - acc: 0.9978\n",
      "Epoch 65/100\n",
      "1347/1347 [==============================] - 0s 46us/step - loss: 0.0234 - acc: 0.9970\n",
      "Epoch 66/100\n",
      "1347/1347 [==============================] - 0s 42us/step - loss: 0.0204 - acc: 0.9985\n",
      "Epoch 67/100\n",
      "1347/1347 [==============================] - 0s 46us/step - loss: 0.0221 - acc: 0.9985\n",
      "Epoch 68/100\n",
      "1347/1347 [==============================] - 0s 59us/step - loss: 0.0211 - acc: 0.9970\n",
      "Epoch 69/100\n",
      "1347/1347 [==============================] - 0s 62us/step - loss: 0.0216 - acc: 0.9978\n",
      "Epoch 70/100\n",
      "1347/1347 [==============================] - 0s 53us/step - loss: 0.0217 - acc: 0.9985\n",
      "Epoch 71/100\n",
      "1347/1347 [==============================] - 0s 45us/step - loss: 0.0199 - acc: 0.9985\n",
      "Epoch 72/100\n",
      "1347/1347 [==============================] - 0s 46us/step - loss: 0.0215 - acc: 0.9970\n",
      "Epoch 73/100\n",
      "1347/1347 [==============================] - 0s 42us/step - loss: 0.0243 - acc: 0.9948\n",
      "Epoch 74/100\n",
      "1347/1347 [==============================] - 0s 47us/step - loss: 0.0210 - acc: 0.9985\n",
      "Epoch 75/100\n",
      "1347/1347 [==============================] - 0s 46us/step - loss: 0.0209 - acc: 0.9978\n",
      "Epoch 76/100\n",
      "1347/1347 [==============================] - 0s 42us/step - loss: 0.0186 - acc: 0.9993\n",
      "Epoch 77/100\n",
      "1347/1347 [==============================] - 0s 46us/step - loss: 0.0186 - acc: 0.9978\n",
      "Epoch 78/100\n",
      "1347/1347 [==============================] - 0s 46us/step - loss: 0.0190 - acc: 0.9993\n",
      "Epoch 79/100\n",
      "1347/1347 [==============================] - 0s 42us/step - loss: 0.0188 - acc: 0.9985\n",
      "Epoch 80/100\n",
      "1347/1347 [==============================] - 0s 46us/step - loss: 0.0192 - acc: 0.9985\n",
      "Epoch 81/100\n",
      "1347/1347 [==============================] - 0s 47us/step - loss: 0.0190 - acc: 0.9970\n",
      "Epoch 82/100\n",
      "1347/1347 [==============================] - 0s 46us/step - loss: 0.0183 - acc: 0.9985\n",
      "Epoch 83/100\n"
     ]
    },
    {
     "name": "stdout",
     "output_type": "stream",
     "text": [
      "1347/1347 [==============================] - 0s 42us/step - loss: 0.0177 - acc: 0.9993\n",
      "Epoch 84/100\n",
      "1347/1347 [==============================] - 0s 47us/step - loss: 0.0185 - acc: 0.9978\n",
      "Epoch 85/100\n",
      "1347/1347 [==============================] - 0s 46us/step - loss: 0.0177 - acc: 0.9993\n",
      "Epoch 86/100\n",
      "1347/1347 [==============================] - 0s 45us/step - loss: 0.0165 - acc: 0.9993\n",
      "Epoch 87/100\n",
      "1347/1347 [==============================] - 0s 44us/step - loss: 0.0168 - acc: 0.9985\n",
      "Epoch 88/100\n",
      "1347/1347 [==============================] - 0s 46us/step - loss: 0.0165 - acc: 0.9993\n",
      "Epoch 89/100\n",
      "1347/1347 [==============================] - 0s 53us/step - loss: 0.0168 - acc: 0.9985\n",
      "Epoch 90/100\n",
      "1347/1347 [==============================] - 0s 51us/step - loss: 0.0160 - acc: 0.9993\n",
      "Epoch 91/100\n",
      "1347/1347 [==============================] - 0s 44us/step - loss: 0.0158 - acc: 0.9985\n",
      "Epoch 92/100\n",
      "1347/1347 [==============================] - 0s 46us/step - loss: 0.0195 - acc: 0.9963\n",
      "Epoch 93/100\n",
      "1347/1347 [==============================] - 0s 40us/step - loss: 0.0168 - acc: 0.9993\n",
      "Epoch 94/100\n",
      "1347/1347 [==============================] - 0s 49us/step - loss: 0.0156 - acc: 0.9985\n",
      "Epoch 95/100\n",
      "1347/1347 [==============================] - 0s 46us/step - loss: 0.0154 - acc: 0.9993\n",
      "Epoch 96/100\n",
      "1347/1347 [==============================] - 0s 45us/step - loss: 0.0155 - acc: 0.9985\n",
      "Epoch 97/100\n",
      "1347/1347 [==============================] - 0s 40us/step - loss: 0.0210 - acc: 0.9970\n",
      "Epoch 98/100\n",
      "1347/1347 [==============================] - 0s 41us/step - loss: 0.0156 - acc: 0.9985\n",
      "Epoch 99/100\n",
      "1347/1347 [==============================] - 0s 45us/step - loss: 0.0154 - acc: 0.9985\n",
      "Epoch 100/100\n",
      "1347/1347 [==============================] - 0s 46us/step - loss: 0.0152 - acc: 0.9993\n"
     ]
    },
    {
     "data": {
      "text/plain": [
       "<keras.callbacks.History at 0x137d79610>"
      ]
     },
     "execution_count": 224,
     "metadata": {},
     "output_type": "execute_result"
    }
   ],
   "source": [
    "model.fit(X_train, Y_train, batch_size=32, epochs=100)"
   ]
  },
  {
   "cell_type": "code",
   "execution_count": 225,
   "metadata": {},
   "outputs": [
    {
     "name": "stdout",
     "output_type": "stream",
     "text": [
      "450/450 [==============================] - 0s 198us/step\n"
     ]
    },
    {
     "data": {
      "text/plain": [
       "[0.15439952700534681, 0.96]"
      ]
     },
     "execution_count": 225,
     "metadata": {},
     "output_type": "execute_result"
    }
   ],
   "source": [
    "model.evaluate(X_test, Y_test)"
   ]
  },
  {
   "cell_type": "code",
   "execution_count": 226,
   "metadata": {},
   "outputs": [
    {
     "data": {
      "text/plain": [
       "True"
      ]
     },
     "execution_count": 226,
     "metadata": {},
     "output_type": "execute_result"
    }
   ],
   "source": [
    "model.predict_classes(np.array([X_test[2]]))[0] == Y_test[2]"
   ]
  },
  {
   "cell_type": "code",
   "execution_count": 229,
   "metadata": {},
   "outputs": [
    {
     "data": {
      "text/plain": [
       "array([9, 5, 6, 1, 3, 0, 3, 9, 5, 8, 4, 1, 4, 6, 8, 8, 8, 1, 7, 9, 9, 0,\n",
       "       5, 9, 3, 4, 0, 2, 5, 0, 6, 8, 1, 2, 6, 5, 0, 8, 4, 1, 7, 8, 3, 5,\n",
       "       7, 0, 0, 2, 3, 6, 3, 2, 7, 5, 2, 6, 4, 0, 4, 5, 7, 0, 3, 4, 1, 2,\n",
       "       0, 1, 1, 3, 1, 9, 2, 9, 2, 3, 2, 2, 8, 3, 0, 0, 3, 8, 4, 3, 7, 3,\n",
       "       3, 2, 0, 2, 2, 7, 5, 1, 4, 1, 5, 4, 2, 5, 4, 3, 8, 6, 9, 3, 6, 5,\n",
       "       1, 4, 6, 5, 9, 3, 0, 6, 4, 4, 3, 2, 6, 8, 1, 2, 3, 8, 6, 5, 2, 3,\n",
       "       1, 9, 7, 7, 1, 3, 8, 0, 2, 6, 5, 3, 9, 7, 6, 3, 9, 1, 5, 5, 9, 0,\n",
       "       5, 3, 4, 5, 4, 9, 8, 1, 8, 7, 0, 6, 7, 1, 5, 2, 6, 8, 9, 5, 1, 9,\n",
       "       8, 3, 9, 6, 5, 6, 7, 0, 3, 5, 3, 0, 5, 2, 9, 5, 3, 5, 9, 4, 8, 9,\n",
       "       1, 4, 3, 0, 2, 6, 5, 6, 1, 3, 0, 5, 5, 0, 2, 5, 0, 7, 8, 3, 6, 3,\n",
       "       7, 9, 3, 2, 4, 9, 1, 7, 2, 4, 5, 7, 8, 2, 5, 7, 4, 2, 2, 1, 2, 4,\n",
       "       0, 7, 6, 4, 4, 5, 0, 6, 6, 5, 5, 8, 5, 7, 7, 9, 8, 8, 2, 6, 0, 9,\n",
       "       6, 9, 5, 9, 2, 6, 9, 6, 0, 5, 5, 6, 6, 1, 3, 3, 3, 3, 9, 5, 7, 6,\n",
       "       0, 1, 8, 7, 8, 6, 6, 2, 2, 3, 9, 4, 7, 4, 2, 1, 2, 0, 0, 5, 0, 2,\n",
       "       6, 6, 3, 9, 2, 4, 1, 6, 0, 5, 1, 6, 0, 9, 7, 1, 2, 6, 9, 7, 2, 5,\n",
       "       8, 4, 4, 1, 9, 4, 9, 2, 8, 3, 3, 8, 8, 3, 9, 8, 9, 3, 4, 4, 0, 0,\n",
       "       8, 7, 7, 2, 3, 9, 3, 9, 3, 2, 1, 5, 4, 2, 5, 2, 5, 0, 1, 4, 4, 4,\n",
       "       7, 0, 9, 0, 3, 3, 6, 8, 5, 5, 0, 2, 6, 6, 6, 6, 9, 8, 9, 7, 0, 6,\n",
       "       6, 2, 4, 1, 4, 5, 7, 2, 8, 1, 2, 6, 8, 9, 1, 1, 9, 3, 9, 9, 2, 8,\n",
       "       7, 5, 9, 5, 1, 7, 2, 3, 1, 4, 1, 0, 1, 7, 3, 7, 3, 7, 2, 4, 9, 2,\n",
       "       6, 5, 9, 4, 4, 6, 0, 2, 9, 3])"
      ]
     },
     "execution_count": 229,
     "metadata": {},
     "output_type": "execute_result"
    }
   ],
   "source": [
    "model.predict_classes(X_test)"
   ]
  },
  {
   "cell_type": "code",
   "execution_count": 232,
   "metadata": {},
   "outputs": [
    {
     "data": {
      "text/plain": [
       "array([9, 5, 6, 1, 3, 0, 3, 9, 5, 5, 4, 1, 4, 6, 8, 8, 8, 1, 7, 9, 9, 0,\n",
       "       5, 9, 3, 4, 0, 2, 5, 0, 6, 8, 1, 2, 6, 3, 0, 8, 4, 1, 7, 8, 3, 1,\n",
       "       7, 0, 0, 2, 3, 6, 3, 2, 7, 5, 2, 6, 4, 0, 4, 5, 7, 0, 3, 4, 1, 2,\n",
       "       0, 1, 1, 3, 1, 9, 2, 9, 2, 3, 2, 2, 8, 3, 0, 0, 3, 8, 4, 3, 7, 3,\n",
       "       3, 2, 0, 2, 2, 7, 5, 1, 4, 1, 5, 4, 2, 5, 4, 3, 8, 6, 9, 3, 6, 5,\n",
       "       1, 4, 8, 5, 9, 3, 0, 6, 4, 4, 3, 2, 6, 8, 1, 2, 3, 8, 6, 5, 2, 3,\n",
       "       1, 9, 7, 7, 1, 3, 8, 0, 2, 6, 5, 3, 9, 7, 6, 3, 9, 1, 5, 5, 9, 0,\n",
       "       5, 9, 1, 5, 4, 9, 8, 1, 8, 7, 0, 6, 7, 8, 9, 2, 6, 8, 9, 5, 1, 9,\n",
       "       8, 3, 9, 6, 5, 6, 7, 0, 3, 5, 3, 0, 5, 2, 9, 5, 3, 5, 9, 4, 8, 9,\n",
       "       1, 4, 3, 0, 2, 6, 5, 6, 1, 3, 0, 5, 5, 0, 2, 5, 0, 7, 8, 3, 6, 3,\n",
       "       7, 9, 3, 2, 4, 9, 1, 7, 5, 4, 5, 7, 8, 2, 5, 7, 4, 2, 2, 1, 2, 4,\n",
       "       0, 7, 6, 4, 4, 5, 0, 6, 6, 5, 9, 7, 5, 7, 7, 9, 8, 8, 2, 6, 0, 9,\n",
       "       6, 9, 5, 9, 2, 6, 9, 6, 0, 5, 5, 6, 6, 1, 3, 3, 3, 1, 9, 5, 7, 6,\n",
       "       0, 1, 8, 7, 8, 6, 6, 2, 2, 3, 9, 4, 7, 4, 2, 1, 2, 0, 0, 5, 0, 2,\n",
       "       6, 6, 3, 9, 2, 4, 1, 6, 0, 5, 1, 6, 0, 9, 7, 1, 2, 6, 9, 7, 2, 5,\n",
       "       8, 4, 4, 1, 9, 4, 9, 2, 8, 3, 3, 8, 8, 3, 9, 8, 9, 9, 4, 4, 0, 0,\n",
       "       8, 7, 7, 2, 3, 9, 3, 9, 3, 2, 1, 5, 4, 2, 5, 2, 5, 0, 1, 4, 4, 4,\n",
       "       7, 0, 9, 0, 3, 3, 6, 8, 5, 8, 0, 2, 6, 6, 6, 6, 9, 8, 9, 7, 0, 6,\n",
       "       6, 2, 4, 1, 4, 5, 7, 2, 8, 1, 2, 6, 8, 9, 1, 1, 9, 3, 9, 9, 2, 8,\n",
       "       7, 0, 9, 5, 1, 7, 2, 3, 1, 4, 1, 0, 1, 7, 8, 7, 3, 7, 2, 4, 4, 2,\n",
       "       6, 5, 5, 4, 4, 6, 0, 2, 9, 3])"
      ]
     },
     "execution_count": 232,
     "metadata": {},
     "output_type": "execute_result"
    }
   ],
   "source": [
    "Y_test"
   ]
  },
  {
   "cell_type": "markdown",
   "metadata": {},
   "source": [
    "### Recognize it by myself"
   ]
  },
  {
   "cell_type": "markdown",
   "metadata": {},
   "source": [
    "TODO"
   ]
  }
 ],
 "metadata": {
  "kernelspec": {
   "display_name": "Python 3",
   "language": "python",
   "name": "python3"
  },
  "language_info": {
   "codemirror_mode": {
    "name": "ipython",
    "version": 3
   },
   "file_extension": ".py",
   "mimetype": "text/x-python",
   "name": "python",
   "nbconvert_exporter": "python",
   "pygments_lexer": "ipython3",
   "version": "3.7.5"
  },
  "toc": {
   "base_numbering": 1,
   "nav_menu": {},
   "number_sections": true,
   "sideBar": true,
   "skip_h1_title": false,
   "title_cell": "Table of Contents",
   "title_sidebar": "Contents",
   "toc_cell": false,
   "toc_position": {},
   "toc_section_display": true,
   "toc_window_display": true
  }
 },
 "nbformat": 4,
 "nbformat_minor": 2
}
