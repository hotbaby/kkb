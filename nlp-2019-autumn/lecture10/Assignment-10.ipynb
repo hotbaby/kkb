{
 "cells": [
  {
   "cell_type": "markdown",
   "metadata": {},
   "source": [
    "# Assignment 10"
   ]
  },
  {
   "cell_type": "markdown",
   "metadata": {},
   "source": [
    "### 1.复习上课内容"
   ]
  },
  {
   "cell_type": "markdown",
   "metadata": {},
   "source": [
    "### 2. 回答一下理论题目"
   ]
  },
  {
   "cell_type": "markdown",
   "metadata": {},
   "source": [
    "#### 1. What is independent assumption in Naive bayes ?"
   ]
  },
  {
   "cell_type": "markdown",
   "metadata": {},
   "source": [
    "$P(Y=c_k|X) = \\frac{P(Y=c_k, X)}{P(X)} = \\frac{P(Y=c_k)P(X|Y=c_k)}{P(X)}$"
   ]
  },
  {
   "cell_type": "markdown",
   "metadata": {},
   "source": [
    "$P(X|Y=c_k) = P(x^1, x^2, ..., x^n| Y=c_k)$，但很难求$P(x^1, x^2, ..., x^n|Y)$的概率，**假设条件度独立**，概率则简化为$P(X|Y=c_k) = P(x^1|Y=c_k)P(x^2|Y=c_k)...P(x^n|Y=c_k)$"
   ]
  },
  {
   "cell_type": "markdown",
   "metadata": {},
   "source": [
    "为了计算概率$P(x^1, x^2, ...., x^n|Y=c_k)$，贝叶斯做了条件独立性$P(A,B|C)=P(A|C)P(B|C)$的假设。"
   ]
  },
  {
   "cell_type": "markdown",
   "metadata": {},
   "source": [
    "#### 2. What is MAP(maximum a posterior) and ML(maximum likelihood) ?"
   ]
  },
  {
   "cell_type": "markdown",
   "metadata": {},
   "source": [
    "MAP\n",
    "\n",
    "$h_{MAP} = \\arg\\max\\limits_{h \\in H} {P(h|D)}\n",
    "= \\arg\\max\\limits_{h \\in H} \\frac{P(h)P(D|h)}{P(D)} \n",
    "= \\arg\\max\\limits_{h \\in H} P(h)P(D|h)$"
   ]
  },
  {
   "cell_type": "markdown",
   "metadata": {},
   "source": [
    "MAP由贝叶斯公式$P(B|A) = \\frac{P(B)P(A|B)}{P(A)}$推导而来，$P(h)$是先验概率，$P(D|h)*P(h)$在先验概率下，最有可能出现的概率。"
   ]
  },
  {
   "cell_type": "markdown",
   "metadata": {},
   "source": [
    "ML\n",
    "\n",
    "$h_{ML} = \\arg\\max\\limits_{h \\in H} P(D|h)$"
   ]
  },
  {
   "cell_type": "markdown",
   "metadata": {},
   "source": [
    "与MAP不同，ML假设$P(h)$是相同的，是一个常数。"
   ]
  },
  {
   "cell_type": "markdown",
   "metadata": {},
   "source": [
    "#### 3. What is support vector in SVM?"
   ]
  },
  {
   "cell_type": "markdown",
   "metadata": {},
   "source": [
    "与分离超平面距离最近的样本点称为支持向量，支持向量是使得约束条件$y_i(x_i*w + b) -1 = 0$等号成立的点。支持向量决定了超平面的参数。"
   ]
  },
  {
   "cell_type": "markdown",
   "metadata": {},
   "source": [
    "#### 4. What is the intuition behind SVM ?"
   ]
  },
  {
   "cell_type": "markdown",
   "metadata": {},
   "source": [
    "当数据线性可分时，找一个平面能够分离正负样本，并且使分离间隔最大化。对于数据线性不可分时，通过kernel trick将输入数据映射到更高维空间，在高维空间学习一个线性分类器。"
   ]
  },
  {
   "cell_type": "markdown",
   "metadata": {},
   "source": [
    "#### 5. Shortly describ what 'random' means in random forest ?"
   ]
  },
  {
   "cell_type": "markdown",
   "metadata": {},
   "source": [
    "* 随机选择k个样本\n",
    "* 随机选择t个特征"
   ]
  },
  {
   "cell_type": "markdown",
   "metadata": {},
   "source": [
    "#### 6. What criterion does XGBoost use to find the best split point in a tree ?"
   ]
  },
  {
   "cell_type": "markdown",
   "metadata": {},
   "source": [
    "目标函数$Obj = \\sum_\\limits{i} l(y, \\hat y_i) + \\sum_\\limits{k} \\Omega(f_t)$，\n",
    "其中正则项$\\Omega(f) = \\gamma T+\\frac{1}{2}||w||^2$ "
   ]
  },
  {
   "cell_type": "markdown",
   "metadata": {},
   "source": [
    "求的$f_t$使得目标函数$Obj$最小"
   ]
  },
  {
   "cell_type": "markdown",
   "metadata": {},
   "source": [
    "$L_{split} = \\frac{1}{2} [\\frac{(\\sum_{i \\in I_L} g_i)^2}{\\sum_{i \\in I_L}{h_i} + \\lambda} + \n",
    "\\frac{(\\sum_{i \\in I_R} g_i)^2}{\\sum_{i \\in I_R}{h_i} + \\lambda} -\n",
    "\\frac{(\\sum_{i \\in I} g_i)^2}{\\sum_{i \\in I}{h_i} + \\lambda}] - \n",
    "\\gamma$"
   ]
  },
  {
   "cell_type": "markdown",
   "metadata": {},
   "source": [
    "### 3. Practial part"
   ]
  },
  {
   "cell_type": "markdown",
   "metadata": {},
   "source": [
    "##### Problem description: In this part you are going to build a classifier to detect if a piece of news is published by the Xinhua news agency (新华社）."
   ]
  },
  {
   "cell_type": "markdown",
   "metadata": {},
   "source": [
    "#### Hints:"
   ]
  },
  {
   "cell_type": "markdown",
   "metadata": {},
   "source": [
    "###### 1. Firstly, you have to come up with a way to represent the news. (Vectorize the sentence, you can find different ways to do so online)  "
   ]
  },
  {
   "cell_type": "markdown",
   "metadata": {},
   "source": [
    "###### 2. Secondly,  pick a machine learning algorithm that you think is suitable for this task"
   ]
  },
  {
   "cell_type": "code",
   "execution_count": 18,
   "metadata": {},
   "outputs": [],
   "source": [
    "import numpy as np\n",
    "import pandas as pd\n",
    "import matplotlib.pyplot as plt"
   ]
  },
  {
   "cell_type": "code",
   "execution_count": 19,
   "metadata": {},
   "outputs": [],
   "source": [
    "%matplotlib inline"
   ]
  },
  {
   "cell_type": "code",
   "execution_count": 8,
   "metadata": {},
   "outputs": [],
   "source": [
    "news_df = pd.read_csv('news.csv')"
   ]
  },
  {
   "cell_type": "code",
   "execution_count": 32,
   "metadata": {},
   "outputs": [
    {
     "data": {
      "text/html": [
       "<div>\n",
       "<style scoped>\n",
       "    .dataframe tbody tr th:only-of-type {\n",
       "        vertical-align: middle;\n",
       "    }\n",
       "\n",
       "    .dataframe tbody tr th {\n",
       "        vertical-align: top;\n",
       "    }\n",
       "\n",
       "    .dataframe thead th {\n",
       "        text-align: right;\n",
       "    }\n",
       "</style>\n",
       "<table border=\"1\" class=\"dataframe\">\n",
       "  <thead>\n",
       "    <tr style=\"text-align: right;\">\n",
       "      <th></th>\n",
       "      <th>id</th>\n",
       "      <th>author</th>\n",
       "      <th>source</th>\n",
       "      <th>content</th>\n",
       "      <th>feature</th>\n",
       "      <th>title</th>\n",
       "      <th>url</th>\n",
       "    </tr>\n",
       "  </thead>\n",
       "  <tbody>\n",
       "    <tr>\n",
       "      <th>0</th>\n",
       "      <td>89617</td>\n",
       "      <td>NaN</td>\n",
       "      <td>快科技@http://www.kkj.cn/</td>\n",
       "      <td>此外，自本周（6月12日）起，除小米手机6等15款机型外，其余机型已暂停更新发布（含开发版/...</td>\n",
       "      <td>{\"type\":\"科技\",\"site\":\"cnbeta\",\"commentNum\":\"37\"...</td>\n",
       "      <td>小米MIUI 9首批机型曝光：共计15款</td>\n",
       "      <td>http://www.cnbeta.com/articles/tech/623597.htm</td>\n",
       "    </tr>\n",
       "    <tr>\n",
       "      <th>1</th>\n",
       "      <td>89616</td>\n",
       "      <td>NaN</td>\n",
       "      <td>快科技@http://www.kkj.cn/</td>\n",
       "      <td>骁龙835作为唯一通过Windows 10桌面平台认证的ARM处理器，高通强调，不会因为只考...</td>\n",
       "      <td>{\"type\":\"科技\",\"site\":\"cnbeta\",\"commentNum\":\"15\"...</td>\n",
       "      <td>骁龙835在Windows 10上的性能表现有望改善</td>\n",
       "      <td>http://www.cnbeta.com/articles/tech/623599.htm</td>\n",
       "    </tr>\n",
       "    <tr>\n",
       "      <th>2</th>\n",
       "      <td>89615</td>\n",
       "      <td>NaN</td>\n",
       "      <td>快科技@http://www.kkj.cn/</td>\n",
       "      <td>此前的一加3T搭载的是3400mAh电池，DashCharge快充规格为5V/4A。\\n至于...</td>\n",
       "      <td>{\"type\":\"科技\",\"site\":\"cnbeta\",\"commentNum\":\"18\"...</td>\n",
       "      <td>一加手机5细节曝光：3300mAh、充半小时用1天</td>\n",
       "      <td>http://www.cnbeta.com/articles/tech/623601.htm</td>\n",
       "    </tr>\n",
       "    <tr>\n",
       "      <th>3</th>\n",
       "      <td>89614</td>\n",
       "      <td>NaN</td>\n",
       "      <td>新华社</td>\n",
       "      <td>这是6月18日在葡萄牙中部大佩德罗冈地区拍摄的被森林大火烧毁的汽车。新华社记者张立云摄\\n</td>\n",
       "      <td>{\"type\":\"国际新闻\",\"site\":\"环球\",\"commentNum\":\"0\",\"j...</td>\n",
       "      <td>葡森林火灾造成至少62人死亡 政府宣布进入紧急状态（组图）</td>\n",
       "      <td>http://world.huanqiu.com/hot/2017-06/10866126....</td>\n",
       "    </tr>\n",
       "    <tr>\n",
       "      <th>4</th>\n",
       "      <td>89613</td>\n",
       "      <td>胡淑丽_MN7479</td>\n",
       "      <td>深圳大件事</td>\n",
       "      <td>（原标题：44岁女子跑深圳约会网友被拒，暴雨中裸身奔走……）\\n@深圳交警微博称：昨日清晨交...</td>\n",
       "      <td>{\"type\":\"新闻\",\"site\":\"网易热门\",\"commentNum\":\"978\",...</td>\n",
       "      <td>44岁女子约网友被拒暴雨中裸奔 交警为其披衣相随</td>\n",
       "      <td>http://news.163.com/17/0618/00/CN617P3Q0001875...</td>\n",
       "    </tr>\n",
       "  </tbody>\n",
       "</table>\n",
       "</div>"
      ],
      "text/plain": [
       "      id      author                  source  \\\n",
       "0  89617         NaN  快科技@http://www.kkj.cn/   \n",
       "1  89616         NaN  快科技@http://www.kkj.cn/   \n",
       "2  89615         NaN  快科技@http://www.kkj.cn/   \n",
       "3  89614         NaN                     新华社   \n",
       "4  89613  胡淑丽_MN7479                   深圳大件事   \n",
       "\n",
       "                                             content  \\\n",
       "0  此外，自本周（6月12日）起，除小米手机6等15款机型外，其余机型已暂停更新发布（含开发版/...   \n",
       "1  骁龙835作为唯一通过Windows 10桌面平台认证的ARM处理器，高通强调，不会因为只考...   \n",
       "2  此前的一加3T搭载的是3400mAh电池，DashCharge快充规格为5V/4A。\\n至于...   \n",
       "3      这是6月18日在葡萄牙中部大佩德罗冈地区拍摄的被森林大火烧毁的汽车。新华社记者张立云摄\\n   \n",
       "4  （原标题：44岁女子跑深圳约会网友被拒，暴雨中裸身奔走……）\\n@深圳交警微博称：昨日清晨交...   \n",
       "\n",
       "                                             feature  \\\n",
       "0  {\"type\":\"科技\",\"site\":\"cnbeta\",\"commentNum\":\"37\"...   \n",
       "1  {\"type\":\"科技\",\"site\":\"cnbeta\",\"commentNum\":\"15\"...   \n",
       "2  {\"type\":\"科技\",\"site\":\"cnbeta\",\"commentNum\":\"18\"...   \n",
       "3  {\"type\":\"国际新闻\",\"site\":\"环球\",\"commentNum\":\"0\",\"j...   \n",
       "4  {\"type\":\"新闻\",\"site\":\"网易热门\",\"commentNum\":\"978\",...   \n",
       "\n",
       "                           title  \\\n",
       "0           小米MIUI 9首批机型曝光：共计15款   \n",
       "1     骁龙835在Windows 10上的性能表现有望改善   \n",
       "2      一加手机5细节曝光：3300mAh、充半小时用1天   \n",
       "3  葡森林火灾造成至少62人死亡 政府宣布进入紧急状态（组图）   \n",
       "4       44岁女子约网友被拒暴雨中裸奔 交警为其披衣相随   \n",
       "\n",
       "                                                 url  \n",
       "0     http://www.cnbeta.com/articles/tech/623597.htm  \n",
       "1     http://www.cnbeta.com/articles/tech/623599.htm  \n",
       "2     http://www.cnbeta.com/articles/tech/623601.htm  \n",
       "3  http://world.huanqiu.com/hot/2017-06/10866126....  \n",
       "4  http://news.163.com/17/0618/00/CN617P3Q0001875...  "
      ]
     },
     "execution_count": 32,
     "metadata": {},
     "output_type": "execute_result"
    }
   ],
   "source": [
    "news_df.head()"
   ]
  },
  {
   "cell_type": "code",
   "execution_count": 28,
   "metadata": {},
   "outputs": [
    {
     "data": {
      "text/plain": [
       "975"
      ]
     },
     "execution_count": 28,
     "metadata": {},
     "output_type": "execute_result"
    }
   ],
   "source": [
    "# news source category\n",
    "\n",
    "len(set(news_df['source']))"
   ]
  },
  {
   "cell_type": "code",
   "execution_count": 31,
   "metadata": {},
   "outputs": [
    {
     "data": {
      "text/html": [
       "<div>\n",
       "<style scoped>\n",
       "    .dataframe tbody tr th:only-of-type {\n",
       "        vertical-align: middle;\n",
       "    }\n",
       "\n",
       "    .dataframe tbody tr th {\n",
       "        vertical-align: top;\n",
       "    }\n",
       "\n",
       "    .dataframe thead th {\n",
       "        text-align: right;\n",
       "    }\n",
       "</style>\n",
       "<table border=\"1\" class=\"dataframe\">\n",
       "  <thead>\n",
       "    <tr style=\"text-align: right;\">\n",
       "      <th></th>\n",
       "      <th>id</th>\n",
       "      <th>author</th>\n",
       "      <th>source</th>\n",
       "      <th>content</th>\n",
       "      <th>feature</th>\n",
       "      <th>title</th>\n",
       "      <th>url</th>\n",
       "    </tr>\n",
       "  </thead>\n",
       "  <tbody>\n",
       "    <tr>\n",
       "      <th>3</th>\n",
       "      <td>89614</td>\n",
       "      <td>NaN</td>\n",
       "      <td>新华社</td>\n",
       "      <td>这是6月18日在葡萄牙中部大佩德罗冈地区拍摄的被森林大火烧毁的汽车。新华社记者张立云摄\\n</td>\n",
       "      <td>{\"type\":\"国际新闻\",\"site\":\"环球\",\"commentNum\":\"0\",\"j...</td>\n",
       "      <td>葡森林火灾造成至少62人死亡 政府宣布进入紧急状态（组图）</td>\n",
       "      <td>http://world.huanqiu.com/hot/2017-06/10866126....</td>\n",
       "    </tr>\n",
       "    <tr>\n",
       "      <th>39</th>\n",
       "      <td>89578</td>\n",
       "      <td>NaN</td>\n",
       "      <td>新华社</td>\n",
       "      <td>这是6月18日在葡萄牙中部大佩德罗冈地区拍摄的被森林大火烧毁的汽车。新华社记者张立云摄\\n</td>\n",
       "      <td>{\"type\":\"国际新闻\",\"site\":\"环球\",\"commentNum\":\"0\",\"j...</td>\n",
       "      <td>葡森林火灾造成至少62人死亡 政府宣布进入紧急状态</td>\n",
       "      <td>http://world.huanqiu.com/hot/2017-06/10866229....</td>\n",
       "    </tr>\n",
       "    <tr>\n",
       "      <th>95</th>\n",
       "      <td>89522</td>\n",
       "      <td>NaN</td>\n",
       "      <td>新华社</td>\n",
       "      <td>新华社韩国济州6月18日电综述：亚投行第二届年会三大亮点\\n新华社记者 耿学鹏 严蕾\\n亚洲...</td>\n",
       "      <td>{\"type\":\"国内新闻\",\"site\":\"环球\",\"commentNum\":\"0\",\"j...</td>\n",
       "      <td>综述：亚投行第二届年会三大亮点</td>\n",
       "      <td>http://china.huanqiu.com/hot/2017-06/10866439....</td>\n",
       "    </tr>\n",
       "    <tr>\n",
       "      <th>113</th>\n",
       "      <td>89504</td>\n",
       "      <td>NaN</td>\n",
       "      <td>新华社</td>\n",
       "      <td>新华社北京6月18日电 经军委领导批准，《军营理论热点怎么看·2017》日前印发全军。\\n为...</td>\n",
       "      <td>{\"type\":\"国内新闻\",\"site\":\"环球\",\"commentNum\":\"0\",\"j...</td>\n",
       "      <td>《军营理论热点怎么看·2017》印发全军</td>\n",
       "      <td>http://china.huanqiu.com/hot/2017-06/10866447....</td>\n",
       "    </tr>\n",
       "    <tr>\n",
       "      <th>305</th>\n",
       "      <td>89312</td>\n",
       "      <td>NaN</td>\n",
       "      <td>新华社</td>\n",
       "      <td>新华社兰州6月19日电（记者张钦）记者19日了解到，刚刚出台的《甘肃省网络扶贫行动的实施方案...</td>\n",
       "      <td>{\"type\":\"国内新闻\",\"site\":\"环球\",\"commentNum\":\"0\",\"j...</td>\n",
       "      <td>甘肃力推网络扶贫：贫困山区到2020年实现4G网络全覆盖</td>\n",
       "      <td>http://china.huanqiu.com/hot/2017-06/10866626....</td>\n",
       "    </tr>\n",
       "  </tbody>\n",
       "</table>\n",
       "</div>"
      ],
      "text/plain": [
       "        id author source                                            content  \\\n",
       "3    89614    NaN    新华社      这是6月18日在葡萄牙中部大佩德罗冈地区拍摄的被森林大火烧毁的汽车。新华社记者张立云摄\\n   \n",
       "39   89578    NaN    新华社      这是6月18日在葡萄牙中部大佩德罗冈地区拍摄的被森林大火烧毁的汽车。新华社记者张立云摄\\n   \n",
       "95   89522    NaN    新华社  新华社韩国济州6月18日电综述：亚投行第二届年会三大亮点\\n新华社记者 耿学鹏 严蕾\\n亚洲...   \n",
       "113  89504    NaN    新华社  新华社北京6月18日电 经军委领导批准，《军营理论热点怎么看·2017》日前印发全军。\\n为...   \n",
       "305  89312    NaN    新华社  新华社兰州6月19日电（记者张钦）记者19日了解到，刚刚出台的《甘肃省网络扶贫行动的实施方案...   \n",
       "\n",
       "                                               feature  \\\n",
       "3    {\"type\":\"国际新闻\",\"site\":\"环球\",\"commentNum\":\"0\",\"j...   \n",
       "39   {\"type\":\"国际新闻\",\"site\":\"环球\",\"commentNum\":\"0\",\"j...   \n",
       "95   {\"type\":\"国内新闻\",\"site\":\"环球\",\"commentNum\":\"0\",\"j...   \n",
       "113  {\"type\":\"国内新闻\",\"site\":\"环球\",\"commentNum\":\"0\",\"j...   \n",
       "305  {\"type\":\"国内新闻\",\"site\":\"环球\",\"commentNum\":\"0\",\"j...   \n",
       "\n",
       "                             title  \\\n",
       "3    葡森林火灾造成至少62人死亡 政府宣布进入紧急状态（组图）   \n",
       "39       葡森林火灾造成至少62人死亡 政府宣布进入紧急状态   \n",
       "95                 综述：亚投行第二届年会三大亮点   \n",
       "113           《军营理论热点怎么看·2017》印发全军   \n",
       "305   甘肃力推网络扶贫：贫困山区到2020年实现4G网络全覆盖   \n",
       "\n",
       "                                                   url  \n",
       "3    http://world.huanqiu.com/hot/2017-06/10866126....  \n",
       "39   http://world.huanqiu.com/hot/2017-06/10866229....  \n",
       "95   http://china.huanqiu.com/hot/2017-06/10866439....  \n",
       "113  http://china.huanqiu.com/hot/2017-06/10866447....  \n",
       "305  http://china.huanqiu.com/hot/2017-06/10866626....  "
      ]
     },
     "execution_count": 31,
     "metadata": {},
     "output_type": "execute_result"
    }
   ],
   "source": [
    "# 新华社新闻\n",
    "\n",
    "news_df[news_df.source=='新华社'].head()"
   ]
  },
  {
   "cell_type": "markdown",
   "metadata": {},
   "source": [
    "#### Data Preprocessing"
   ]
  },
  {
   "cell_type": "code",
   "execution_count": 36,
   "metadata": {},
   "outputs": [],
   "source": [
    "dataset = news_df[['source', 'content', 'title']]"
   ]
  },
  {
   "cell_type": "code",
   "execution_count": 38,
   "metadata": {},
   "outputs": [
    {
     "data": {
      "text/html": [
       "<div>\n",
       "<style scoped>\n",
       "    .dataframe tbody tr th:only-of-type {\n",
       "        vertical-align: middle;\n",
       "    }\n",
       "\n",
       "    .dataframe tbody tr th {\n",
       "        vertical-align: top;\n",
       "    }\n",
       "\n",
       "    .dataframe thead th {\n",
       "        text-align: right;\n",
       "    }\n",
       "</style>\n",
       "<table border=\"1\" class=\"dataframe\">\n",
       "  <thead>\n",
       "    <tr style=\"text-align: right;\">\n",
       "      <th></th>\n",
       "      <th>source</th>\n",
       "      <th>content</th>\n",
       "      <th>title</th>\n",
       "    </tr>\n",
       "  </thead>\n",
       "  <tbody>\n",
       "    <tr>\n",
       "      <th>0</th>\n",
       "      <td>快科技@http://www.kkj.cn/</td>\n",
       "      <td>此外，自本周（6月12日）起，除小米手机6等15款机型外，其余机型已暂停更新发布（含开发版/...</td>\n",
       "      <td>小米MIUI 9首批机型曝光：共计15款</td>\n",
       "    </tr>\n",
       "    <tr>\n",
       "      <th>1</th>\n",
       "      <td>快科技@http://www.kkj.cn/</td>\n",
       "      <td>骁龙835作为唯一通过Windows 10桌面平台认证的ARM处理器，高通强调，不会因为只考...</td>\n",
       "      <td>骁龙835在Windows 10上的性能表现有望改善</td>\n",
       "    </tr>\n",
       "    <tr>\n",
       "      <th>2</th>\n",
       "      <td>快科技@http://www.kkj.cn/</td>\n",
       "      <td>此前的一加3T搭载的是3400mAh电池，DashCharge快充规格为5V/4A。\\n至于...</td>\n",
       "      <td>一加手机5细节曝光：3300mAh、充半小时用1天</td>\n",
       "    </tr>\n",
       "    <tr>\n",
       "      <th>3</th>\n",
       "      <td>新华社</td>\n",
       "      <td>这是6月18日在葡萄牙中部大佩德罗冈地区拍摄的被森林大火烧毁的汽车。新华社记者张立云摄\\n</td>\n",
       "      <td>葡森林火灾造成至少62人死亡 政府宣布进入紧急状态（组图）</td>\n",
       "    </tr>\n",
       "    <tr>\n",
       "      <th>4</th>\n",
       "      <td>深圳大件事</td>\n",
       "      <td>（原标题：44岁女子跑深圳约会网友被拒，暴雨中裸身奔走……）\\n@深圳交警微博称：昨日清晨交...</td>\n",
       "      <td>44岁女子约网友被拒暴雨中裸奔 交警为其披衣相随</td>\n",
       "    </tr>\n",
       "  </tbody>\n",
       "</table>\n",
       "</div>"
      ],
      "text/plain": [
       "                   source                                            content  \\\n",
       "0  快科技@http://www.kkj.cn/  此外，自本周（6月12日）起，除小米手机6等15款机型外，其余机型已暂停更新发布（含开发版/...   \n",
       "1  快科技@http://www.kkj.cn/  骁龙835作为唯一通过Windows 10桌面平台认证的ARM处理器，高通强调，不会因为只考...   \n",
       "2  快科技@http://www.kkj.cn/  此前的一加3T搭载的是3400mAh电池，DashCharge快充规格为5V/4A。\\n至于...   \n",
       "3                     新华社      这是6月18日在葡萄牙中部大佩德罗冈地区拍摄的被森林大火烧毁的汽车。新华社记者张立云摄\\n   \n",
       "4                   深圳大件事  （原标题：44岁女子跑深圳约会网友被拒，暴雨中裸身奔走……）\\n@深圳交警微博称：昨日清晨交...   \n",
       "\n",
       "                           title  \n",
       "0           小米MIUI 9首批机型曝光：共计15款  \n",
       "1     骁龙835在Windows 10上的性能表现有望改善  \n",
       "2      一加手机5细节曝光：3300mAh、充半小时用1天  \n",
       "3  葡森林火灾造成至少62人死亡 政府宣布进入紧急状态（组图）  \n",
       "4       44岁女子约网友被拒暴雨中裸奔 交警为其披衣相随  "
      ]
     },
     "execution_count": 38,
     "metadata": {},
     "output_type": "execute_result"
    }
   ],
   "source": [
    "dataset.head()"
   ]
  },
  {
   "cell_type": "code",
   "execution_count": 82,
   "metadata": {},
   "outputs": [
    {
     "data": {
      "text/plain": [
       "(89611, 4)"
      ]
     },
     "execution_count": 82,
     "metadata": {},
     "output_type": "execute_result"
    }
   ],
   "source": [
    "dataset.shape"
   ]
  },
  {
   "cell_type": "code",
   "execution_count": 103,
   "metadata": {},
   "outputs": [],
   "source": [
    "# add label column\n",
    "\n",
    "dataset['label'] = dataset.apply(lambda row: row.source == '新华社', axis=1)\n",
    "\n",
    "dataset = dataset.astype({'label': int})"
   ]
  },
  {
   "cell_type": "code",
   "execution_count": 104,
   "metadata": {},
   "outputs": [
    {
     "data": {
      "text/plain": [
       "<matplotlib.axes._subplots.AxesSubplot at 0x12000f090>"
      ]
     },
     "execution_count": 104,
     "metadata": {},
     "output_type": "execute_result"
    },
    {
     "data": {
      "image/png": "[encoded data removed]",
      "text/plain": [
       "<Figure size 432x288 with 1 Axes>"
      ]
     },
     "metadata": {
      "needs_background": "light"
     },
     "output_type": "display_data"
    }
   ],
   "source": [
    "dataset['label'].hist()"
   ]
  },
  {
   "cell_type": "code",
   "execution_count": 106,
   "metadata": {},
   "outputs": [
    {
     "data": {
      "text/html": [
       "<div>\n",
       "<style scoped>\n",
       "    .dataframe tbody tr th:only-of-type {\n",
       "        vertical-align: middle;\n",
       "    }\n",
       "\n",
       "    .dataframe tbody tr th {\n",
       "        vertical-align: top;\n",
       "    }\n",
       "\n",
       "    .dataframe thead th {\n",
       "        text-align: right;\n",
       "    }\n",
       "</style>\n",
       "<table border=\"1\" class=\"dataframe\">\n",
       "  <thead>\n",
       "    <tr style=\"text-align: right;\">\n",
       "      <th></th>\n",
       "      <th>source</th>\n",
       "      <th>content</th>\n",
       "      <th>title</th>\n",
       "      <th>label</th>\n",
       "    </tr>\n",
       "  </thead>\n",
       "  <tbody>\n",
       "    <tr>\n",
       "      <th>0</th>\n",
       "      <td>快科技@http://www.kkj.cn/</td>\n",
       "      <td>此外，自本周（6月12日）起，除小米手机6等15款机型外，其余机型已暂停更新发布（含开发版/...</td>\n",
       "      <td>小米MIUI 9首批机型曝光：共计15款</td>\n",
       "      <td>0</td>\n",
       "    </tr>\n",
       "    <tr>\n",
       "      <th>1</th>\n",
       "      <td>快科技@http://www.kkj.cn/</td>\n",
       "      <td>骁龙835作为唯一通过Windows 10桌面平台认证的ARM处理器，高通强调，不会因为只考...</td>\n",
       "      <td>骁龙835在Windows 10上的性能表现有望改善</td>\n",
       "      <td>0</td>\n",
       "    </tr>\n",
       "    <tr>\n",
       "      <th>2</th>\n",
       "      <td>快科技@http://www.kkj.cn/</td>\n",
       "      <td>此前的一加3T搭载的是3400mAh电池，DashCharge快充规格为5V/4A。\\n至于...</td>\n",
       "      <td>一加手机5细节曝光：3300mAh、充半小时用1天</td>\n",
       "      <td>0</td>\n",
       "    </tr>\n",
       "    <tr>\n",
       "      <th>3</th>\n",
       "      <td>新华社</td>\n",
       "      <td>这是6月18日在葡萄牙中部大佩德罗冈地区拍摄的被森林大火烧毁的汽车。新华社记者张立云摄\\n</td>\n",
       "      <td>葡森林火灾造成至少62人死亡 政府宣布进入紧急状态（组图）</td>\n",
       "      <td>1</td>\n",
       "    </tr>\n",
       "    <tr>\n",
       "      <th>4</th>\n",
       "      <td>深圳大件事</td>\n",
       "      <td>（原标题：44岁女子跑深圳约会网友被拒，暴雨中裸身奔走……）\\n@深圳交警微博称：昨日清晨交...</td>\n",
       "      <td>44岁女子约网友被拒暴雨中裸奔 交警为其披衣相随</td>\n",
       "      <td>0</td>\n",
       "    </tr>\n",
       "  </tbody>\n",
       "</table>\n",
       "</div>"
      ],
      "text/plain": [
       "                   source                                            content  \\\n",
       "0  快科技@http://www.kkj.cn/  此外，自本周（6月12日）起，除小米手机6等15款机型外，其余机型已暂停更新发布（含开发版/...   \n",
       "1  快科技@http://www.kkj.cn/  骁龙835作为唯一通过Windows 10桌面平台认证的ARM处理器，高通强调，不会因为只考...   \n",
       "2  快科技@http://www.kkj.cn/  此前的一加3T搭载的是3400mAh电池，DashCharge快充规格为5V/4A。\\n至于...   \n",
       "3                     新华社      这是6月18日在葡萄牙中部大佩德罗冈地区拍摄的被森林大火烧毁的汽车。新华社记者张立云摄\\n   \n",
       "4                   深圳大件事  （原标题：44岁女子跑深圳约会网友被拒，暴雨中裸身奔走……）\\n@深圳交警微博称：昨日清晨交...   \n",
       "\n",
       "                           title  label  \n",
       "0           小米MIUI 9首批机型曝光：共计15款      0  \n",
       "1     骁龙835在Windows 10上的性能表现有望改善      0  \n",
       "2      一加手机5细节曝光：3300mAh、充半小时用1天      0  \n",
       "3  葡森林火灾造成至少62人死亡 政府宣布进入紧急状态（组图）      1  \n",
       "4       44岁女子约网友被拒暴雨中裸奔 交警为其披衣相随      0  "
      ]
     },
     "execution_count": 106,
     "metadata": {},
     "output_type": "execute_result"
    }
   ],
   "source": [
    "dataset.head()"
   ]
  },
  {
   "cell_type": "code",
   "execution_count": 150,
   "metadata": {},
   "outputs": [
    {
     "data": {
      "text/html": [
       "<div>\n",
       "<style scoped>\n",
       "    .dataframe tbody tr th:only-of-type {\n",
       "        vertical-align: middle;\n",
       "    }\n",
       "\n",
       "    .dataframe tbody tr th {\n",
       "        vertical-align: top;\n",
       "    }\n",
       "\n",
       "    .dataframe thead th {\n",
       "        text-align: right;\n",
       "    }\n",
       "</style>\n",
       "<table border=\"1\" class=\"dataframe\">\n",
       "  <thead>\n",
       "    <tr style=\"text-align: right;\">\n",
       "      <th></th>\n",
       "      <th>source</th>\n",
       "      <th>content</th>\n",
       "    </tr>\n",
       "  </thead>\n",
       "  <tbody>\n",
       "    <tr>\n",
       "      <th>3</th>\n",
       "      <td>新华社</td>\n",
       "      <td>这是6月18日在葡萄牙中部大佩德罗冈地区拍摄的被森林大火烧毁的汽车。新华社记者张立云摄\\n</td>\n",
       "    </tr>\n",
       "    <tr>\n",
       "      <th>39</th>\n",
       "      <td>新华社</td>\n",
       "      <td>这是6月18日在葡萄牙中部大佩德罗冈地区拍摄的被森林大火烧毁的汽车。新华社记者张立云摄\\n</td>\n",
       "    </tr>\n",
       "    <tr>\n",
       "      <th>95</th>\n",
       "      <td>新华社</td>\n",
       "      <td>新华社韩国济州6月18日电综述：亚投行第二届年会三大亮点\\n新华社记者 耿学鹏 严蕾\\n亚洲...</td>\n",
       "    </tr>\n",
       "    <tr>\n",
       "      <th>113</th>\n",
       "      <td>新华社</td>\n",
       "      <td>新华社北京6月18日电 经军委领导批准，《军营理论热点怎么看·2017》日前印发全军。\\n为...</td>\n",
       "    </tr>\n",
       "    <tr>\n",
       "      <th>305</th>\n",
       "      <td>新华社</td>\n",
       "      <td>新华社兰州6月19日电（记者张钦）记者19日了解到，刚刚出台的《甘肃省网络扶贫行动的实施方案...</td>\n",
       "    </tr>\n",
       "    <tr>\n",
       "      <th>312</th>\n",
       "      <td>新华社</td>\n",
       "      <td>新华社乌鲁木齐6月18日电（记者杜刚、王秉阳）6月18日，新疆天山天池首次举办山地马拉松比赛...</td>\n",
       "    </tr>\n",
       "    <tr>\n",
       "      <th>314</th>\n",
       "      <td>新华社</td>\n",
       "      <td>新华社北京6月19日电（记者熊丰）记者从公安部消防局获悉，19日上午6时，由公安部消防局组织...</td>\n",
       "    </tr>\n",
       "    <tr>\n",
       "      <th>543</th>\n",
       "      <td>新华社</td>\n",
       "      <td>暑期旅游旺季是各大旅游景区开门迎客的好时机。然而，有5家5A级景区却高兴不起来：国家旅游...</td>\n",
       "    </tr>\n",
       "    <tr>\n",
       "      <th>545</th>\n",
       "      <td>新华社</td>\n",
       "      <td>新华社北京6月20日电　总部设在德国波恩的国际残奥委会在当地时间19日宣布，中国残联主席...</td>\n",
       "    </tr>\n",
       "    <tr>\n",
       "      <th>651</th>\n",
       "      <td>新华社</td>\n",
       "      <td>新华社南京4月17日电(记者潘晔)江苏拥有不少5A景区。日前，一份来自清华大学的第三方调...</td>\n",
       "    </tr>\n",
       "    <tr>\n",
       "      <th>671</th>\n",
       "      <td>新华社</td>\n",
       "      <td>5月9日，在美国纽约，人们观看巴西里约热内卢的缩微景观。\\n　　当日，“格列佛大门”缩微...</td>\n",
       "    </tr>\n",
       "    <tr>\n",
       "      <th>679</th>\n",
       "      <td>新华社</td>\n",
       "      <td>新华社洛杉矶5月9日电(记者高山)美国洛杉矶旅游局9日宣布，洛杉矶2016年接待游客47...</td>\n",
       "    </tr>\n",
       "    <tr>\n",
       "      <th>715</th>\n",
       "      <td>新华社</td>\n",
       "      <td>机动车在斑马线前不但不减速反而抢行，这类群众反映强烈的城市交通乱象将在本月得到整治。记者...</td>\n",
       "    </tr>\n",
       "    <tr>\n",
       "      <th>794</th>\n",
       "      <td>新华社</td>\n",
       "      <td>美国亚马逊公司首席执行官杰夫?贝索斯比全球首富比尔?盖茨差多少钱？答案是５０亿美元。\\n...</td>\n",
       "    </tr>\n",
       "    <tr>\n",
       "      <th>810</th>\n",
       "      <td>新华社</td>\n",
       "      <td>新华社巴西利亚６月１９日电（记者张启畅）巴西央行１９日发布每周经济数据报告预计，今年巴西...</td>\n",
       "    </tr>\n",
       "    <tr>\n",
       "      <th>816</th>\n",
       "      <td>新华社</td>\n",
       "      <td>新华社巴黎６月１９日电（记者张雪飞）第５２届巴黎－布尔歇国际航空航天展览会（巴黎航展）１...</td>\n",
       "    </tr>\n",
       "    <tr>\n",
       "      <th>909</th>\n",
       "      <td>新华社</td>\n",
       "      <td>新华社北京6月20日电　总部设在德国波恩的国际残奥委会在当地时间19日宣布，中国残联主席...</td>\n",
       "    </tr>\n",
       "    <tr>\n",
       "      <th>931</th>\n",
       "      <td>新华社</td>\n",
       "      <td>新华社快讯：国际油价２０日下跌，７月交货的纽约轻质原油期货价格下跌０．９７美元，收于每...</td>\n",
       "    </tr>\n",
       "    <tr>\n",
       "      <th>934</th>\n",
       "      <td>新华社</td>\n",
       "      <td>新华社伦敦６月２０日电（记者邓茜）伦敦股市《金融时报》１００种股票平均价格指数２０日报收...</td>\n",
       "    </tr>\n",
       "    <tr>\n",
       "      <th>937</th>\n",
       "      <td>新华社</td>\n",
       "      <td>新华社快讯：纽约商品交易所黄金期货市场交投最活跃的８月黄金期价２０日比前一交易日下跌３．...</td>\n",
       "    </tr>\n",
       "    <tr>\n",
       "      <th>940</th>\n",
       "      <td>新华社</td>\n",
       "      <td>新华社快讯：伦敦股市《金融时报》１００种股票平均价格指数２０日报收于７４７２．７１点，比...</td>\n",
       "    </tr>\n",
       "    <tr>\n",
       "      <th>943</th>\n",
       "      <td>新华社</td>\n",
       "      <td>新华社芝加哥６月２０日电（记者王强）芝加哥期货交易所２０日玉米、小麦和大豆期价涨跌不一。...</td>\n",
       "    </tr>\n",
       "    <tr>\n",
       "      <th>946</th>\n",
       "      <td>新华社</td>\n",
       "      <td>新华社纽约６月２０日电（记者王乃水）美元对多数主要货币汇率２０日上涨。\\n　　美国联邦储...</td>\n",
       "    </tr>\n",
       "    <tr>\n",
       "      <th>951</th>\n",
       "      <td>新华社</td>\n",
       "      <td>新华社快讯：摩根士丹利资本国际公司（ＭＳＣＩ）２０日宣布，将中国Ａ股纳入ＭＳＣＩ新兴市场...</td>\n",
       "    </tr>\n",
       "    <tr>\n",
       "      <th>954</th>\n",
       "      <td>新华社</td>\n",
       "      <td>美元对多数主要货币汇率２０日上涨，截至纽约汇市尾盘，１欧元兑换１．１１３０美元，１美元...</td>\n",
       "    </tr>\n",
       "    <tr>\n",
       "      <th>958</th>\n",
       "      <td>新华社</td>\n",
       "      <td>国际油价２０日下跌，７月交货的纽约轻质原油期货价格下跌０．９７美元，收于每桶４３．２３...</td>\n",
       "    </tr>\n",
       "    <tr>\n",
       "      <th>964</th>\n",
       "      <td>新华社</td>\n",
       "      <td>伦敦股市《金融时报》１００种股票平均价格指数２０日报收于７４７２．７１点，比前一交易日下...</td>\n",
       "    </tr>\n",
       "    <tr>\n",
       "      <th>966</th>\n",
       "      <td>新华社</td>\n",
       "      <td>巴黎股市ＣＡＣ４０股指２０日尾盘报收于５２９３．６５点，较前一交易日下跌１７．０７点，...</td>\n",
       "    </tr>\n",
       "    <tr>\n",
       "      <th>990</th>\n",
       "      <td>新华社</td>\n",
       "      <td>纽约股市三大股指２０日下跌，其中道指跌０．２９％，标普指数跌０．６７％，纳斯达克指数跌...</td>\n",
       "    </tr>\n",
       "    <tr>\n",
       "      <th>995</th>\n",
       "      <td>新华社</td>\n",
       "      <td>纽约商品交易所黄金期货市场交投最活跃的８月黄金期价２０日比前一交易日下跌３．２美元，收于...</td>\n",
       "    </tr>\n",
       "    <tr>\n",
       "      <th>...</th>\n",
       "      <td>...</td>\n",
       "      <td>...</td>\n",
       "    </tr>\n",
       "    <tr>\n",
       "      <th>11420</th>\n",
       "      <td>新华社</td>\n",
       "      <td>新华社照片，宣城（安徽），2017年3月31日\\n安徽敬亭山：“中国好人”名登古树\\n3月3...</td>\n",
       "    </tr>\n",
       "    <tr>\n",
       "      <th>11421</th>\n",
       "      <td>新华社</td>\n",
       "      <td>新华社照片，琼中（海南），2017年3月31日\\n万人共跳竹竿舞同庆佳节大联欢\\n3月31日...</td>\n",
       "    </tr>\n",
       "    <tr>\n",
       "      <th>11422</th>\n",
       "      <td>新华社</td>\n",
       "      <td>新华社照片，磐安（浙江），2017年3月31日\\n浙江磐安：小山村变身新能源“光伏村”\\n3...</td>\n",
       "    </tr>\n",
       "    <tr>\n",
       "      <th>11423</th>\n",
       "      <td>新华社</td>\n",
       "      <td>新华社照片，沧州（河北），2017年3月31日\\n办税绿色通道服务京津冀协同发展\\n3月31...</td>\n",
       "    </tr>\n",
       "    <tr>\n",
       "      <th>11424</th>\n",
       "      <td>新华社</td>\n",
       "      <td>新华社照片，磐安（浙江），2017年3月31日\\n浙江磐安：小山村变身新能源“光伏村”\\n3...</td>\n",
       "    </tr>\n",
       "    <tr>\n",
       "      <th>11425</th>\n",
       "      <td>新华社</td>\n",
       "      <td>新华社照片，琼中（海南），2017年3月31日\\n万人共跳竹竿舞同庆佳节大联欢\\n3月31日...</td>\n",
       "    </tr>\n",
       "    <tr>\n",
       "      <th>11426</th>\n",
       "      <td>新华社</td>\n",
       "      <td>新华社照片，琼中（海南），2017年3月31日\\n万人共跳竹竿舞同庆佳节大联欢\\n3月31日...</td>\n",
       "    </tr>\n",
       "    <tr>\n",
       "      <th>11427</th>\n",
       "      <td>新华社</td>\n",
       "      <td>新华社北京３月３１日电（记者孙琪）３月２９日，ＤＮＡ之父、美国生物学家、诺贝尔奖生理学或...</td>\n",
       "    </tr>\n",
       "    <tr>\n",
       "      <th>11428</th>\n",
       "      <td>新华社</td>\n",
       "      <td>新华社北京3月31日电日前，国务院分别印发《中国（辽宁）自由贸易试验区总体方案》、《中国...</td>\n",
       "    </tr>\n",
       "    <tr>\n",
       "      <th>11429</th>\n",
       "      <td>新华社</td>\n",
       "      <td>新华社照片，北京，2017年3月31日\\n国家海洋局新闻发布会介绍《海岸线保护与利用管理办法...</td>\n",
       "    </tr>\n",
       "    <tr>\n",
       "      <th>11430</th>\n",
       "      <td>新华社</td>\n",
       "      <td>\\n新华社武汉３月３１日新媒体专电题：醒醒！清华毕业“硬杠杠”告诉你只顾埋头拼分不行了\\n新...</td>\n",
       "    </tr>\n",
       "    <tr>\n",
       "      <th>11431</th>\n",
       "      <td>新华社</td>\n",
       "      <td>新华社照片，呼和浩特，2017年3月31日\\n呼和浩特火车东站高速场建设进入尾声\\n3月31...</td>\n",
       "    </tr>\n",
       "    <tr>\n",
       "      <th>11432</th>\n",
       "      <td>新华社</td>\n",
       "      <td>新华社照片，呼和浩特，2017年3月31日\\n呼和浩特火车东站高速场建设进入尾声\\n3月31...</td>\n",
       "    </tr>\n",
       "    <tr>\n",
       "      <th>11433</th>\n",
       "      <td>新华社</td>\n",
       "      <td>新华社华沙３月３０日电特写：在波兰幼儿园感受“中国戏剧文化月”\\n　　新华社记者陈序　韩...</td>\n",
       "    </tr>\n",
       "    <tr>\n",
       "      <th>11434</th>\n",
       "      <td>新华社</td>\n",
       "      <td>新华社照片，呼和浩特，2017年3月31日\\n呼和浩特火车东站高速场建设进入尾声\\n3月31...</td>\n",
       "    </tr>\n",
       "    <tr>\n",
       "      <th>11435</th>\n",
       "      <td>新华社</td>\n",
       "      <td>新华社照片，呼和浩特，2017年3月31日\\n呼和浩特火车东站高速场建设进入尾声\\n3月31...</td>\n",
       "    </tr>\n",
       "    <tr>\n",
       "      <th>11436</th>\n",
       "      <td>新华社</td>\n",
       "      <td>新华社照片，呼和浩特，2017年3月31日\\n呼和浩特火车东站高速场建设进入尾声\\n3月31...</td>\n",
       "    </tr>\n",
       "    <tr>\n",
       "      <th>11437</th>\n",
       "      <td>新华社</td>\n",
       "      <td>\\n新华社武汉3月31日新媒体专电（记者梁建强、徐海波）记者3月31日从湖北省麻城市获悉，麻...</td>\n",
       "    </tr>\n",
       "    <tr>\n",
       "      <th>11438</th>\n",
       "      <td>新华社</td>\n",
       "      <td>新华社照片，恩施（湖北），2017年3月31日\\n特色非遗助推乡村游\\n3月31日，人们在湖...</td>\n",
       "    </tr>\n",
       "    <tr>\n",
       "      <th>11439</th>\n",
       "      <td>新华社</td>\n",
       "      <td>新华社照片，恩施（湖北），2017年3月31日\\n特色非遗助推乡村游\\n3月31日，人们在湖...</td>\n",
       "    </tr>\n",
       "    <tr>\n",
       "      <th>11440</th>\n",
       "      <td>新华社</td>\n",
       "      <td>新华社照片，外代，2017年3月31日\\n（外代二线）沙特骆驼节\\n这是3月29日在沙特阿拉...</td>\n",
       "    </tr>\n",
       "    <tr>\n",
       "      <th>11441</th>\n",
       "      <td>新华社</td>\n",
       "      <td>新华社照片，无锡（江苏），2017年3月31日\\n太湖樱花烂漫\\n3月31日，游客在江苏无锡...</td>\n",
       "    </tr>\n",
       "    <tr>\n",
       "      <th>11442</th>\n",
       "      <td>新华社</td>\n",
       "      <td>新华社海口３月３１日电（记者王存福）记者从海南省公积金管理局获悉，自今年４月１日起，海南省取...</td>\n",
       "    </tr>\n",
       "    <tr>\n",
       "      <th>11443</th>\n",
       "      <td>新华社</td>\n",
       "      <td>新华社照片，外代，2017年3月31日\\n（外代二线）沙特骆驼节\\n3月29日，在沙特阿拉伯...</td>\n",
       "    </tr>\n",
       "    <tr>\n",
       "      <th>11444</th>\n",
       "      <td>新华社</td>\n",
       "      <td>新华社照片，外代，2017年3月31日\\n（外代二线）沙特骆驼节\\n3月29日，在沙特阿拉伯...</td>\n",
       "    </tr>\n",
       "    <tr>\n",
       "      <th>11445</th>\n",
       "      <td>新华社</td>\n",
       "      <td>新华社照片，外代，2017年3月31日\\n（外代二线）沙特骆驼节\\n这是3月29日在沙特阿拉...</td>\n",
       "    </tr>\n",
       "    <tr>\n",
       "      <th>11446</th>\n",
       "      <td>新华社</td>\n",
       "      <td>新华社照片，外代，2017年3月31日\\n（外代二线）沙特骆驼节\\n这是3月29日在沙特阿拉...</td>\n",
       "    </tr>\n",
       "    <tr>\n",
       "      <th>11447</th>\n",
       "      <td>新华社</td>\n",
       "      <td>\\n\\n\\n\\n\\n\\n\\n\\n;;;;新华社华盛顿3月30日新媒体专电（记者刘阳刘帅）中美...</td>\n",
       "    </tr>\n",
       "    <tr>\n",
       "      <th>11448</th>\n",
       "      <td>新华社</td>\n",
       "      <td>新华社照片，外代，2017年3月31日\\n（外代二线）沙特骆驼节\\n3月29日，在沙特阿拉伯...</td>\n",
       "    </tr>\n",
       "    <tr>\n",
       "      <th>11449</th>\n",
       "      <td>新华社</td>\n",
       "      <td>新华社照片，外代，2017年3月31日\\n（外代二线）第45届日内瓦国际发明展\\n3月29日...</td>\n",
       "    </tr>\n",
       "  </tbody>\n",
       "</table>\n",
       "<p>500 rows × 2 columns</p>\n",
       "</div>"
      ],
      "text/plain": [
       "      source                                            content\n",
       "3        新华社      这是6月18日在葡萄牙中部大佩德罗冈地区拍摄的被森林大火烧毁的汽车。新华社记者张立云摄\\n\n",
       "39       新华社      这是6月18日在葡萄牙中部大佩德罗冈地区拍摄的被森林大火烧毁的汽车。新华社记者张立云摄\\n\n",
       "95       新华社  新华社韩国济州6月18日电综述：亚投行第二届年会三大亮点\\n新华社记者 耿学鹏 严蕾\\n亚洲...\n",
       "113      新华社  新华社北京6月18日电 经军委领导批准，《军营理论热点怎么看·2017》日前印发全军。\\n为...\n",
       "305      新华社  新华社兰州6月19日电（记者张钦）记者19日了解到，刚刚出台的《甘肃省网络扶贫行动的实施方案...\n",
       "312      新华社  新华社乌鲁木齐6月18日电（记者杜刚、王秉阳）6月18日，新疆天山天池首次举办山地马拉松比赛...\n",
       "314      新华社  新华社北京6月19日电（记者熊丰）记者从公安部消防局获悉，19日上午6时，由公安部消防局组织...\n",
       "543      新华社  　　暑期旅游旺季是各大旅游景区开门迎客的好时机。然而，有5家5A级景区却高兴不起来：国家旅游...\n",
       "545      新华社  　　新华社北京6月20日电　总部设在德国波恩的国际残奥委会在当地时间19日宣布，中国残联主席...\n",
       "651      新华社  　　新华社南京4月17日电(记者潘晔)江苏拥有不少5A景区。日前，一份来自清华大学的第三方调...\n",
       "671      新华社  　　5月9日，在美国纽约，人们观看巴西里约热内卢的缩微景观。\\n　　当日，“格列佛大门”缩微...\n",
       "679      新华社  　　新华社洛杉矶5月9日电(记者高山)美国洛杉矶旅游局9日宣布，洛杉矶2016年接待游客47...\n",
       "715      新华社  　　机动车在斑马线前不但不减速反而抢行，这类群众反映强烈的城市交通乱象将在本月得到整治。记者...\n",
       "794      新华社  　　美国亚马逊公司首席执行官杰夫?贝索斯比全球首富比尔?盖茨差多少钱？答案是５０亿美元。\\n...\n",
       "810      新华社  　　新华社巴西利亚６月１９日电（记者张启畅）巴西央行１９日发布每周经济数据报告预计，今年巴西...\n",
       "816      新华社  　　新华社巴黎６月１９日电（记者张雪飞）第５２届巴黎－布尔歇国际航空航天展览会（巴黎航展）１...\n",
       "909      新华社  　　新华社北京6月20日电　总部设在德国波恩的国际残奥委会在当地时间19日宣布，中国残联主席...\n",
       "931      新华社  　　 新华社快讯：国际油价２０日下跌，７月交货的纽约轻质原油期货价格下跌０．９７美元，收于每...\n",
       "934      新华社  　　新华社伦敦６月２０日电（记者邓茜）伦敦股市《金融时报》１００种股票平均价格指数２０日报收...\n",
       "937      新华社  　　新华社快讯：纽约商品交易所黄金期货市场交投最活跃的８月黄金期价２０日比前一交易日下跌３．...\n",
       "940      新华社  　　新华社快讯：伦敦股市《金融时报》１００种股票平均价格指数２０日报收于７４７２．７１点，比...\n",
       "943      新华社  　　新华社芝加哥６月２０日电（记者王强）芝加哥期货交易所２０日玉米、小麦和大豆期价涨跌不一。...\n",
       "946      新华社  　　新华社纽约６月２０日电（记者王乃水）美元对多数主要货币汇率２０日上涨。\\n　　美国联邦储...\n",
       "951      新华社  　　新华社快讯：摩根士丹利资本国际公司（ＭＳＣＩ）２０日宣布，将中国Ａ股纳入ＭＳＣＩ新兴市场...\n",
       "954      新华社  　　 美元对多数主要货币汇率２０日上涨，截至纽约汇市尾盘，１欧元兑换１．１１３０美元，１美元...\n",
       "958      新华社  　　 国际油价２０日下跌，７月交货的纽约轻质原油期货价格下跌０．９７美元，收于每桶４３．２３...\n",
       "964      新华社  　　伦敦股市《金融时报》１００种股票平均价格指数２０日报收于７４７２．７１点，比前一交易日下...\n",
       "966      新华社  　　 巴黎股市ＣＡＣ４０股指２０日尾盘报收于５２９３．６５点，较前一交易日下跌１７．０７点，...\n",
       "990      新华社  　　 纽约股市三大股指２０日下跌，其中道指跌０．２９％，标普指数跌０．６７％，纳斯达克指数跌...\n",
       "995      新华社  　　纽约商品交易所黄金期货市场交投最活跃的８月黄金期价２０日比前一交易日下跌３．２美元，收于...\n",
       "...      ...                                                ...\n",
       "11420    新华社  新华社照片，宣城（安徽），2017年3月31日\\n安徽敬亭山：“中国好人”名登古树\\n3月3...\n",
       "11421    新华社  新华社照片，琼中（海南），2017年3月31日\\n万人共跳竹竿舞同庆佳节大联欢\\n3月31日...\n",
       "11422    新华社  新华社照片，磐安（浙江），2017年3月31日\\n浙江磐安：小山村变身新能源“光伏村”\\n3...\n",
       "11423    新华社  新华社照片，沧州（河北），2017年3月31日\\n办税绿色通道服务京津冀协同发展\\n3月31...\n",
       "11424    新华社  新华社照片，磐安（浙江），2017年3月31日\\n浙江磐安：小山村变身新能源“光伏村”\\n3...\n",
       "11425    新华社  新华社照片，琼中（海南），2017年3月31日\\n万人共跳竹竿舞同庆佳节大联欢\\n3月31日...\n",
       "11426    新华社  新华社照片，琼中（海南），2017年3月31日\\n万人共跳竹竿舞同庆佳节大联欢\\n3月31日...\n",
       "11427    新华社  　　新华社北京３月３１日电（记者孙琪）３月２９日，ＤＮＡ之父、美国生物学家、诺贝尔奖生理学或...\n",
       "11428    新华社  　　新华社北京3月31日电日前，国务院分别印发《中国（辽宁）自由贸易试验区总体方案》、《中国...\n",
       "11429    新华社  新华社照片，北京，2017年3月31日\\n国家海洋局新闻发布会介绍《海岸线保护与利用管理办法...\n",
       "11430    新华社  \\n新华社武汉３月３１日新媒体专电题：醒醒！清华毕业“硬杠杠”告诉你只顾埋头拼分不行了\\n新...\n",
       "11431    新华社  新华社照片，呼和浩特，2017年3月31日\\n呼和浩特火车东站高速场建设进入尾声\\n3月31...\n",
       "11432    新华社  新华社照片，呼和浩特，2017年3月31日\\n呼和浩特火车东站高速场建设进入尾声\\n3月31...\n",
       "11433    新华社  　　新华社华沙３月３０日电特写：在波兰幼儿园感受“中国戏剧文化月”\\n　　新华社记者陈序　韩...\n",
       "11434    新华社  新华社照片，呼和浩特，2017年3月31日\\n呼和浩特火车东站高速场建设进入尾声\\n3月31...\n",
       "11435    新华社  新华社照片，呼和浩特，2017年3月31日\\n呼和浩特火车东站高速场建设进入尾声\\n3月31...\n",
       "11436    新华社  新华社照片，呼和浩特，2017年3月31日\\n呼和浩特火车东站高速场建设进入尾声\\n3月31...\n",
       "11437    新华社  \\n新华社武汉3月31日新媒体专电（记者梁建强、徐海波）记者3月31日从湖北省麻城市获悉，麻...\n",
       "11438    新华社  新华社照片，恩施（湖北），2017年3月31日\\n特色非遗助推乡村游\\n3月31日，人们在湖...\n",
       "11439    新华社  新华社照片，恩施（湖北），2017年3月31日\\n特色非遗助推乡村游\\n3月31日，人们在湖...\n",
       "11440    新华社  新华社照片，外代，2017年3月31日\\n（外代二线）沙特骆驼节\\n这是3月29日在沙特阿拉...\n",
       "11441    新华社  新华社照片，无锡（江苏），2017年3月31日\\n太湖樱花烂漫\\n3月31日，游客在江苏无锡...\n",
       "11442    新华社  新华社海口３月３１日电（记者王存福）记者从海南省公积金管理局获悉，自今年４月１日起，海南省取...\n",
       "11443    新华社  新华社照片，外代，2017年3月31日\\n（外代二线）沙特骆驼节\\n3月29日，在沙特阿拉伯...\n",
       "11444    新华社  新华社照片，外代，2017年3月31日\\n（外代二线）沙特骆驼节\\n3月29日，在沙特阿拉伯...\n",
       "11445    新华社  新华社照片，外代，2017年3月31日\\n（外代二线）沙特骆驼节\\n这是3月29日在沙特阿拉...\n",
       "11446    新华社  新华社照片，外代，2017年3月31日\\n（外代二线）沙特骆驼节\\n这是3月29日在沙特阿拉...\n",
       "11447    新华社  \\n\\n\\n\\n\\n\\n\\n\\n;;;;新华社华盛顿3月30日新媒体专电（记者刘阳刘帅）中美...\n",
       "11448    新华社  新华社照片，外代，2017年3月31日\\n（外代二线）沙特骆驼节\\n3月29日，在沙特阿拉伯...\n",
       "11449    新华社  新华社照片，外代，2017年3月31日\\n（外代二线）第45届日内瓦国际发明展\\n3月29日...\n",
       "\n",
       "[500 rows x 2 columns]"
      ]
     },
     "execution_count": 150,
     "metadata": {},
     "output_type": "execute_result"
    }
   ],
   "source": [
    "dataset[dataset.label==1].head(500)[['source', 'content']]"
   ]
  },
  {
   "cell_type": "code",
   "execution_count": 219,
   "metadata": {},
   "outputs": [],
   "source": [
    "import jieba\n",
    "import gensim\n",
    "import pandas as pd"
   ]
  },
  {
   "cell_type": "code",
   "execution_count": 221,
   "metadata": {},
   "outputs": [],
   "source": [
    "def tokenize(s):\n",
    "    return list(jieba.cut(s))"
   ]
  },
  {
   "cell_type": "code",
   "execution_count": 227,
   "metadata": {},
   "outputs": [],
   "source": [
    "def gen_corpus(filepath, num=-1):\n",
    "    news_df = pd.read_csv('news.csv')\n",
    "\n",
    "    with open(filepath, 'w') as f:\n",
    "        counter = 0\n",
    "        for content in news_df['content'].astype(str):\n",
    "            tokens = tokenize(content)\n",
    "            f.write(' '.join(tokens).replace('\\n', '').strip() + '\\n')\n",
    "\n",
    "            counter += 1\n",
    "            if num > 0 and counter >= num:\n",
    "                break\n",
    "\n",
    "    return None"
   ]
  },
  {
   "cell_type": "code",
   "execution_count": 228,
   "metadata": {},
   "outputs": [],
   "source": [
    "gen_corpus('news_corpus.txt')"
   ]
  },
  {
   "cell_type": "code",
   "execution_count": 229,
   "metadata": {},
   "outputs": [
    {
     "data": {
      "text/plain": [
       "89611"
      ]
     },
     "execution_count": 229,
     "metadata": {},
     "output_type": "execute_result"
    }
   ],
   "source": [
    "len(dataset['content'])"
   ]
  },
  {
   "cell_type": "code",
   "execution_count": 230,
   "metadata": {},
   "outputs": [
    {
     "name": "stdout",
     "output_type": "stream",
     "text": [
      "   89611\r\n"
     ]
    }
   ],
   "source": [
    "!cat news_corpus.txt | wc -l"
   ]
  },
  {
   "cell_type": "markdown",
   "metadata": {},
   "source": [
    "#### Embedding"
   ]
  },
  {
   "cell_type": "code",
   "execution_count": 242,
   "metadata": {},
   "outputs": [],
   "source": [
    "import gensim"
   ]
  },
  {
   "cell_type": "code",
   "execution_count": 269,
   "metadata": {},
   "outputs": [],
   "source": [
    "def read_corpus(fname, sampling=-1):\n",
    "    with open(fname) as f:\n",
    "        for i, line in enumerate(f):\n",
    "            if sampling > 0 and i >= sampling:\n",
    "                return\n",
    "\n",
    "            tokens = gensim.utils.simple_preprocess(line)\n",
    "            yield gensim.models.doc2vec.TaggedDocument(tokens, [i])\n"
   ]
  },
  {
   "cell_type": "code",
   "execution_count": 271,
   "metadata": {},
   "outputs": [
    {
     "data": {
      "text/plain": [
       "100"
      ]
     },
     "execution_count": 271,
     "metadata": {},
     "output_type": "execute_result"
    }
   ],
   "source": [
    "len(list(read_corpus('news_corpus.txt', 100)))"
   ]
  },
  {
   "cell_type": "code",
   "execution_count": 325,
   "metadata": {},
   "outputs": [],
   "source": [
    "\n",
    "def doc_embedding(corpus_fname, embedd_model_fname, vector_size=100, sampling=-1):\n",
    "    corpus_docs = list(read_corpus(corpus_fname, sampling))\n",
    "    model = gensim.models.doc2vec.Doc2Vec(vector_size=vector_size)\n",
    "    model.build_vocab(corpus_docs)\n",
    "    model.train(corpus_docs, total_examples=model.corpus_count, epochs=model.epochs)\n",
    "    model.save(embedd_model_fname+'.model')\n",
    "    model.docvecs.save_word2vec_format(embedd_model_fname+'.dv')\n",
    "\n",
    "    return model\n"
   ]
  },
  {
   "cell_type": "code",
   "execution_count": 326,
   "metadata": {},
   "outputs": [],
   "source": [
    "# doc_embedding('news_corpus.txt', 'doc2vec_{}'.format(int(time.time())))"
   ]
  },
  {
   "cell_type": "markdown",
   "metadata": {},
   "source": [
    "#### Model"
   ]
  },
  {
   "cell_type": "markdown",
   "metadata": {},
   "source": [
    "##### Building Dataset"
   ]
  },
  {
   "cell_type": "code",
   "execution_count": 4,
   "metadata": {},
   "outputs": [],
   "source": [
    "import joblib\n",
    "import numpy as np\n",
    "import xgboost as xgb\n",
    "from sklearn import svm\n",
    "from sklearn.model_selection import KFold, train_test_split, GridSearchCV\n",
    "from sklearn.metrics import confusion_matrix, mean_squared_error\n",
    "from sklearn.datasets import load_iris, load_digits, load_boston\n",
    "\n",
    "from sklearn.metrics import plot_confusion_matrix"
   ]
  },
  {
   "cell_type": "code",
   "execution_count": 5,
   "metadata": {},
   "outputs": [],
   "source": [
    "import numpy as np\n",
    "import pandas as pd\n",
    "\n",
    "\n",
    "def build_dataset(doc_embedd, news_dataset):\n",
    "\n",
    "    doc_indexes = []\n",
    "    doc_embeddings = []\n",
    "\n",
    "    with open(doc_embedd) as f:\n",
    "        first_line = True\n",
    "        for l in f.readlines():\n",
    "            # skip first line\n",
    "            if first_line:\n",
    "                first_line = False\n",
    "                continue\n",
    "\n",
    "            embedding = l.strip('\\n').split(' ')\n",
    "            doc_index, doc_embedding = embedding[0].split('_')[1], embedding[1:]\n",
    "            doc_indexes.append(doc_index)\n",
    "            doc_embeddings.append(doc_embedding)\n",
    "\n",
    "    X = np.array(doc_embeddings)\n",
    "\n",
    "    news_df = pd.read_csv(news_dataset)\n",
    "    y = news_df.apply(lambda row: 1 if row['source'] == '新华社' else 0, axis=1)\n",
    "    y = np.array(y[:len(doc_embeddings)])\n",
    "\n",
    "    return X, y\n"
   ]
  },
  {
   "cell_type": "code",
   "execution_count": 6,
   "metadata": {},
   "outputs": [],
   "source": [
    "X, y = build_dataset('doc2vec.dv', 'news.csv')\n",
    "X_train, X_test, y_train, y_test = train_test_split(X, y, test_size=0.2, random_state=42)"
   ]
  },
  {
   "cell_type": "code",
   "execution_count": 7,
   "metadata": {},
   "outputs": [
    {
     "data": {
      "text/plain": [
       "((71688, 100), (17923, 100), (71688,), (17923,))"
      ]
     },
     "execution_count": 7,
     "metadata": {},
     "output_type": "execute_result"
    }
   ],
   "source": [
    "X_train.shape, X_test.shape, y_train.shape, y_test.shape"
   ]
  },
  {
   "cell_type": "code",
   "execution_count": 10,
   "metadata": {},
   "outputs": [
    {
     "data": {
      "text/plain": [
       "array([[<matplotlib.axes._subplots.AxesSubplot object at 0x1208501d0>]],\n",
       "      dtype=object)"
      ]
     },
     "execution_count": 10,
     "metadata": {},
     "output_type": "execute_result"
    },
    {
     "data": {
      "image/png": "[encoded data removed]",
      "text/plain": [
       "<Figure size 432x288 with 1 Axes>"
      ]
     },
     "metadata": {
      "needs_background": "light"
     },
     "output_type": "display_data"
    }
   ],
   "source": [
    "pd.DataFrame(y_train).hist()"
   ]
  },
  {
   "cell_type": "code",
   "execution_count": 9,
   "metadata": {},
   "outputs": [
    {
     "data": {
      "text/plain": [
       "array([[<matplotlib.axes._subplots.AxesSubplot object at 0x1206ddfd0>]],\n",
       "      dtype=object)"
      ]
     },
     "execution_count": 9,
     "metadata": {},
     "output_type": "execute_result"
    },
    {
     "data": {
      "image/png": "[encoded data removed]",
      "text/plain": [
       "<Figure size 432x288 with 1 Axes>"
      ]
     },
     "metadata": {
      "needs_background": "light"
     },
     "output_type": "display_data"
    }
   ],
   "source": [
    "pd.DataFrame(y_test).hist()"
   ]
  },
  {
   "cell_type": "markdown",
   "metadata": {},
   "source": [
    "##### SVM"
   ]
  },
  {
   "cell_type": "code",
   "execution_count": 11,
   "metadata": {},
   "outputs": [
    {
     "data": {
      "text/plain": [
       "['svm.model']"
      ]
     },
     "execution_count": 11,
     "metadata": {},
     "output_type": "execute_result"
    }
   ],
   "source": [
    "svm_clf = svm.SVC()\n",
    "svm_clf.fit(X_train, y_train)\n",
    "joblib.dump(svm_clf, 'svm.model')"
   ]
  },
  {
   "cell_type": "code",
   "execution_count": 13,
   "metadata": {},
   "outputs": [],
   "source": [
    "svm_clf = joblib.load('svm.model')\n",
    "y_predicts = svm_clf.predict(X_test)"
   ]
  },
  {
   "cell_type": "code",
   "execution_count": 118,
   "metadata": {},
   "outputs": [
    {
     "data": {
      "text/plain": [
       "0.9097807286726552"
      ]
     },
     "execution_count": 118,
     "metadata": {},
     "output_type": "execute_result"
    }
   ],
   "source": [
    "svm_clf.score(X_test, y_test)"
   ]
  },
  {
   "cell_type": "code",
   "execution_count": 22,
   "metadata": {},
   "outputs": [],
   "source": [
    "from sklearn import metrics"
   ]
  },
  {
   "cell_type": "code",
   "execution_count": 46,
   "metadata": {},
   "outputs": [],
   "source": [
    "def evaluate(y_true, y_pred):\n",
    "    accuracy = metrics.accuracy_score(y_true, y_pred)\n",
    "    precision = metrics.precision_score(y_true, y_pred)\n",
    "    recall = metrics.precision_score(y_true, y_pred)\n",
    "    f1 = metrics.f1_score(y_true, y_pred)\n",
    "\n",
    "    print('accuracy:{:.4f}, precision:{:.4f}, recall:{:.4f}, f1:{:.4f}'.format(\n",
    "        accuracy, precision, recall, f1))"
   ]
  },
  {
   "cell_type": "code",
   "execution_count": 47,
   "metadata": {},
   "outputs": [
    {
     "name": "stdout",
     "output_type": "stream",
     "text": [
      "accuracy:0.9098, precision:0.9107, recall:0.9107, f1:0.9510\n"
     ]
    }
   ],
   "source": [
    "evaluate(y_test, y_predicts)"
   ]
  },
  {
   "cell_type": "markdown",
   "metadata": {},
   "source": [
    "##### XGBOOST"
   ]
  },
  {
   "cell_type": "code",
   "execution_count": 30,
   "metadata": {},
   "outputs": [
    {
     "data": {
      "text/plain": [
       "['xgb.model']"
      ]
     },
     "execution_count": 30,
     "metadata": {},
     "output_type": "execute_result"
    }
   ],
   "source": [
    "xgb_clf = xgb.XGBClassifier()\n",
    "xgb_clf.fit(X_train, y_train)\n",
    "joblib.dump(xgb_clf, 'xgb.model')"
   ]
  },
  {
   "cell_type": "code",
   "execution_count": 33,
   "metadata": {},
   "outputs": [],
   "source": [
    "xgb_clf = joblib.load('xgb.model')\n",
    "y_pred_xgb = xgb_clf.predict(X_test)"
   ]
  },
  {
   "cell_type": "code",
   "execution_count": 48,
   "metadata": {},
   "outputs": [
    {
     "name": "stdout",
     "output_type": "stream",
     "text": [
      "accuracy:0.9160, precision:0.9241, recall:0.9241, f1:0.9538\n"
     ]
    }
   ],
   "source": [
    "evaluate(y_test, y_pred_xgb)"
   ]
  },
  {
   "cell_type": "markdown",
   "metadata": {},
   "source": [
    "### Congratulations! You have completed all assignments in this week. The question below is optional. If you still have time, why don't try it out."
   ]
  },
  {
   "cell_type": "markdown",
   "metadata": {},
   "source": [
    "## Option:"
   ]
  },
  {
   "cell_type": "markdown",
   "metadata": {},
   "source": [
    "#### Try differnt machine learning algorithms with different combinations of parameters in the practical part, and compare their performances (Better use some visualization techiniques)."
   ]
  },
  {
   "cell_type": "code",
   "execution_count": 56,
   "metadata": {},
   "outputs": [],
   "source": [
    "# data visualization"
   ]
  },
  {
   "cell_type": "code",
   "execution_count": 70,
   "metadata": {},
   "outputs": [],
   "source": [
    "from sklearn.manifold import TSNE\n",
    "import seaborn as sns"
   ]
  },
  {
   "cell_type": "code",
   "execution_count": 69,
   "metadata": {},
   "outputs": [],
   "source": [
    "tsne = TSNE(random_state=1, n_iter=1000, metric='cosine')\n",
    "embs = tsne.fit_transform(X_train[:10000], y[:10000])"
   ]
  },
  {
   "cell_type": "code",
   "execution_count": 93,
   "metadata": {},
   "outputs": [],
   "source": [
    "df = pd.concat([pd.DataFrame(embs), pd.DataFrame(y[:len(embs)])], axis=1)\n",
    "df.columns = ['x1', 'x2', 'y']"
   ]
  },
  {
   "cell_type": "code",
   "execution_count": 112,
   "metadata": {},
   "outputs": [
    {
     "data": {
      "text/plain": [
       "<matplotlib.collections.PathCollection at 0x1232c1310>"
      ]
     },
     "execution_count": 112,
     "metadata": {},
     "output_type": "execute_result"
    },
    {
     "data": {
      "image/png": "[encoded data removed]",
      "text/plain": [
       "<Figure size 432x288 with 1 Axes>"
      ]
     },
     "metadata": {
      "needs_background": "light"
     },
     "output_type": "display_data"
    }
   ],
   "source": [
    "plt.scatter(df[df.y==0].sample(2000)['x1'], df[df.y==0].sample(2000)['x2'], c='g')\n",
    "plt.scatter(df[df.y==1]['x1'], df[df.y==1]['x2'], c='r')"
   ]
  },
  {
   "cell_type": "markdown",
   "metadata": {},
   "source": [
    "##### SVM "
   ]
  },
  {
   "cell_type": "code",
   "execution_count": 119,
   "metadata": {},
   "outputs": [],
   "source": [
    "from sklearn import model_selection"
   ]
  },
  {
   "cell_type": "code",
   "execution_count": 114,
   "metadata": {},
   "outputs": [],
   "source": [
    "svm_clf = joblib.load('svm.model')"
   ]
  },
  {
   "cell_type": "code",
   "execution_count": 121,
   "metadata": {},
   "outputs": [],
   "source": [
    "model_selection.cross_val_score?"
   ]
  }
 ],
 "metadata": {
  "kernelspec": {
   "display_name": "Python 3",
   "language": "python",
   "name": "python3"
  },
  "language_info": {
   "codemirror_mode": {
    "name": "ipython",
    "version": 3
   },
   "file_extension": ".py",
   "mimetype": "text/x-python",
   "name": "python",
   "nbconvert_exporter": "python",
   "pygments_lexer": "ipython3",
   "version": "3.7.5"
  },
  "toc": {
   "base_numbering": 1,
   "nav_menu": {},
   "number_sections": true,
   "sideBar": true,
   "skip_h1_title": false,
   "title_cell": "Table of Contents",
   "title_sidebar": "Contents",
   "toc_cell": false,
   "toc_position": {},
   "toc_section_display": true,
   "toc_window_display": true
  }
 },
 "nbformat": 4,
 "nbformat_minor": 2
}
