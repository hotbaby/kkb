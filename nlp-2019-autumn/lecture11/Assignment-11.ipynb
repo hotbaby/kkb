{
 "cells": [
  {
   "cell_type": "markdown",
   "metadata": {},
   "source": [
    "# Dynamic Programming"
   ]
  },
  {
   "cell_type": "markdown",
   "metadata": {},
   "source": [
    "动态规划\n",
    "\n",
    "1. 最有子结构\n",
    "2. 子问题重复\n",
    "3. 解决子问题(Memo)"
   ]
  },
  {
   "cell_type": "markdown",
   "metadata": {},
   "source": [
    "## fibonacci"
   ]
  },
  {
   "cell_type": "code",
   "execution_count": 1,
   "metadata": {},
   "outputs": [],
   "source": [
    "from functools import lru_cache"
   ]
  },
  {
   "cell_type": "code",
   "execution_count": 2,
   "metadata": {},
   "outputs": [],
   "source": [
    "@lru_cache(2**10)\n",
    "def fib(n):\n",
    "    if n <= 1:\n",
    "        return n\n",
    "    else:\n",
    "        return fib(n-1) + fib(n-2)"
   ]
  },
  {
   "cell_type": "code",
   "execution_count": 3,
   "metadata": {},
   "outputs": [
    {
     "data": {
      "text/plain": [
       "55"
      ]
     },
     "execution_count": 3,
     "metadata": {},
     "output_type": "execute_result"
    }
   ],
   "source": [
    "fib(10)"
   ]
  },
  {
   "cell_type": "markdown",
   "metadata": {},
   "source": [
    "## 钢条切割"
   ]
  },
  {
   "cell_type": "code",
   "execution_count": 4,
   "metadata": {},
   "outputs": [],
   "source": [
    "import collections"
   ]
  },
  {
   "cell_type": "code",
   "execution_count": 5,
   "metadata": {},
   "outputs": [],
   "source": [
    "original_price = [1, 5, 8, 9, 10, 17, 17, 20, 24, 30, 33]"
   ]
  },
  {
   "cell_type": "code",
   "execution_count": 6,
   "metadata": {},
   "outputs": [],
   "source": [
    "price = collections.defaultdict(int)\n",
    "for i, p in enumerate(original_price):\n",
    "    price[i+1] = p"
   ]
  },
  {
   "cell_type": "code",
   "execution_count": 7,
   "metadata": {},
   "outputs": [
    {
     "data": {
      "text/plain": [
       "defaultdict(int,\n",
       "            {1: 1,\n",
       "             2: 5,\n",
       "             3: 8,\n",
       "             4: 9,\n",
       "             5: 10,\n",
       "             6: 17,\n",
       "             7: 17,\n",
       "             8: 20,\n",
       "             9: 24,\n",
       "             10: 30,\n",
       "             11: 33})"
      ]
     },
     "execution_count": 7,
     "metadata": {},
     "output_type": "execute_result"
    }
   ],
   "source": [
    "price"
   ]
  },
  {
   "cell_type": "code",
   "execution_count": 8,
   "metadata": {},
   "outputs": [],
   "source": [
    "@lru_cache(2**10)\n",
    "def r(n):\n",
    "    return max([price[n]] + [r(i) + r(n-i) for i in range(1, n)])"
   ]
  },
  {
   "cell_type": "code",
   "execution_count": 9,
   "metadata": {},
   "outputs": [
    {
     "data": {
      "text/plain": [
       "60"
      ]
     },
     "execution_count": 9,
     "metadata": {},
     "output_type": "execute_result"
    }
   ],
   "source": [
    "r(20)"
   ]
  },
  {
   "cell_type": "code",
   "execution_count": 10,
   "metadata": {},
   "outputs": [],
   "source": [
    "solutions = collections.defaultdict()\n",
    "\n",
    "\n",
    "@lru_cache(2**10)\n",
    "def r(n):\n",
    "    revenue_left_right = [(price[n], 0, n)] # no split\n",
    "    \n",
    "    for i in range(1, n):\n",
    "        revenue_left_right.append((r(i)+r(n-i), i, n-i))\n",
    "\n",
    "    best_price, left, right = max(revenue_left_right, key=lambda x: x[0])\n",
    "\n",
    "    solutions[n] = (left, right)\n",
    "\n",
    "    return best_price"
   ]
  },
  {
   "cell_type": "code",
   "execution_count": 11,
   "metadata": {},
   "outputs": [
    {
     "data": {
      "text/plain": [
       "300"
      ]
     },
     "execution_count": 11,
     "metadata": {},
     "output_type": "execute_result"
    }
   ],
   "source": [
    "r(100)"
   ]
  },
  {
   "cell_type": "code",
   "execution_count": 12,
   "metadata": {
    "scrolled": true
   },
   "outputs": [
    {
     "data": {
      "text/plain": [
       "defaultdict(None,\n",
       "            {1: (0, 1),\n",
       "             2: (0, 2),\n",
       "             3: (0, 3),\n",
       "             4: (2, 2),\n",
       "             5: (2, 3),\n",
       "             6: (0, 6),\n",
       "             7: (1, 6),\n",
       "             8: (2, 6),\n",
       "             9: (3, 6),\n",
       "             10: (0, 10),\n",
       "             11: (0, 11),\n",
       "             12: (2, 10),\n",
       "             13: (2, 11),\n",
       "             14: (3, 11),\n",
       "             15: (2, 13),\n",
       "             16: (6, 10),\n",
       "             17: (6, 11),\n",
       "             18: (2, 16),\n",
       "             19: (2, 17),\n",
       "             20: (10, 10),\n",
       "             21: (10, 11),\n",
       "             22: (11, 11),\n",
       "             23: (2, 21),\n",
       "             24: (2, 22),\n",
       "             25: (3, 22),\n",
       "             26: (6, 20),\n",
       "             27: (6, 21),\n",
       "             28: (6, 22),\n",
       "             29: (2, 27),\n",
       "             30: (10, 20),\n",
       "             31: (10, 21),\n",
       "             32: (10, 22),\n",
       "             33: (11, 22),\n",
       "             34: (2, 32),\n",
       "             35: (2, 33),\n",
       "             36: (3, 33),\n",
       "             37: (6, 31),\n",
       "             38: (6, 32),\n",
       "             39: (6, 33),\n",
       "             40: (10, 30),\n",
       "             41: (10, 31),\n",
       "             42: (10, 32),\n",
       "             43: (10, 33),\n",
       "             44: (11, 33),\n",
       "             45: (2, 43),\n",
       "             46: (2, 44),\n",
       "             47: (3, 44),\n",
       "             48: (6, 42),\n",
       "             49: (6, 43),\n",
       "             50: (10, 40),\n",
       "             51: (10, 41),\n",
       "             52: (10, 42),\n",
       "             53: (10, 43),\n",
       "             54: (10, 44),\n",
       "             55: (11, 44),\n",
       "             56: (2, 54),\n",
       "             57: (2, 55),\n",
       "             58: (3, 55),\n",
       "             59: (6, 53),\n",
       "             60: (10, 50),\n",
       "             61: (10, 51),\n",
       "             62: (10, 52),\n",
       "             63: (10, 53),\n",
       "             64: (10, 54),\n",
       "             65: (10, 55),\n",
       "             66: (11, 55),\n",
       "             67: (2, 65),\n",
       "             68: (2, 66),\n",
       "             69: (3, 66),\n",
       "             70: (10, 60),\n",
       "             71: (10, 61),\n",
       "             72: (10, 62),\n",
       "             73: (10, 63),\n",
       "             74: (10, 64),\n",
       "             75: (10, 65),\n",
       "             76: (10, 66),\n",
       "             77: (11, 66),\n",
       "             78: (2, 76),\n",
       "             79: (2, 77),\n",
       "             80: (10, 70),\n",
       "             81: (10, 71),\n",
       "             82: (10, 72),\n",
       "             83: (10, 73),\n",
       "             84: (10, 74),\n",
       "             85: (10, 75),\n",
       "             86: (10, 76),\n",
       "             87: (10, 77),\n",
       "             88: (11, 77),\n",
       "             89: (2, 87),\n",
       "             90: (10, 80),\n",
       "             91: (10, 81),\n",
       "             92: (10, 82),\n",
       "             93: (10, 83),\n",
       "             94: (10, 84),\n",
       "             95: (10, 85),\n",
       "             96: (10, 86),\n",
       "             97: (10, 87),\n",
       "             98: (10, 88),\n",
       "             99: (11, 88),\n",
       "             100: (10, 90)})"
      ]
     },
     "execution_count": 12,
     "metadata": {},
     "output_type": "execute_result"
    }
   ],
   "source": [
    "solutions"
   ]
  },
  {
   "cell_type": "code",
   "execution_count": 13,
   "metadata": {},
   "outputs": [],
   "source": [
    "def parse_solution(n):\n",
    "    left, right = solutions[n]\n",
    "\n",
    "    if left == 0:\n",
    "        return [right]\n",
    "    else:\n",
    "        return parse_solution(left) + parse_solution(right)"
   ]
  },
  {
   "cell_type": "code",
   "execution_count": 14,
   "metadata": {},
   "outputs": [
    {
     "data": {
      "text/plain": [
       "[2, 10, 11, 11]"
      ]
     },
     "execution_count": 14,
     "metadata": {},
     "output_type": "execute_result"
    }
   ],
   "source": [
    "parse_solution(34)"
   ]
  },
  {
   "cell_type": "markdown",
   "metadata": {},
   "source": [
    "## Edit Distance"
   ]
  },
  {
   "cell_type": "code",
   "execution_count": 15,
   "metadata": {},
   "outputs": [],
   "source": [
    "OP_ADD = 'ADD'\n",
    "OP_DEL = 'DEL'\n",
    "OP_SUB = 'SUB'\n",
    "OP_NONE = 'NONE'"
   ]
  },
  {
   "cell_type": "code",
   "execution_count": 16,
   "metadata": {},
   "outputs": [],
   "source": [
    "ed_solution = {}\n",
    "\n",
    "\n",
    "@lru_cache(2**10)\n",
    "def edit_distance(s1, s2):\n",
    "    \"\"\"\n",
    "    Edit distance\n",
    "    \"\"\"\n",
    "    if len(s1) == 0:return len(s2)\n",
    "\n",
    "    if len(s2) == 0: return len(s1)\n",
    "\n",
    "    tail_s1 = s1[-1]\n",
    "    tail_s2 = s2[-1]\n",
    "\n",
    "    candidates = [\n",
    "        (edit_distance(s1[:-1], s2) + 1, '{} {}'.format(OP_DEL, tail_s1)),\n",
    "        (edit_distance(s1, s2[:-1]) + 1, '{} {}'.format(OP_ADD, tail_s2)),\n",
    "    ]\n",
    "\n",
    "    if tail_s1 == tail_s2:\n",
    "        candidates.append((edit_distance(s1[:-1], s2[:-1]) + 0, '{}'.format(OP_NONE)))\n",
    "    else:\n",
    "        candidates.append((edit_distance(s1[:-1], s2[:-1]) + 1, '{} {} => {}'.format(OP_SUB, tail_s1, tail_s2)))\n",
    "\n",
    "    distance, operation = min(candidates, key=lambda x: x[0])\n",
    "\n",
    "    ed_solution[(s1, s2)] = operation\n",
    "\n",
    "    return distance"
   ]
  },
  {
   "cell_type": "code",
   "execution_count": 17,
   "metadata": {},
   "outputs": [
    {
     "data": {
      "text/plain": [
       "2"
      ]
     },
     "execution_count": 17,
     "metadata": {},
     "output_type": "execute_result"
    }
   ],
   "source": [
    "edit_distance('tets', 'test')"
   ]
  },
  {
   "cell_type": "code",
   "execution_count": 23,
   "metadata": {},
   "outputs": [],
   "source": [
    "def parse_solution(origin_s1, origin_s2):\n",
    "    \"\"\"\n",
    "    Edit distance parse solution.\n",
    "    \"\"\"\n",
    "    \n",
    "    def traverse_soution(s1, s2):\n",
    "        if len(s1) == 0 and len(s2) != 0:\n",
    "            return [(s1, s2, OP_ADD)]\n",
    "\n",
    "        if len(s1) != 0 and len(s2) == 0:\n",
    "            return [(s1, s2, OP_DEL)]\n",
    "\n",
    "        if (s1, s2) not in ed_solution:\n",
    "            return []\n",
    "\n",
    "        solution = ed_solution[(s1, s2)]\n",
    "        op = solution.split()[0]\n",
    "\n",
    "        if op == OP_DEL:\n",
    "            return [(s1, s2, op)] + traverse_soution(s1[:-1], s2)\n",
    "        elif op == OP_ADD:\n",
    "            return [(s1, s2, op)] + traverse_soution(s1, s2[:-1])\n",
    "        elif op == OP_SUB:\n",
    "            return [(s1, s2, op)] + traverse_soution(s1[:-1], s2[:-1])\n",
    "        else:\n",
    "            return [(s1, s2, op)] + traverse_soution(s1[:-1], s2[:-1])\n",
    "\n",
    "    solutions = traverse_soution(origin_s1, origin_s2)\n",
    "\n",
    "    # parse solutions\n",
    "    update_s1 = origin_s1\n",
    "    correct_history = [update_s1]\n",
    "\n",
    "    for sol in solutions:\n",
    "        s1, s2, op = sol\n",
    "        update = False\n",
    "\n",
    "        if op == OP_ADD:\n",
    "            update = True\n",
    "            update_s1 = update_s1[:len(s1)] + s2[-1] + update_s1[len(s1):]\n",
    "        elif op == OP_DEL:\n",
    "            update = True\n",
    "            update_s1 = update_s1[:len(s1)-1] + update_s1[len(s1):]\n",
    "        elif op == OP_SUB:\n",
    "            update_s1 = update_s1[:len(s1)-1] + s2[-1] + update_s1[len(s1):]\n",
    "            update = True\n",
    "\n",
    "        else:\n",
    "            update = False\n",
    "\n",
    "        if update:\n",
    "            correct_history.append(update_s1)\n",
    "\n",
    "    return correct_history"
   ]
  },
  {
   "cell_type": "code",
   "execution_count": 24,
   "metadata": {},
   "outputs": [
    {
     "name": "stdout",
     "output_type": "stream",
     "text": [
      "distance: 1, correct history: teset->test\n"
     ]
    }
   ],
   "source": [
    "distance = edit_distance('teset', 'test')\n",
    "correct_history = parse_solution('teset', 'test')\n",
    "\n",
    "print('distance: {}, correct history: {}'.format(distance, '->'.join(correct_history)))"
   ]
  },
  {
   "cell_type": "code",
   "execution_count": 25,
   "metadata": {},
   "outputs": [],
   "source": [
    "def debug_edit_distance(s1, s2):\n",
    "    distance = edit_distance(s1, s2)\n",
    "    correct_history = parse_solution(s1, s2)\n",
    "\n",
    "    print('distance: {}, correct history: {}'.format(distance, '->'.join(correct_history)))"
   ]
  },
  {
   "cell_type": "code",
   "execution_count": 26,
   "metadata": {},
   "outputs": [
    {
     "name": "stdout",
     "output_type": "stream",
     "text": [
      "distance: 3, correct history: ierachecal->ierachical->ierarchical->hierarchical\n"
     ]
    }
   ],
   "source": [
    "debug_edit_distance('ierachecal', 'hierarchical')"
   ]
  },
  {
   "cell_type": "markdown",
   "metadata": {},
   "source": [
    "## Pinyin Auto Correction Problem"
   ]
  },
  {
   "cell_type": "code",
   "execution_count": 1,
   "metadata": {},
   "outputs": [],
   "source": [
    "chinese_dataset = 'article_9k.txt'"
   ]
  },
  {
   "cell_type": "code",
   "execution_count": 2,
   "metadata": {},
   "outputs": [],
   "source": [
    "CHINESE_CHARACTERS = open(chinese_dataset).read()"
   ]
  },
  {
   "cell_type": "code",
   "execution_count": 67,
   "metadata": {},
   "outputs": [],
   "source": [
    "import pinyin"
   ]
  },
  {
   "cell_type": "code",
   "execution_count": 7,
   "metadata": {},
   "outputs": [
    {
     "data": {
      "text/plain": [
       "'ni hao'"
      ]
     },
     "execution_count": 7,
     "metadata": {},
     "output_type": "execute_result"
    }
   ],
   "source": [
    "pinyin.get('你好', format='strip', delimiter=' ')"
   ]
  },
  {
   "cell_type": "code",
   "execution_count": 13,
   "metadata": {},
   "outputs": [],
   "source": [
    "def chinese_to_pinyin(character):\n",
    "    return pinyin.get(character, format='strip', delimiter=' ')"
   ]
  },
  {
   "cell_type": "code",
   "execution_count": 15,
   "metadata": {},
   "outputs": [
    {
     "data": {
      "text/plain": [
       "'wo xi huan P y t h o n'"
      ]
     },
     "execution_count": 15,
     "metadata": {},
     "output_type": "execute_result"
    }
   ],
   "source": [
    "chinese_to_pinyin('我喜欢Python')"
   ]
  },
  {
   "cell_type": "code",
   "execution_count": 16,
   "metadata": {},
   "outputs": [],
   "source": [
    "CHINESE_PINYIN_COPY = chinese_to_pinyin(CHINESE_CHARACTERS)"
   ]
  },
  {
   "cell_type": "code",
   "execution_count": 19,
   "metadata": {},
   "outputs": [
    {
     "data": {
      "text/plain": [
       "'ci wai zi '"
      ]
     },
     "execution_count": 19,
     "metadata": {},
     "output_type": "execute_result"
    }
   ],
   "source": [
    "CHINESE_PINYIN_COPY[:10]"
   ]
  },
  {
   "cell_type": "code",
   "execution_count": 17,
   "metadata": {},
   "outputs": [],
   "source": [
    "import re"
   ]
  },
  {
   "cell_type": "code",
   "execution_count": 23,
   "metadata": {},
   "outputs": [],
   "source": [
    "def tokens(text):\n",
    "    return re.findall('[a-z]+', text.lower())"
   ]
  },
  {
   "cell_type": "code",
   "execution_count": 26,
   "metadata": {},
   "outputs": [
    {
     "data": {
      "text/plain": [
       "['ci', 'wai', 'zi']"
      ]
     },
     "execution_count": 26,
     "metadata": {},
     "output_type": "execute_result"
    }
   ],
   "source": [
    "tokens(CHINESE_PINYIN_COPY[:10])"
   ]
  },
  {
   "cell_type": "code",
   "execution_count": 27,
   "metadata": {},
   "outputs": [],
   "source": [
    "from collections import Counter, defaultdict"
   ]
  },
  {
   "cell_type": "code",
   "execution_count": 28,
   "metadata": {},
   "outputs": [],
   "source": [
    "PINYIN_COUNT = Counter(tokens(CHINESE_PINYIN_COPY))"
   ]
  },
  {
   "cell_type": "code",
   "execution_count": 48,
   "metadata": {},
   "outputs": [],
   "source": [
    "def splits(word):\n",
    "    \"Return a list of all possible (first, rest) pairs that comprise pinyin.\"\n",
    "    return [(word[:i], word[i:]) \n",
    "            for i in range(len(word)+1)]"
   ]
  },
  {
   "cell_type": "code",
   "execution_count": 113,
   "metadata": {},
   "outputs": [
    {
     "data": {
      "text/plain": [
       "[('', 'pinyin'),\n",
       " ('p', 'inyin'),\n",
       " ('pi', 'nyin'),\n",
       " ('pin', 'yin'),\n",
       " ('piny', 'in'),\n",
       " ('pinyi', 'n'),\n",
       " ('pinyin', '')]"
      ]
     },
     "execution_count": 113,
     "metadata": {},
     "output_type": "execute_result"
    }
   ],
   "source": [
    "splits('pinyin')"
   ]
  },
  {
   "cell_type": "code",
   "execution_count": 116,
   "metadata": {},
   "outputs": [],
   "source": [
    "def edist1(word):\n",
    "    \"\"\"\n",
    "    Return all strings that are one edit away from this pinyin.\n",
    "    \"\"\"\n",
    "    alphabet = 'abcdefghijklmnopqrstuvwxyz'\n",
    "\n",
    "    def get_deletes(pairs):\n",
    "        return [a+b[1:] for (a, b) in pairs if b]\n",
    "\n",
    "    def get_transposes(pairs):\n",
    "        return [a+b[1]+b[0]+b[2:] for (a, b) in pairs if len(b) > 1]\n",
    "\n",
    "    def get_raplces(pairs):\n",
    "        return [a+c+b[1:]  for (a, b) in pairs for c in alphabet if b]\n",
    "\n",
    "    def get_inserts(pairs):\n",
    "        return [a+c+b for (a, b) in pairs for c in alphabet]\n",
    "\n",
    "    pairs      = splits(word)\n",
    "    deletes    = get_deletes(pairs)\n",
    "    transposes = get_transposes(pairs)\n",
    "    replaces   = get_raplces(pairs)\n",
    "    inserts    = get_inserts(pairs)\n",
    "\n",
    "    return set(deletes + transposes + replaces + inserts)"
   ]
  },
  {
   "cell_type": "code",
   "execution_count": 51,
   "metadata": {},
   "outputs": [],
   "source": [
    "def known(words):\n",
    "    return [w for w in words if w in PINYIN_COUNT]"
   ]
  },
  {
   "cell_type": "code",
   "execution_count": 52,
   "metadata": {},
   "outputs": [],
   "source": [
    "def edist0(word):\n",
    "    return {word}\n",
    "\n",
    "def edist2(word):\n",
    "    return {e2 for e1 in edist1(word) for e2 in edist1(e1)}\n",
    "\n",
    "def edist3(word):\n",
    "    return {e3 for e3 in edist2(word)}"
   ]
  },
  {
   "cell_type": "code",
   "execution_count": 104,
   "metadata": {},
   "outputs": [],
   "source": [
    "def correct(word):\n",
    "    \"\"\"\n",
    "    Find the most possible pinyin based on edit distance.\n",
    "    \"\"\"\n",
    "\n",
    "    candidates = (known(edist0(word)) or \n",
    "                  known(edits1(word)) or\n",
    "                  known(edist2(word)) or\n",
    "                 [word])\n",
    "\n",
    "    return max(candidates, key=PINYIN_COUNT.get)    # return the most possible"
   ]
  },
  {
   "cell_type": "code",
   "execution_count": 105,
   "metadata": {},
   "outputs": [
    {
     "data": {
      "text/plain": [
       "'ping'"
      ]
     },
     "execution_count": 105,
     "metadata": {},
     "output_type": "execute_result"
    }
   ],
   "source": [
    "correct('pign')"
   ]
  },
  {
   "cell_type": "code",
   "execution_count": 63,
   "metadata": {},
   "outputs": [],
   "source": [
    "def correct_sequence_pinyin(pinyin_seq):\n",
    "    return ' '.join(map(correct, pinyin_seq.split()))"
   ]
  },
  {
   "cell_type": "code",
   "execution_count": 72,
   "metadata": {},
   "outputs": [
    {
     "data": {
      "text/plain": [
       "'zhe shi yi ge ce shi'"
      ]
     },
     "execution_count": 72,
     "metadata": {},
     "output_type": "execute_result"
    }
   ],
   "source": [
    "correct_sequence_pinyin('zhe sih yi ge ce shi')"
   ]
  },
  {
   "cell_type": "code",
   "execution_count": 108,
   "metadata": {},
   "outputs": [
    {
     "data": {
      "text/plain": [
       "'bai du shi yi jia ren gong zhi neng gong si'"
      ]
     },
     "execution_count": 108,
     "metadata": {},
     "output_type": "execute_result"
    }
   ],
   "source": [
    "correct_sequence_pinyin('bai du shi yi jia ren gogn zhi nng gong si')"
   ]
  }
 ],
 "metadata": {
  "kernelspec": {
   "display_name": "Python 3",
   "language": "python",
   "name": "python3"
  },
  "language_info": {
   "codemirror_mode": {
    "name": "ipython",
    "version": 3
   },
   "file_extension": ".py",
   "mimetype": "text/x-python",
   "name": "python",
   "nbconvert_exporter": "python",
   "pygments_lexer": "ipython3",
   "version": "3.7.5"
  },
  "toc": {
   "base_numbering": 1,
   "nav_menu": {},
   "number_sections": true,
   "sideBar": true,
   "skip_h1_title": false,
   "title_cell": "Table of Contents",
   "title_sidebar": "Contents",
   "toc_cell": false,
   "toc_position": {},
   "toc_section_display": true,
   "toc_window_display": false
  }
 },
 "nbformat": 4,
 "nbformat_minor": 2
}
